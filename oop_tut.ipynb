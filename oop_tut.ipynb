{
 "cells": [
  {
   "cell_type": "code",
   "execution_count": 1,
   "id": "9c6486c3",
   "metadata": {},
   "outputs": [
    {
     "name": "stdout",
     "output_type": "stream",
     "text": [
      "Hello World\n"
     ]
    }
   ],
   "source": [
    " class Hello:                #class\n",
    "      print(\"Hello World\")\n",
    "    \n",
    "obj = Hello()                #object"
   ]
  },
  {
   "cell_type": "code",
   "execution_count": 3,
   "id": "5220aef3",
   "metadata": {},
   "outputs": [
    {
     "name": "stdout",
     "output_type": "stream",
     "text": [
      "Hello World\n"
     ]
    }
   ],
   "source": [
    " class Hello:   \n",
    "    @staticmethod\n",
    "    def hello():\n",
    "      print(\"Hello World\")\n",
    "    \n",
    "obj = Hello() \n",
    "obj.hello()"
   ]
  },
  {
   "cell_type": "code",
   "execution_count": 4,
   "id": "aa180acb",
   "metadata": {},
   "outputs": [
    {
     "name": "stdout",
     "output_type": "stream",
     "text": [
      "Hello World\n"
     ]
    }
   ],
   "source": [
    " class Hello:   \n",
    "    \n",
    "    def hello(self):\n",
    "      print(\"Hello World\")\n",
    "    \n",
    "obj = Hello() \n",
    "obj.hello()"
   ]
  },
  {
   "cell_type": "code",
   "execution_count": 7,
   "id": "fce3a041",
   "metadata": {},
   "outputs": [
    {
     "name": "stdout",
     "output_type": "stream",
     "text": [
      "50\n",
      "100\n"
     ]
    }
   ],
   "source": [
    "class Area:\n",
    "    @staticmethod\n",
    "    def area():\n",
    "        l=10\n",
    "        b=5\n",
    "        return l*b\n",
    "class Volume: \n",
    "    def volume(self,l,b,h):\n",
    "        v=l*b*h\n",
    "        return v\n",
    "    \n",
    "obj=Area()\n",
    "obj1=Volume()\n",
    "print(obj.area())\n",
    "print(obj.volume(10,5,2)) \n",
    "  \n"
   ]
  },
  {
   "cell_type": "code",
   "execution_count": 12,
   "id": "ec50cfbc",
   "metadata": {},
   "outputs": [
    {
     "name": "stdout",
     "output_type": "stream",
     "text": [
      "50\n",
      "100\n"
     ]
    }
   ],
   "source": [
    "class Cal:\n",
    "    @staticmethod\n",
    "    def area():\n",
    "        l=10\n",
    "        b=5\n",
    "        return l*b\n",
    "    \n",
    "    def volume(self,l,b,h):\n",
    "        v=l*b*h\n",
    "        return v\n",
    "    \n",
    "obj=Cal()\n",
    "print(obj.area())\n",
    "print(obj.volume(10,5,2)) \n",
    "  "
   ]
  },
  {
   "cell_type": "code",
   "execution_count": 16,
   "id": "c8fcc3cb",
   "metadata": {},
   "outputs": [
    {
     "name": "stdout",
     "output_type": "stream",
     "text": [
      "50\n",
      "100\n"
     ]
    }
   ],
   "source": [
    "class Cal:\n",
    "    def __init__(self,l,b,h):\n",
    "        #attributes\n",
    "        self.l=l\n",
    "        self.b=b\n",
    "        self.h=h\n",
    "\n",
    "    def area(self):\n",
    "        return self.l*self.b\n",
    "    \n",
    "    def volume(self):\n",
    "        v=self.l*self.b*self.h\n",
    "        return v\n",
    "    \n",
    "obj=Cal(10,5,2)\n",
    "print(obj.area())\n",
    "print(obj.volume()) \n"
   ]
  },
  {
   "cell_type": "code",
   "execution_count": 17,
   "id": "cd39ce72",
   "metadata": {},
   "outputs": [
    {
     "name": "stdout",
     "output_type": "stream",
     "text": [
      "50\n",
      "100\n"
     ]
    }
   ],
   "source": [
    "class Cal:\n",
    "    def __init__(self,l,b,h):\n",
    "        #attributes\n",
    "        self.l=l\n",
    "        self.b=b\n",
    "        \n",
    "\n",
    "    def area(self):\n",
    "        return self.l*self.b\n",
    "    \n",
    "    def volume(self,h):\n",
    "        v=self.l*self.b*h\n",
    "        return v\n",
    "    \n",
    "obj=Cal(10,5,2)\n",
    "print(obj.area())\n",
    "print(obj.volume(2)) \n"
   ]
  },
  {
   "cell_type": "code",
   "execution_count": 19,
   "id": "f66dc1ac",
   "metadata": {},
   "outputs": [
    {
     "name": "stdout",
     "output_type": "stream",
     "text": [
      "Enter length=10\n",
      "Enter length=5\n",
      "Enter length=3\n",
      "50\n",
      "150\n"
     ]
    }
   ],
   "source": [
    "class Cal:\n",
    "    def __init__(self):\n",
    "        #attributes\n",
    "        self.l=int(input(\"Enter l=\"))\n",
    "        self.b=int(input(\"Enter b=\"))\n",
    "        self.h=int(input(\"Enter h=\"))\n",
    "\n",
    "    def area(self):\n",
    "        return self.l*self.b\n",
    "    \n",
    "    def volume(self):\n",
    "        v=self.l*self.b*self.h\n",
    "        return v\n",
    "    \n",
    "obj=Cal()\n",
    "print(obj.area())\n",
    "print(obj.volume()) \n"
   ]
  },
  {
   "cell_type": "code",
   "execution_count": null,
   "id": "f997ad79",
   "metadata": {},
   "outputs": [],
   "source": []
  }
 ],
 "metadata": {
  "kernelspec": {
   "display_name": "Python 3 (ipykernel)",
   "language": "python",
   "name": "python3"
  },
  "language_info": {
   "codemirror_mode": {
    "name": "ipython",
    "version": 3
   },
   "file_extension": ".py",
   "mimetype": "text/x-python",
   "name": "python",
   "nbconvert_exporter": "python",
   "pygments_lexer": "ipython3",
   "version": "3.9.12"
  }
 },
 "nbformat": 4,
 "nbformat_minor": 5
}
