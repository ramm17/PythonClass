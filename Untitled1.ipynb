{
 "cells": [
  {
   "cell_type": "code",
   "execution_count": 2,
   "id": "bd510598",
   "metadata": {},
   "outputs": [
    {
     "name": "stderr",
     "output_type": "stream",
     "text": [
      "D:\\Progam file\\Anaconda\\lib\\site-packages\\bs4\\__init__.py:404: MarkupResemblesLocatorWarning: The input looks more like a URL than markup. You may want to use an HTTP client like requests to get the document behind the URL, and feed that document to Beautiful Soup.\n",
      "  warnings.warn(\n"
     ]
    },
    {
     "data": {
      "text/plain": [
       "<Response [200]>"
      ]
     },
     "execution_count": 2,
     "metadata": {},
     "output_type": "execute_result"
    }
   ],
   "source": [
    "from bs4 import BeautifulSoup\n",
    "import requests\n",
    "url=BeautifulSoup('http://www.nepalstock.com/floorsheet','html.parser')\n",
    "soup=requests.get(url)\n",
    "soup"
   ]
  },
  {
   "cell_type": "code",
   "execution_count": 3,
   "id": "7c822a29",
   "metadata": {},
   "outputs": [
    {
     "data": {
      "text/plain": [
       "<!DOCTYPE HTML>\n",
       "<html>\n",
       "<head>\n",
       "<meta content=\"text/html; charset=utf-8\" http-equiv=\"Content-Type\"/>\n",
       "<meta content=\"width=device-width, initial-scale=1\" name=\"viewport\"/>\n",
       "<title>Nepal Stock Exchange Ltd.</title>\n",
       "<meta content=\"NEPSE Official Website\" name=\"title\"/>\n",
       "<meta content=\"This is NEPSE Official Website\" http-equiv=\"description\" name=\"description\"/>\n",
       "<meta content=\"This is NEPSE Official Website\" http-equiv=\"keywords\" name=\"keywords\"/>\n",
       "<link href=\"/favicon.ico\" rel=\"shortcut icon\" type=\"image/x-icon\"/>\n",
       "<link href=\"/favicon.ico\" rel=\"icon\" type=\"image/x-icon\"/>\n",
       "<!-- Bootstrap core CSS -->\n",
       "<link href=\"http://www.nepalstock.com/css/reset.css\" rel=\"stylesheet\"/>\n",
       "<link href=\"http://www.nepalstock.com/css/bootstrap.css\" rel=\"stylesheet\"/>\n",
       "<link href=\"http://www.nepalstock.com/js/ui/theme/orange.css\" rel=\"stylesheet\" type=\"text/css\"/>\n",
       "<!-- Custom styles for this template -->\n",
       "<link href=\"http://www.nepalstock.com/css/style.css\" rel=\"stylesheet\"/>\n",
       "<link href=\"http://fonts.googleapis.com/css?family=Merriweather+Sans:400,800\" rel=\"stylesheet\" type=\"text/css\"/>\n",
       "<!-- Just for debugging purposes. Don't actually copy this line! -->\n",
       "<!--[if lt IE 9]><script src=\"../../docs-assets/js/ie8-responsive-file-warning.js\"></script><![endif]-->\n",
       "<!-- HTML5 shim and Respond.js IE8 support of HTML5 elements and media queries -->\n",
       "<!--[if lt IE 9]>\n",
       "          <script src=\"https://oss.maxcdn.com/libs/html5shiv/3.7.0/html5shiv.js\"></script>\n",
       "          <script src=\"https://oss.maxcdn.com/libs/respond.js/1.3.0/respond.min.js\"></script>\n",
       "        <![endif]-->\n",
       "<script src=\"http://www.nepalstock.com/js/jquery-1.7.1.min.js\" type=\"text/javascript\"></script>\n",
       "<script src=\"http://www.nepalstock.com/js/ui/ui.core.min.js\" type=\"text/javascript\"></script> <link href=\"http://www.nepalstock.com/js/ui/theme/orange.css\" rel=\"stylesheet\" type=\"text/css\"/> <script src=\"http://www.nepalstock.com/js/ui/jquery-ui-1.7.1.min.js\" type=\"text/javascript\"></script>\n",
       "<script charset=\"utf-8\" src=\"http://www.nepalstock.com/js/slides.min.jquery.js\" type=\"text/javascript\"></script>\n",
       "<script charset=\"utf-8\" src=\"http://www.nepalstock.com/js/jquery.innerfade.js\" type=\"text/javascript\"></script>\n",
       "<script src=\"http://www.nepalstock.com/js/ckeditor/ckeditor.js\" type=\"text/javascript\"></script>\n",
       "<script src=\"http://www.nepalstock.com/js/facebox/facebox.js\" type=\"text/javascript\"></script>\n",
       "<script language=\"javascript\" src=\"http://www.nepalstock.com/js/utils.js\" type=\"text/javascript\"></script>\n",
       "<script language=\"javascript\" src=\"http://www.nepalstock.com/js/jquery-marquee.js\" type=\"text/javascript\"></script>\n",
       "<script language=\"javascript\" src=\"http://www.nepalstock.com/js/bootstrap/datepicker/js/bootstrap-datepicker.js\" type=\"text/javascript\"></script>\n",
       "<link href=\"http://www.nepalstock.com/js/bootstrap/datepicker/css/datepicker.css\" rel=\"stylesheet\" type=\"text/css\"/>\n",
       "<link href=\"http://www.nepalstock.com/js/superfish/css/menu-responsive.css\" rel=\"stylesheet\" type=\"text/css\"/>\n",
       "<link href=\"http://www.nepalstock.com/js/superfish/css/superfish.css\" rel=\"stylesheet\" type=\"text/css\"/>\n",
       "<script src=\"http://www.nepalstock.com/js/superfish/js/hoverIntent.js\" type=\"text/javascript\"></script>\n",
       "<script src=\"http://www.nepalstock.com/js/superfish/js/superfish.js\" type=\"text/javascript\"></script>\n",
       "<script src=\"http://www.nepalstock.com/js/jquery.tools.min.js\" type=\"text/javascript\"></script>\n",
       "<link href=\"http://www.nepalstock.com/css/overlay.css\" media=\"all\" rel=\"stylesheet\" type=\"text/css\"/>\n",
       "</head>\n",
       "<body>\n",
       "<div class=\"hidden-xs\" id=\"fixed_icons\">\n",
       "<a href=\"http://twitter.com\" id=\"twitter\" target=\"_blank\" title=\"Follow us on Twitter\"></a>\n",
       "<a href=\"http://facebook.com\" id=\"facebook\" target=\"_blank\" title=\"Find us on Facebook\"></a>\n",
       "</div>\n",
       "<!-- Start Top Navigation Bar -->\n",
       "<div class=\"navbar navbar-inverse navbar-fixed-top\" role=\"navigation\">\n",
       "<div class=\"container\">\n",
       "<div class=\"navbar-header\">\n",
       "<button class=\"navbar-toggle\" data-target=\".navbar-collapse\" data-toggle=\"collapse\" type=\"button\">\n",
       "<span class=\"sr-only\">Toggle navigation</span>\n",
       "<span class=\"icon-bar\"></span>\n",
       "<span class=\"icon-bar\"></span>\n",
       "<span class=\"icon-bar\"></span>\n",
       "<span class=\"icon-bar\"></span>\n",
       "<span class=\"icon-bar\"></span>\n",
       "</button>\n",
       "</div>\n",
       "<div class=\"collapse navbar-collapse\">\n",
       "<ul class=\"nav navbar-nav pull-right col-xs-12\" id=\"top-nav-bar\">\n",
       "<li><a href=\"http://www.nepalstock.com/\">Home</a></li>\n",
       "<li><a href=\"http://www.nepalstock.com/marketdepth\">Marketdepth</a></li>\n",
       "<li><a href=\"http://www.nepalstock.com/todaysprice\">Today's Price</a></li>\n",
       "<li><a href=\"http://www.nepalstock.com/floorsheet\">Floor Sheet</a></li>\n",
       "<li><a href=\"http://www.nepalstock.com/company\">Listed Companies</a></li>\n",
       "<li><a href=\"http://www.nepalstock.com/downloads\">Downloads</a></li>\n",
       "<li><a href=\"http://www.nepalstock.com/about-us/contact-us\">Contact Us</a></li>\n",
       "<li class=\"dropdown\">\n",
       "<!--                                <a class=\"dropdown-toggle\" href=\"#\" data-toggle=\"dropdown\">Company Log In <strong class=\"caret\"></strong></a>-->\n",
       "<a href=\"http://www.nepalstock.com//login\">Company Log In</a>\n",
       "<div class=\"dropdown-menu\" style=\"padding: 15px; padding-bottom: 0px;\">\n",
       "<!-- Login form here -->\n",
       "<form accept-charset=\"UTF-8\" action=\"http://www.nepalstock.com/company/login\" method=\"post\">\n",
       "<div class=\"form-group\" style=\"min-width: 300px;\">\n",
       "<select class=\"form-control\" id=\"symbol-login\" name=\"symbol\">\n",
       "<option>Company Symbol</option>\n",
       "<option value=\"ACLBSL\">ACLBSL</option><option value=\"ADBL\">ADBL</option><option value=\"ADBLB\">ADBLB</option><option value=\"ADBLB86\">ADBLB86</option><option value=\"ADBLB87\">ADBLB87</option><option value=\"ADBLD83\">ADBLD83</option><option value=\"ADLB\">ADLB</option><option value=\"AHPC\">AHPC</option><option value=\"AIL\">AIL</option><option value=\"AKBSL\">AKBSL</option><option value=\"AKBSLP\">AKBSLP</option><option value=\"AKJCL\">AKJCL</option><option value=\"AKPL\">AKPL</option><option value=\"ALBSL\">ALBSL</option><option value=\"ALBSLP\">ALBSLP</option><option value=\"ALICL\">ALICL</option><option value=\"ALICLP\">ALICLP</option><option value=\"AMFI\">AMFI</option><option value=\"AMFIPO\">AMFIPO</option><option value=\"API\">API</option><option value=\"AVU\">AVU</option><option value=\"AVYAN\">AVYAN</option><option value=\"BARUN\">BARUN</option><option value=\"BBC\">BBC</option><option value=\"BFC\">BFC</option><option value=\"BFCPO\">BFCPO</option><option value=\"BFLPO\">BFLPO</option><option value=\"BHBL\">BHBL</option><option value=\"BHBLPO\">BHBLPO</option><option value=\"BHDC\">BHDC</option><option value=\"BHL\">BHL</option><option value=\"BNHC\">BNHC</option><option value=\"BNL\">BNL</option><option value=\"BNT\">BNT</option><option value=\"BOKD2079\">BOKD2079</option><option value=\"BOKD86\">BOKD86</option><option value=\"BOKL\">BOKL</option><option value=\"BOKLPO\">BOKLPO</option><option value=\"BPCL\">BPCL</option><option value=\"BSBLPO\">BSBLPO</option><option value=\"BSL\">BSL</option><option value=\"BSM\">BSM</option><option value=\"CBBL\">CBBL</option><option value=\"CBBLPO\">CBBLPO</option><option value=\"CBL\">CBL</option><option value=\"CBLD88\">CBLD88</option><option value=\"CBLPO\">CBLPO</option><option value=\"CCBD88\">CCBD88</option><option value=\"CCBL\">CCBL</option><option value=\"CCBLPO\">CCBLPO</option><option value=\"CEFL\">CEFL</option><option value=\"CEFLPO\">CEFLPO</option><option value=\"CFCL\">CFCL</option><option value=\"CFCLPO\">CFCLPO</option><option value=\"CFL\">CFL</option><option value=\"CGH\">CGH</option><option value=\"CHCL\">CHCL</option><option value=\"CHDC\">CHDC</option><option value=\"CHL\">CHL</option><option value=\"CIT\">CIT</option><option value=\"CIZBD86\">CIZBD86</option><option value=\"CLBSL\">CLBSL</option><option value=\"CLBSLP\">CLBSLP</option><option value=\"CMB\">CMB</option><option value=\"CMBFLP\">CMBFLP</option><option value=\"CMF1\">CMF1</option><option value=\"CMF2\">CMF2</option><option value=\"CORBL\">CORBL</option><option value=\"CORBLP\">CORBLP</option><option value=\"CYCL\">CYCL</option><option value=\"CZBIL\">CZBIL</option><option value=\"CZBILP\">CZBILP</option><option value=\"DDBL\">DDBL</option><option value=\"DDBLPO\">DDBLPO</option><option value=\"DHPL\">DHPL</option><option value=\"DLBS\">DLBS</option><option value=\"DORDI\">DORDI</option><option value=\"EBL\">EBL</option><option value=\"EBLCP\">EBLCP</option><option value=\"EBLPO\">EBLPO</option><option value=\"EDBL\">EDBL</option><option value=\"EDBLPO\">EDBLPO</option><option value=\"EIC\">EIC</option><option value=\"EICPO\">EICPO</option><option value=\"ENL\">ENL</option><option value=\"FBBLPO\">FBBLPO</option><option value=\"FHL\">FHL</option><option value=\"FMDBL\">FMDBL</option><option value=\"FMDBLP\">FMDBLP</option><option value=\"FOWAD\">FOWAD</option><option value=\"FOWADP\">FOWADP</option><option value=\"GBBD85\">GBBD85</option><option value=\"GBBL\">GBBL</option><option value=\"GBBLPO\">GBBLPO</option><option value=\"GBD80/81\">GBD80/81</option><option value=\"GBILD86/87\">GBILD86/87</option><option value=\"GBIME\">GBIME</option><option value=\"GBIMEP\">GBIMEP</option><option value=\"GBLBS\">GBLBS</option><option value=\"GBLBSP\">GBLBSP</option><option value=\"GDBL\">GDBL</option><option value=\"GDBLPO\">GDBLPO</option><option value=\"GFCL\">GFCL</option><option value=\"GFCLPO\">GFCLPO</option><option value=\"GGBSL\">GGBSL</option><option value=\"GHL\">GHL</option><option value=\"GIC\">GIC</option><option value=\"GILB\">GILB</option><option value=\"GILBPO\">GILBPO</option><option value=\"GIMES1\">GIMES1</option><option value=\"GLBSL\">GLBSL</option><option value=\"GLH\">GLH</option><option value=\"GLICL\">GLICL</option><option value=\"GLICLP\">GLICLP</option><option value=\"GMFBS\">GMFBS</option><option value=\"GMFIL\">GMFIL</option><option value=\"GMFILP\">GMFILP</option><option value=\"GRDBL\">GRDBL</option><option value=\"GRDBLP\">GRDBLP</option><option value=\"GRU\">GRU</option><option value=\"GUFL\">GUFL</option><option value=\"GUFLPO\">GUFLPO</option><option value=\"GVL\">GVL</option><option value=\"GWFD83\">GWFD83</option><option value=\"HAMRO\">HAMRO</option><option value=\"HAMROP\">HAMROP</option><option value=\"HATH\">HATH</option><option value=\"HATHPO\">HATHPO</option><option value=\"HBL\">HBL</option><option value=\"HBLD83\">HBLD83</option><option value=\"HBLPO\">HBLPO</option><option value=\"HBT\">HBT</option><option value=\"HDHPC\">HDHPC</option><option value=\"HDL\">HDL</option><option value=\"HEI\">HEI</option><option value=\"HEIP\">HEIP</option><option value=\"HFL\">HFL</option><option value=\"HHL\">HHL</option><option value=\"HIDCL\">HIDCL</option><option value=\"HIDCLP\">HIDCLP</option><option value=\"HPPL\">HPPL</option><option value=\"HURJA\">HURJA</option><option value=\"ICFC\">ICFC</option><option value=\"ICFCD83\">ICFCD83</option><option value=\"ICFCPO\">ICFCPO</option><option value=\"IGI\">IGI</option><option value=\"IGIPO\">IGIPO</option><option value=\"ILBS\">ILBS</option><option value=\"JALPA\">JALPA</option><option value=\"JBBD87\">JBBD87</option><option value=\"JBBL\">JBBL</option><option value=\"JBBLPO\">JBBLPO</option><option value=\"JBLB\">JBLB</option><option value=\"JBLBP\">JBLBP</option><option value=\"JBNL\">JBNL</option><option value=\"JBNLPO\">JBNLPO</option><option value=\"JFL\">JFL</option><option value=\"JFLPO\">JFLPO</option><option value=\"JLI\">JLI</option><option value=\"JOSHI\">JOSHI</option><option value=\"JSLBB\">JSLBB</option><option value=\"JSLBBP\">JSLBBP</option><option value=\"JSM\">JSM</option><option value=\"KBL\">KBL</option><option value=\"KBLD86\">KBLD86</option><option value=\"KBLPO\">KBLPO</option><option value=\"KDBY\">KDBY</option><option value=\"KEF\">KEF</option><option value=\"KKHC\">KKHC</option><option value=\"KLBSL\">KLBSL</option><option value=\"KLBSLP\">KLBSLP</option><option value=\"KMCDB\">KMCDB</option><option value=\"KMCDBP\">KMCDBP</option><option value=\"KNBL\">KNBL</option><option value=\"KNBLPO\">KNBLPO</option><option value=\"KPCL\">KPCL</option><option value=\"KRBL\">KRBL</option><option value=\"KRBLPO\">KRBLPO</option><option value=\"KSBBL\">KSBBL</option><option value=\"KSBBLD87\">KSBBLD87</option><option value=\"KSBBLP\">KSBBLP</option><option value=\"LBBL\">LBBL</option><option value=\"LBBLPO\">LBBLPO</option><option value=\"LBL\">LBL</option><option value=\"LBLD86\">LBLD86</option><option value=\"LBLD88\">LBLD88</option><option value=\"LBLPO\">LBLPO</option><option value=\"LEC\">LEC</option><option value=\"LEMF\">LEMF</option><option value=\"LFC\">LFC</option><option value=\"LFCPO\">LFCPO</option><option value=\"LGIL\">LGIL</option><option value=\"LGILPO\">LGILPO</option><option value=\"LICN\">LICN</option><option value=\"LICNPO\">LICNPO</option><option value=\"LLBS\">LLBS</option><option value=\"LLBSPO\">LLBSPO</option><option value=\"LUK\">LUK</option><option value=\"MBJC\">MBJC</option><option value=\"MBL\">MBL</option><option value=\"MBLD2085\">MBLD2085</option><option value=\"MBLD87\">MBLD87</option><option value=\"MBLPO\">MBLPO</option><option value=\"MDB\">MDB</option><option value=\"MDBLPO\">MDBLPO</option><option value=\"MDBPO\">MDBPO</option><option value=\"MEGA\">MEGA</option><option value=\"MEGAPO\">MEGAPO</option><option value=\"MEN\">MEN</option><option value=\"MERO\">MERO</option><option value=\"MEROPO\">MEROPO</option><option value=\"MFIL\">MFIL</option><option value=\"MFILPO\">MFILPO</option><option value=\"MFLD85\">MFLD85</option><option value=\"MHL\">MHL</option><option value=\"MHNL\">MHNL</option><option value=\"MKJC\">MKJC</option><option value=\"MKLB\">MKLB</option><option value=\"MLBBL\">MLBBL</option><option value=\"MLBBLP\">MLBBLP</option><option value=\"MLBL\">MLBL</option><option value=\"MLBLPO\">MLBLPO</option><option value=\"MLBS\">MLBS</option><option value=\"MLBSL\">MLBSL</option><option value=\"MMF1\">MMF1</option><option value=\"MMFDB\">MMFDB</option><option value=\"MMFDBP\">MMFDBP</option><option value=\"MNBBL\">MNBBL</option><option value=\"MNBBLP\">MNBBLP</option><option value=\"MND84/85\">MND84/85</option><option value=\"MPFL\">MPFL</option><option value=\"MPFLPO\">MPFLPO</option><option value=\"MSLB\">MSLB</option><option value=\"MSLBP\">MSLBP</option><option value=\"MSMBS\">MSMBS</option><option value=\"MSMBSP\">MSMBSP</option><option value=\"NABBC\">NABBC</option><option value=\"NABIL\">NABIL</option><option value=\"NABILP\">NABILP</option><option value=\"NADEP\">NADEP</option><option value=\"NADEPP\">NADEPP</option><option value=\"NAGRO\">NAGRO</option><option value=\"NBB\">NBB</option><option value=\"NBBD2085\">NBBD2085</option><option value=\"NBBPO\">NBBPO</option><option value=\"NBBU\">NBBU</option><option value=\"NBF2\">NBF2</option><option value=\"NBF3\">NBF3</option><option value=\"NBL\">NBL</option><option value=\"NBLD82\">NBLD82</option><option value=\"NBLD85\">NBLD85</option><option value=\"NBLD87\">NBLD87</option><option value=\"NCCB\">NCCB</option><option value=\"NCCBPO\">NCCBPO</option><option value=\"NCCD86\">NCCD86</option><option value=\"NEF\">NEF</option><option value=\"NESDO\">NESDO</option><option value=\"NFD\">NFD</option><option value=\"NFS\">NFS</option><option value=\"NFSPO\">NFSPO</option><option value=\"NGPL\">NGPL</option><option value=\"NHDL\">NHDL</option><option value=\"NHPC\">NHPC</option><option value=\"NIB\">NIB</option><option value=\"NIBD2082\">NIBD2082</option><option value=\"NIBD84\">NIBD84</option><option value=\"NIBLPF\">NIBLPF</option><option value=\"NIBPO\">NIBPO</option><option value=\"NIBSF2\">NIBSF2</option><option value=\"NICA\">NICA</option><option value=\"NICAD 85/86\">NICAD 85/86</option><option value=\"NICAD8182\">NICAD8182</option><option value=\"NICAD8283\">NICAD8283</option><option value=\"NICAP\">NICAP</option><option value=\"NICBF\">NICBF</option><option value=\"NICD83/84\">NICD83/84</option><option value=\"NICD88\">NICD88</option><option value=\"NICFC\">NICFC</option><option value=\"NICGF\">NICGF</option><option value=\"NICL\">NICL</option><option value=\"NICLBSL\">NICLBSL</option><option value=\"NICLPO\">NICLPO</option><option value=\"NICSF\">NICSF</option><option value=\"NIDC\">NIDC</option><option value=\"NIDCPO\">NIDCPO</option><option value=\"NIFRA\">NIFRA</option><option value=\"NIL\">NIL</option><option value=\"NILPO\">NILPO</option><option value=\"NKU\">NKU</option><option value=\"NLBBL\">NLBBL</option><option value=\"NLBBLP\">NLBBLP</option><option value=\"NLG\">NLG</option><option value=\"NLGPO\">NLGPO</option><option value=\"NLIC\">NLIC</option><option value=\"NLICL\">NLICL</option><option value=\"NLICLP\">NLICLP</option><option value=\"NLICP\">NLICP</option><option value=\"NLO\">NLO</option><option value=\"NMB\">NMB</option><option value=\"NMB50\">NMB50</option><option value=\"NMBD2085\">NMBD2085</option><option value=\"NMBD87/88\">NMBD87/88</option><option value=\"NMBEB92/93\">NMBEB92/93</option><option value=\"NMBHF1\">NMBHF1</option><option value=\"NMBMF\">NMBMF</option><option value=\"NMBMFP\">NMBMFP</option><option value=\"NMBPO\">NMBPO</option><option value=\"NMFBS\">NMFBS</option><option value=\"NMFBSP\">NMFBSP</option><option value=\"NRIC\">NRIC</option><option value=\"NRN\">NRN</option><option value=\"NSLB\">NSLB</option><option value=\"NSLBP\">NSLBP</option><option value=\"NSM\">NSM</option><option value=\"NSMPO\">NSMPO</option><option value=\"NTC\">NTC</option><option value=\"NTL\">NTL</option><option value=\"NUBL\">NUBL</option><option value=\"NUBLPO\">NUBLPO</option><option value=\"NVG\">NVG</option><option value=\"NWC\">NWC</option><option value=\"NYADI\">NYADI</option><option value=\"ODBL\">ODBL</option><option value=\"ODBLPO\">ODBLPO</option><option value=\"OHL\">OHL</option><option value=\"PBD84\">PBD84</option><option value=\"PBD85\">PBD85</option><option value=\"PBD88\">PBD88</option><option value=\"PBLD84\">PBLD84</option><option value=\"PBLD86\">PBLD86</option><option value=\"PBLD87\">PBLD87</option><option value=\"PCBL\">PCBL</option><option value=\"PCBLP\">PCBLP</option><option value=\"PDBLPO\">PDBLPO</option><option value=\"PFL\">PFL</option><option value=\"PFLPO\">PFLPO</option><option value=\"PIC\">PIC</option><option value=\"PICL\">PICL</option><option value=\"PICLPO\">PICLPO</option><option value=\"PICPO\">PICPO</option><option value=\"PLI\">PLI</option><option value=\"PLIC\">PLIC</option><option value=\"PLICPO\">PLICPO</option><option value=\"PMHPL\">PMHPL</option><option value=\"PPCL\">PPCL</option><option value=\"PPL\">PPL</option><option value=\"PRFLPO\">PRFLPO</option><option value=\"PRIN\">PRIN</option><option value=\"PRINPO\">PRINPO</option><option value=\"PROFL\">PROFL</option><option value=\"PROFLP\">PROFLP</option><option value=\"PRVU\">PRVU</option><option value=\"PRVUPO\">PRVUPO</option><option value=\"PSDBLP\">PSDBLP</option><option value=\"PSF\">PSF</option><option value=\"RADHI\">RADHI</option><option value=\"RBBD83\">RBBD83</option><option value=\"RBCL\">RBCL</option><option value=\"RBCLPO\">RBCLPO</option><option value=\"RFPL\">RFPL</option><option value=\"RHGCL\">RHGCL</option><option value=\"RHPL\">RHPL</option><option value=\"RIDI\">RIDI</option><option value=\"RJM\">RJM</option><option value=\"RLFL\">RLFL</option><option value=\"RLFLPO\">RLFLPO</option><option value=\"RLI\">RLI</option><option value=\"RMBFPO\">RMBFPO</option><option value=\"RMDC\">RMDC</option><option value=\"RMDCPO\">RMDCPO</option><option value=\"RMF1\">RMF1</option><option value=\"RRHP\">RRHP</option><option value=\"RSDC\">RSDC</option><option value=\"RSDCP\">RSDCP</option><option value=\"RULB\">RULB</option><option value=\"RURU\">RURU</option><option value=\"SABSL\">SABSL</option><option value=\"SADBL\">SADBL</option><option value=\"SADBLP\">SADBLP</option><option value=\"SAEF\">SAEF</option><option value=\"SAHAS\">SAHAS</option><option value=\"SAMAJ\">SAMAJ</option><option value=\"SAND2085\">SAND2085</option><option value=\"SANIMA\">SANIMA</option><option value=\"SAPDBL\">SAPDBL</option><option value=\"SAPDBLP\">SAPDBLP</option><option value=\"SBBLJ\">SBBLJ</option><option value=\"SBBLJP\">SBBLJP</option><option value=\"SBBLPO\">SBBLPO</option><option value=\"SBCF\">SBCF</option><option value=\"SBD87\">SBD87</option><option value=\"SBI\">SBI</option><option value=\"SBIBD86\">SBIBD86</option><option value=\"SBIPO\">SBIPO</option><option value=\"SBL\">SBL</option><option value=\"SBLD2082\">SBLD2082</option><option value=\"SBLD83\">SBLD83</option><option value=\"SBLD84\">SBLD84</option><option value=\"SBLPO\">SBLPO</option><option value=\"SBPP\">SBPP</option><option value=\"SCB\">SCB</option><option value=\"SCBPO\">SCBPO</option><option value=\"SDBD87\">SDBD87</option><option value=\"SDESI\">SDESI</option><option value=\"SDLBSL\">SDLBSL</option><option value=\"SEF\">SEF</option><option value=\"SEOS\">SEOS</option><option value=\"SFC\">SFC</option><option value=\"SFCL\">SFCL</option><option value=\"SFCLP\">SFCLP</option><option value=\"SFCPO\">SFCPO</option><option value=\"SFFIL\">SFFIL</option><option value=\"SFFILP\">SFFILP</option><option value=\"SFMF\">SFMF</option><option value=\"SGHC\">SGHC</option><option value=\"SGI\">SGI</option><option value=\"SHBL\">SHBL</option><option value=\"SHBLPO\">SHBLPO</option><option value=\"SHEL\">SHEL</option><option value=\"SHINE\">SHINE</option><option value=\"SHINEP\">SHINEP</option><option value=\"SHIVM\">SHIVM</option><option value=\"SHL\">SHL</option><option value=\"SHPC\">SHPC</option><option value=\"SIC\">SIC</option><option value=\"SICL\">SICL</option><option value=\"SICLPO\">SICLPO</option><option value=\"SICPO\">SICPO</option><option value=\"SIFC\">SIFC</option><option value=\"SIFCPO\">SIFCPO</option><option value=\"SIGS2\">SIGS2</option><option value=\"SIL\">SIL</option><option value=\"SILPO\">SILPO</option><option value=\"SINDU\">SINDU</option><option value=\"SINDUP\">SINDUP</option><option value=\"SJCL\">SJCL</option><option value=\"SKBBL\">SKBBL</option><option value=\"SKBBLP\">SKBBLP</option><option value=\"SLBBL\">SLBBL</option><option value=\"SLBBLP\">SLBBLP</option><option value=\"SLBS\">SLBS</option><option value=\"SLBSL\">SLBSL</option><option value=\"SLBSP\">SLBSP</option><option value=\"SLCF\">SLCF</option><option value=\"SLI\">SLI</option><option value=\"SLICL\">SLICL</option><option value=\"SLICLP\">SLICLP</option><option value=\"SMATA\">SMATA</option><option value=\"SMATAP\">SMATAP</option><option value=\"SMB\">SMB</option><option value=\"SMBPO\">SMBPO</option><option value=\"SMFBS\">SMFBS</option><option value=\"SMFDB\">SMFDB</option><option value=\"SMFDBP\">SMFDBP</option><option value=\"SODBLP\">SODBLP</option><option value=\"SPARS\">SPARS</option><option value=\"SPC\">SPC</option><option value=\"SPDL\">SPDL</option><option value=\"SPHL\">SPHL</option><option value=\"SRBL\">SRBL</option><option value=\"SRBLD83\">SRBLD83</option><option value=\"SRBLPO\">SRBLPO</option><option value=\"SRD80\">SRD80</option><option value=\"SRS\">SRS</option><option value=\"SSHL\">SSHL</option><option value=\"STC\">STC</option><option value=\"SWBBL\">SWBBL</option><option value=\"SWBBLP\">SWBBLP</option><option value=\"SWMF\">SWMF</option><option value=\"SWMFPO\">SWMFPO</option><option value=\"SYFL\">SYFL</option><option value=\"SYFLPO\">SYFLPO</option><option value=\"TMDBL\">TMDBL</option><option value=\"TMDBLP\">TMDBLP</option><option value=\"TPC\">TPC</option><option value=\"TRH\">TRH</option><option value=\"UFL\">UFL</option><option value=\"UFLPO\">UFLPO</option><option value=\"UHEWA\">UHEWA</option><option value=\"UIC\">UIC</option><option value=\"UICPO\">UICPO</option><option value=\"ULBSL\">ULBSL</option><option value=\"ULI\">ULI</option><option value=\"UMHL\">UMHL</option><option value=\"UMRH\">UMRH</option><option value=\"UNHPL\">UNHPL</option><option value=\"UNL\">UNL</option><option value=\"UPCL\">UPCL</option><option value=\"UPPER\">UPPER</option><option value=\"USHEC\">USHEC</option><option value=\"USLB\">USLB</option><option value=\"USLBP\">USLBP</option><option value=\"VLBS\">VLBS</option><option value=\"VLBSPO\">VLBSPO</option><option value=\"WNLB\">WNLB</option><option value=\"WNLBP\">WNLBP</option><option value=\"YHL\">YHL</option> </select>\n",
       "<br/>\n",
       "<input class=\"form-control\" id=\"email\" name=\"email\" placeholder=\"Email Address\" style=\"margin-bottom: 15px;\" type=\"email\"/>\n",
       "<input class=\"form-control\" id=\"password\" name=\"password\" placeholder=\"Password\" style=\"margin-bottom: 15px;\" type=\"password\"/>\n",
       "<input class=\"btn btn-primary\" name=\"commit\" style=\"clear: left; width: 100%; height: 32px; font-size: 13px;\" type=\"submit\" value=\"Sign In\"/>\n",
       "<br/>\n",
       "</div>\n",
       "</form>\n",
       "</div>\n",
       "</li>\n",
       "<li><a class=\"new-website1\" href=\"https://newweb.nepalstock.com/\" target=\"_blank\">New Website</a></li>\n",
       "<li><a class=\"channel\" href=\"https://www.youtube.com/watch?v=Df06a7O7RuE&amp;lc=z22aijhamzy5vdd3oacdp432erg0i5bvw4eysaay1lpw03c010c\" target=\"_blank\">Video Tutorial</a></li>\n",
       "<li><a class=\"channel\" href=\"http://www.nepalstock.com/faq\">FAQ</a></li>\n",
       "</ul>\n",
       "</div><!--/.nav-collapse -->\n",
       "</div>\n",
       "</div>\n",
       "<!-- End Top Navigation Bar -->\n",
       "<!-- Start Logo Header -->\n",
       "<div class=\"container\" id=\"logoHeader\" style=\"width:80%\">\n",
       "<div class=\"row\">\n",
       "<div class=\"col-xs-12 col-md-4 col-sm-12\" id=\"logo\">\n",
       "<img alt=\"\" class=\".img-responsive\" src=\"http://www.nepalstock.com/images/bannerlive.png\"/>\n",
       "</div>\n",
       "<div class=\"col-xs-12 col-md-8 col-sm-12\" id=\"search\">\n",
       "<form action=\"http://www.nepalstock.com/company\" class=\"form-inline pull-right col-xs-12 col-sm-12 col-md-7\" method=\"POST\" role=\"form\">\n",
       "<h5>QUICK QUOTE</h5>\n",
       "<div class=\"form-group\">\n",
       "<label class=\"sr-only\" for=\"searchText\">Quick Quote</label>\n",
       "<input class=\"form-control\" id=\"stock_symbol\" name=\"stock_symbol\" placeholder=\"Search By Symbol\" type=\"text\"/>\n",
       "</div>\n",
       "<button class=\"btn btn-default\" id=\"search_symbol\" type=\"submit\">Go</button>\n",
       "<div class=\"form-group\">\n",
       "<select class=\"form-control\" id=\"StockSymbol_Select\" name=\"StockSymbol_Select\">\n",
       "<option value=\"\">Choose Symbol</option>\n",
       "<option value=\"2790\">ACLBSL</option><option value=\"397\">ADBL</option><option value=\"4960\">ADBLB</option><option value=\"8029\">ADBLB86</option><option value=\"8030\">ADBLB87</option><option value=\"2886\">ADBLD83</option><option value=\"8071\">ADLB</option><option value=\"360\">AHPC</option><option value=\"2893\">AIL</option><option value=\"2845\">AKBSL</option><option value=\"2846\">AKBSLP</option><option value=\"2788\">AKJCL</option><option value=\"2757\">AKPL</option><option value=\"2807\">ALBSL</option><option value=\"2808\">ALBSLP</option><option value=\"385\">ALICL</option><option value=\"599\">ALICLP</option><option value=\"2777\">AMFI</option><option value=\"2778\">AMFIPO</option><option value=\"697\">API</option><option value=\"211\">AVU</option><option value=\"8117\">AVYAN</option><option value=\"686\">BARUN</option><option value=\"156\">BBC</option><option value=\"227\">BFC</option><option value=\"339\">BFCPO</option><option value=\"440\">BFLPO</option><option value=\"487\">BHBL</option><option value=\"631\">BHBLPO</option><option value=\"8075\">BHDC</option><option value=\"8055\">BHL</option><option value=\"8032\">BNHC</option><option value=\"195\">BNL</option><option value=\"213\">BNT</option><option value=\"2870\">BOKD2079</option><option value=\"4961\">BOKD86</option><option value=\"138\">BOKL</option><option value=\"289\">BOKLPO</option><option value=\"153\">BPCL</option><option value=\"628\">BSBLPO</option><option value=\"217\">BSL</option><option value=\"205\">BSM</option><option value=\"164\">CBBL</option><option value=\"698\">CBBLPO</option><option value=\"532\">CBL</option><option value=\"8043\">CBLD88</option><option value=\"653\">CBLPO</option><option value=\"8068\">CCBD88</option><option value=\"605\">CCBL</option><option value=\"656\">CCBLPO</option><option value=\"296\">CEFL</option><option value=\"2756\">CEFLPO</option><option value=\"245\">CFCL</option><option value=\"676\">CFCLPO</option><option value=\"361\">CFL</option><option value=\"2917\">CGH</option><option value=\"154\">CHCL</option><option value=\"3946\">CHDC</option><option value=\"2766\">CHL</option><option value=\"210\">CIT</option><option value=\"2889\">CIZBD86</option><option value=\"693\">CLBSL</option><option value=\"725\">CLBSLP</option><option value=\"259\">CMB</option><option value=\"288\">CMBFLP</option><option value=\"2780\">CMF1</option><option value=\"2862\">CMF2</option><option value=\"450\">CORBL</option><option value=\"2763\">CORBLP</option><option value=\"8065\">CYCL</option><option value=\"348\">CZBIL</option><option value=\"493\">CZBILP</option><option value=\"166\">DDBL</option><option value=\"607\">DDBLPO</option><option value=\"2754\">DHPL</option><option value=\"8123\">DLBS</option><option value=\"8070\">DORDI</option><option value=\"137\">EBL</option><option value=\"277\">EBLCP</option><option value=\"594\">EBLPO</option><option value=\"274\">EDBL</option><option value=\"612\">EDBLPO</option><option value=\"181\">EIC</option><option value=\"702\">EICPO</option><option value=\"8034\">ENL</option><option value=\"319\">FBBLPO</option><option value=\"228\">FHL</option><option value=\"490\">FMDBL</option><option value=\"722\">FMDBLP</option><option value=\"2758\">FOWAD</option><option value=\"2921\">FOWADP</option><option value=\"8033\">GBBD85</option><option value=\"417\">GBBL</option><option value=\"623\">GBBLPO</option><option value=\"2840\">GBD80/81</option><option value=\"8004\">GBILD86/87</option><option value=\"341\">GBIME</option><option value=\"511\">GBIMEP</option><option value=\"583\">GBLBS</option><option value=\"712\">GBLBSP</option><option value=\"420\">GDBL</option><option value=\"670\">GDBLPO</option><option value=\"232\">GFCL</option><option value=\"355\">GFCLPO</option><option value=\"2852\">GGBSL</option><option value=\"2806\">GHL</option><option value=\"2905\">GIC</option><option value=\"705\">GILB</option><option value=\"731\">GILBPO</option><option value=\"1740\">GIMES1</option><option value=\"2826\">GLBSL</option><option value=\"2924\">GLH</option><option value=\"447\">GLICL</option><option value=\"621\">GLICLP</option><option value=\"2815\">GMFBS</option><option value=\"263\">GMFIL</option><option value=\"613\">GMFILP</option><option value=\"2744\">GRDBL</option><option value=\"2745\">GRDBLP</option><option value=\"207\">GRU</option><option value=\"204\">GUFL</option><option value=\"315\">GUFLPO</option><option value=\"8045\">GVL</option><option value=\"2883\">GWFD83</option><option value=\"576\">HAMRO</option><option value=\"639\">HAMROP</option><option value=\"421\">HATH</option><option value=\"685\">HATHPO</option><option value=\"134\">HBL</option><option value=\"2873\">HBLD83</option><option value=\"564\">HBLPO</option><option value=\"215\">HBT</option><option value=\"2880\">HDHPC</option><option value=\"235\">HDL</option><option value=\"179\">HEI</option><option value=\"700\">HEIP</option><option value=\"441\">HFL</option><option value=\"8076\">HHL</option><option value=\"2742\">HIDCL</option><option value=\"8111\">HIDCLP</option><option value=\"2767\">HPPL</option><option value=\"2824\">HURJA</option><option value=\"273\">ICFC</option><option value=\"2882\">ICFCD83</option><option value=\"400\">ICFCPO</option><option value=\"186\">IGI</option><option value=\"635\">IGIPO</option><option value=\"2832\">ILBS</option><option value=\"8038\">JALPA</option><option value=\"8020\">JBBD87</option><option value=\"418\">JBBL</option><option value=\"579\">JBBLPO</option><option value=\"4951\">JBLB</option><option value=\"4950\">JBLBP</option><option value=\"496\">JBNL</option><option value=\"654\">JBNLPO</option><option value=\"250\">JFL</option><option value=\"292\">JFLPO</option><option value=\"2929\">JLI</option><option value=\"2789\">JOSHI</option><option value=\"695\">JSLBB</option><option value=\"719\">JSLBBP</option><option value=\"209\">JSM</option><option value=\"142\">KBL</option><option value=\"2885\">KBLD86</option><option value=\"283\">KBLPO</option><option value=\"8074\">KDBY</option><option value=\"2933\">KEF</option><option value=\"2751\">KKHC</option><option value=\"694\">KLBSL</option><option value=\"733\">KLBSLP</option><option value=\"593\">KMCDB</option><option value=\"678\">KMCDBP</option><option value=\"419\">KNBL</option><option value=\"637\">KNBLPO</option><option value=\"2787\">KPCL</option><option value=\"428\">KRBL</option><option value=\"1739\">KRBLPO</option><option value=\"459\">KSBBL</option><option value=\"4948\">KSBBLD87</option><option value=\"677\">KSBBLP</option><option value=\"358\">LBBL</option><option value=\"626\">LBBLPO</option><option value=\"141\">LBL</option><option value=\"2879\">LBLD86</option><option value=\"5984\">LBLD88</option><option value=\"286\">LBLPO</option><option value=\"2903\">LEC</option><option value=\"2765\">LEMF</option><option value=\"231\">LFC</option><option value=\"330\">LFCPO</option><option value=\"190\">LGIL</option><option value=\"703\">LGILPO</option><option value=\"188\">LICN</option><option value=\"696\">LICNPO</option><option value=\"618\">LLBS</option><option value=\"644\">LLBSPO</option><option value=\"2902\">LUK</option><option value=\"8031\">MBJC</option><option value=\"140\">MBL</option><option value=\"2866\">MBLD2085</option><option value=\"7985\">MBLD87</option><option value=\"281\">MBLPO</option><option value=\"371\">MDB</option><option value=\"291\">MDBLPO</option><option value=\"609\">MDBPO</option><option value=\"562\">MEGA</option><option value=\"657\">MEGAPO</option><option value=\"2913\">MEN</option><option value=\"1741\">MERO</option><option value=\"1742\">MEROPO</option><option value=\"516\">MFIL</option><option value=\"730\">MFILPO</option><option value=\"2932\">MFLD85</option><option value=\"8102\">MHL</option><option value=\"2811\">MHNL</option><option value=\"8005\">MKJC</option><option value=\"4955\">MKLB</option><option value=\"601\">MLBBL</option><option value=\"707\">MLBBLP</option><option value=\"401\">MLBL</option><option value=\"620\">MLBLPO</option><option value=\"8018\">MLBS</option><option value=\"2925\">MLBSL</option><option value=\"8023\">MMF1</option><option value=\"682\">MMFDB</option><option value=\"711\">MMFDBP</option><option value=\"474\">MNBBL</option><option value=\"640\">MNBBLP</option><option value=\"4969\">MND84/85</option><option value=\"471\">MPFL</option><option value=\"1737\">MPFLPO</option><option value=\"2768\">MSLB</option><option value=\"2928\">MSLBP</option><option value=\"691\">MSMBS</option><option value=\"1736\">MSMBSP</option><option value=\"172\">NABBC</option><option value=\"131\">NABIL</option><option value=\"282\">NABILP</option><option value=\"2784\">NADEP</option><option value=\"2785\">NADEPP</option><option value=\"2816\">NAGRO</option><option value=\"136\">NBB</option><option value=\"2854\">NBBD2085</option><option value=\"380\">NBBPO</option><option value=\"233\">NBBU</option><option value=\"2835\">NBF2</option><option value=\"8024\">NBF3</option><option value=\"517\">NBL</option><option value=\"2892\">NBLD82</option><option value=\"8027\">NBLD85</option><option value=\"4959\">NBLD87</option><option value=\"144\">NCCB</option><option value=\"327\">NCCBPO</option><option value=\"2936\">NCCD86</option><option value=\"2753\">NEF</option><option value=\"8041\">NESDO</option><option value=\"151\">NFD</option><option value=\"194\">NFS</option><option value=\"651\">NFSPO</option><option value=\"2743\">NGPL</option><option value=\"2769\">NHDL</option><option value=\"152\">NHPC</option><option value=\"132\">NIB</option><option value=\"2851\">NIBD2082</option><option value=\"2931\">NIBD84</option><option value=\"2755\">NIBLPF</option><option value=\"469\">NIBPO</option><option value=\"4949\">NIBSF2</option><option value=\"139\">NICA</option><option value=\"2825\">NICAD 85/86</option><option value=\"2895\">NICAD8182</option><option value=\"2869\">NICAD8283</option><option value=\"309\">NICAP</option><option value=\"2863\">NICBF</option><option value=\"2868\">NICD83/84</option><option value=\"7986\">NICD88</option><option value=\"8073\">NICFC</option><option value=\"2779\">NICGF</option><option value=\"176\">NICL</option><option value=\"2887\">NICLBSL</option><option value=\"689\">NICLPO</option><option value=\"4967\">NICSF</option><option value=\"160\">NIDC</option><option value=\"658\">NIDCPO</option><option value=\"2919\">NIFRA</option><option value=\"183\">NIL</option><option value=\"615\">NILPO</option><option value=\"222\">NKU</option><option value=\"396\">NLBBL</option><option value=\"661\">NLBBLP</option><option value=\"559\">NLG</option><option value=\"684\">NLGPO</option><option value=\"187\">NLIC</option><option value=\"178\">NLICL</option><option value=\"582\">NLICLP</option><option value=\"589\">NLICP</option><option value=\"198\">NLO</option><option value=\"238\">NMB</option><option value=\"2867\">NMB50</option><option value=\"2850\">NMBD2085</option><option value=\"4963\">NMBD87/88</option><option value=\"4964\">NMBEB92/93</option><option value=\"2752\">NMBHF1</option><option value=\"704\">NMBMF</option><option value=\"723\">NMBMFP</option><option value=\"391\">NMBPO</option><option value=\"2746\">NMFBS</option><option value=\"2747\">NMFBSP</option><option value=\"2881\">NRIC</option><option value=\"2898\">NRN</option><option value=\"592\">NSLB</option><option value=\"643\">NSLBP</option><option value=\"200\">NSM</option><option value=\"313\">NSMPO</option><option value=\"307\">NTC</option><option value=\"158\">NTL</option><option value=\"163\">NUBL</option><option value=\"672\">NUBLPO</option><option value=\"201\">NVG</option><option value=\"159\">NWC</option><option value=\"8026\">NYADI</option><option value=\"398\">ODBL</option><option value=\"568\">ODBLPO</option><option value=\"149\">OHL</option><option value=\"8116\">PBD84</option><option value=\"6984\">PBD85</option><option value=\"8097\">PBD88</option><option value=\"2904\">PBLD84</option><option value=\"2875\">PBLD86</option><option value=\"4962\">PBLD87</option><option value=\"357\">PCBL</option><option value=\"544\">PCBLP</option><option value=\"346\">PDBLPO</option><option value=\"236\">PFL</option><option value=\"390\">PFLPO</option><option value=\"182\">PIC</option><option value=\"189\">PICL</option><option value=\"648\">PICLPO</option><option value=\"713\">PICPO</option><option value=\"2915\">PLI</option><option value=\"393\">PLIC</option><option value=\"701\">PLICPO</option><option value=\"2786\">PMHPL</option><option value=\"2813\">PPCL</option><option value=\"8122\">PPL</option><option value=\"488\">PRFLPO</option><option value=\"184\">PRIN</option><option value=\"590\">PRINPO</option><option value=\"338\">PROFL</option><option value=\"354\">PROFLP</option><option value=\"255\">PRVU</option><option value=\"632\">PRVUPO</option><option value=\"387\">PSDBLP</option><option value=\"4947\">PSF</option><option value=\"2776\">RADHI</option><option value=\"8003\">RBBD83</option><option value=\"177\">RBCL</option><option value=\"634\">RBCLPO</option><option value=\"8066\">RFPL</option><option value=\"8108\">RHGCL</option><option value=\"2841\">RHPL</option><option value=\"610\">RIDI</option><option value=\"203\">RJM</option><option value=\"587\">RLFL</option><option value=\"650\">RLFLPO</option><option value=\"2900\">RLI</option><option value=\"312\">RMBFPO</option><option value=\"575\">RMDC</option><option value=\"659\">RMDCPO</option><option value=\"4968\">RMF1</option><option value=\"2783\">RRHP</option><option value=\"2748\">RSDC</option><option value=\"2749\">RSDCP</option><option value=\"8036\">RULB</option><option value=\"2935\">RURU</option><option value=\"2843\">SABSL</option><option value=\"472\">SADBL</option><option value=\"708\">SADBLP</option><option value=\"2773\">SAEF</option><option value=\"8021\">SAHAS</option><option value=\"4965\">SAMAJ</option><option value=\"2828\">SAND2085</option><option value=\"171\">SANIMA</option><option value=\"2860\">SAPDBL</option><option value=\"2861\">SAPDBLP</option><option value=\"174\">SBBLJ</option><option value=\"479\">SBBLJP</option><option value=\"362\">SBBLPO</option><option value=\"2937\">SBCF</option><option value=\"2922\">SBD87</option><option value=\"135\">SBI</option><option value=\"2890\">SBIBD86</option><option value=\"347\">SBIPO</option><option value=\"145\">SBL</option><option value=\"2872\">SBLD2082</option><option value=\"2864\">SBLD83</option><option value=\"2912\">SBLD84</option><option value=\"449\">SBLPO</option><option value=\"226\">SBPP</option><option value=\"133\">SCB</option><option value=\"655\">SCBPO</option><option value=\"6985\">SDBD87</option><option value=\"2764\">SDESI</option><option value=\"2896\">SDLBSL</option><option value=\"2770\">SEF</option><option value=\"616\">SEOS</option><option value=\"221\">SFC</option><option value=\"256\">SFCL</option><option value=\"298\">SFCLP</option><option value=\"299\">SFCPO</option><option value=\"261\">SFFIL</option><option value=\"352\">SFFILP</option><option value=\"2877\">SFMF</option><option value=\"8100\">SGHC</option><option value=\"2908\">SGI</option><option value=\"625\">SHBL</option><option value=\"732\">SHBLPO</option><option value=\"2934\">SHEL</option><option value=\"473\">SHINE</option><option value=\"669\">SHINEP</option><option value=\"2809\">SHIVM</option><option value=\"147\">SHL</option><option value=\"591\">SHPC</option><option value=\"185\">SIC</option><option value=\"192\">SICL</option><option value=\"606\">SICLPO</option><option value=\"619\">SICPO</option><option value=\"244\">SIFC</option><option value=\"456\">SIFCPO</option><option value=\"2859\">SIGS2</option><option value=\"280\">SIL</option><option value=\"630\">SILPO</option><option value=\"561\">SINDU</option><option value=\"652\">SINDUP</option><option value=\"2842\">SJCL</option><option value=\"574\">SKBBL</option><option value=\"671\">SKBBLP</option><option value=\"545\">SLBBL</option><option value=\"721\">SLBBLP</option><option value=\"2750\">SLBS</option><option value=\"2804\">SLBSL</option><option value=\"2911\">SLBSP</option><option value=\"2923\">SLCF</option><option value=\"5982\">SLI</option><option value=\"403\">SLICL</option><option value=\"581\">SLICLP</option><option value=\"2761\">SMATA</option><option value=\"2762\">SMATAP</option><option value=\"2771\">SMB</option><option value=\"2772\">SMBPO</option><option value=\"2829\">SMFBS</option><option value=\"502\">SMFDB</option><option value=\"663\">SMFDBP</option><option value=\"485\">SODBLP</option><option value=\"2812\">SPARS</option><option value=\"8025\">SPC</option><option value=\"2759\">SPDL</option><option value=\"8121\">SPHL</option><option value=\"359\">SRBL</option><option value=\"2878\">SRBLD83</option><option value=\"522\">SRBLPO</option><option value=\"2834\">SRD80</option><option value=\"230\">SRS</option><option value=\"2907\">SSHL</option><option value=\"155\">STC</option><option value=\"268\">SWBBL</option><option value=\"314\">SWBBLP</option><option value=\"706\">SWMF</option><option value=\"720\">SWMFPO</option><option value=\"249\">SYFL</option><option value=\"624\">SYFLPO</option><option value=\"2855\">TMDBL</option><option value=\"2856\">TMDBLP</option><option value=\"8022\">TPC</option><option value=\"148\">TRH</option><option value=\"242\">UFL</option><option value=\"350\">UFLPO</option><option value=\"8099\">UHEWA</option><option value=\"180\">UIC</option><option value=\"726\">UICPO</option><option value=\"8063\">ULBSL</option><option value=\"4956\">ULI</option><option value=\"2760\">UMHL</option><option value=\"2914\">UMRH</option><option value=\"2831\">UNHPL</option><option value=\"219\">UNL</option><option value=\"2810\">UPCL</option><option value=\"2792\">UPPER</option><option value=\"8104\">USHEC</option><option value=\"2774\">USLB</option><option value=\"2775\">USLBP</option><option value=\"687\">VLBS</option><option value=\"716\">VLBSPO</option><option value=\"2781\">WNLB</option><option value=\"2782\">WNLBP</option><option value=\"146\">YHL</option> </select>\n",
       "</div>\n",
       "</form>\n",
       "</div>\n",
       "</div>\n",
       "</div><!-- /.container -->\n",
       "<!-- End Logo Header -->\n",
       "<!-- Start Menu Bar -->\n",
       "<nav class=\"navbar navbar-default container\" id=\"body-menu\" role=\"navigation\" style=\"width:80%\">\n",
       "<!-- Collect the nav links, forms, and other content for toggling -->\n",
       "<div>\n",
       "<ul class=\"sf-menu\" id=\"nav\"><li><a class=\"Home\" href=\"http://www.nepalstock.com/\" title=\"Home\">Home</a></li><li><a class=\"Nepse's Data\" href=\"#\" title=\"Nepse's Data\">Nepse's Data</a><ul><li><a class=\"Today's Share Price\" href=\"http://www.nepalstock.com/todaysprice\" title=\"Today's Share Price\">Today's Share Price</a></li><li><a class=\"Today's Floor Sheet\" href=\"http://www.nepalstock.com/floorsheet\" title=\"Today's Floor Sheet\">Today's Floor Sheet</a></li><li><a class=\"DateWise Indices\" href=\"http://www.nepalstock.com/indices\" title=\"DateWise Indices\">DateWise Indices</a></li><li><a class=\"Last 90 Day's Stockwise Trading\" href=\"http://www.nepalstock.com/stockWisePrices\" title=\"Last 90 Day's Stockwise Trading\">Last 90 Day's Stockwise Trading</a></li><li><a class=\"120 Day's Trading Average Price\" href=\"http://www.nepalstock.com/calculation\" title=\"120 Day's Trading Average Price\">120 Day's Trading Average Price</a></li><li><a class=\"180 Day's Trading Average Price\" href=\"http://www.nepalstock.com/calculationoneeighty\" title=\"180 Day's Trading Average Price\">180 Day's Trading Average Price</a></li></ul></li><li><a class=\"Media\" href=\"http://www.nepalstock.com/\" title=\"Media\">Media</a><ul><li><a class=\"News and Alerts\" href=\"http://www.nepalstock.com/news/category/0\" title=\"News and Alerts\">News and Alerts</a></li><li><a class=\"Press Releases\" href=\"http://www.nepalstock.com/news/category/2\" title=\"Press Releases\">Press Releases</a></li><li><a class=\"Investor Awareness\" href=\"http://www.nepalstock.com/news/category/3\" title=\"Investor Awareness\">Investor Awareness</a></li></ul></li><li><a class=\"About Us\" href=\"http://www.nepalstock.com/\" title=\"About Us\">About Us</a><ul><li><a class=\"Introduction\" href=\"http://www.nepalstock.com/about-us/introduction\" title=\"Introduction\">Introduction</a></li><li><a class=\"Board of Directors\" href=\"http://www.nepalstock.com/about-us/board-of-directors\" title=\"Board of Directors\">Board of Directors</a></li><li><a class=\"Contact Us\" href=\"http://www.nepalstock.com/about-us/contact-us\" title=\"Contact Us\">Contact Us</a></li></ul></li><li><a class=\"Events\" href=\"http://www.nepalstock.com/events\" title=\"Events\">Events</a></li><li><a class=\"Company Listing\" href=\"#\" title=\"Company Listing\">Company Listing</a><ul><li><a class=\"Listed Companies\" href=\"http://www.nepalstock.com/company\" title=\"Listed Companies\">Listed Companies</a></li><li><a class=\"Listing Information\" href=\"http://www.nepalstock.com/listing-information\" title=\"Listing Information\">Listing Information</a></li><li><a class=\"Promoter Share\" href=\"http://www.nepalstock.com/promoter-share\" title=\"Promoter Share\">Promoter Share</a></li><li><a class=\"Classification of Companies\" href=\"http://www.nepalstock.com/classification-of-listed-companies\" title=\"Classification of Companies\">Classification of Companies</a></li></ul></li><li><a class=\"Reports\" href=\"http://www.nepalstock.com/\" title=\"Reports\">Reports</a><ul><li><a class=\"Weekly Report\" href=\"http://www.nepalstock.com/reports-by-category/1\" title=\"Weekly Report\">Weekly Report</a></li><li><a class=\"Monthly Report\" href=\"http://www.nepalstock.com/reports-by-category/2\" title=\"Monthly Report\">Monthly Report</a></li><li><a class=\"Annual Report\" href=\"http://www.nepalstock.com/reports-by-category/7\" title=\"Annual Report\">Annual Report</a></li></ul></li><li><a class=\"education\" href=\"http://www.nepalstock.com/education/home\" target=\"_blank\" title=\"education\">education</a></li><li><a class=\"Brokers\" href=\"http://www.nepalstock.com/brokers\" title=\"Brokers\">Brokers</a></li><li><a class=\"marketdepth\" href=\"http://www.nepalstock.com/marketdepth\" title=\"marketdepth\">marketdepth</a></li></ul> </div><!-- /.navbar-collapse -->\n",
       "</nav>\n",
       "<!-- End Menu Bar -->\n",
       "<!-- Start Ticker -->\n",
       "<div class=\"container\" id=\"ticker\" style=\"width:80%\">\n",
       "<div class=\"col-xs-2 col-md-2 col-sm-0\" id=\"date\">As of 2022-11-07     14:59:59    </div>\n",
       "<div class=\"col-xs-10 col-md-10 col-sm-12\" id=\"stockData\">\n",
       "<marquee onmouseout=\"this.start();\" onmouseover=\"this.stop();\" scrollamount=\"5\" scrolldelay=\"10\"><b>JALPA 3,645.00 ( 41083 ) ( <span class=\"green\"> 236.1 </span>) <img align=\"middle\" alt=\"\" border=\"0\" src=\"http://www.nepalstock.com/./images/increase.gif\" width=\"8\"/>    PPL 213.00 ( 27195 ) ( <span class=\"red\"> -4.5 </span>) <img align=\"middle\" alt=\"\" border=\"0\" src=\"http://www.nepalstock.com/./images/decrease.gif\" width=\"8\"/>    AVYAN 774.00 ( 10064 ) ( <span class=\"red\"> -9 </span>) <img align=\"middle\" alt=\"\" border=\"0\" src=\"http://www.nepalstock.com/./images/decrease.gif\" width=\"8\"/>    FOWAD 2,735.00 ( 13651 ) ( <span class=\"red\"> -5 </span>) <img align=\"middle\" alt=\"\" border=\"0\" src=\"http://www.nepalstock.com/./images/decrease.gif\" width=\"8\"/>    GILB 1,207.00 ( 11612 ) ( <span class=\"red\"> -73 </span>) <img align=\"middle\" alt=\"\" border=\"0\" src=\"http://www.nepalstock.com/./images/decrease.gif\" width=\"8\"/>    MDB 385.90 ( 16342 ) ( <span class=\"red\"> -7.1 </span>) <img align=\"middle\" alt=\"\" border=\"0\" src=\"http://www.nepalstock.com/./images/decrease.gif\" width=\"8\"/>    SPHL 310.80 ( 3785 ) ( <span class=\"red\"> -4.1 </span>) <img align=\"middle\" alt=\"\" border=\"0\" src=\"http://www.nepalstock.com/./images/decrease.gif\" width=\"8\"/>    CHL 215.10 ( 13781 ) ( <span class=\"red\"> -3.9 </span>) <img align=\"middle\" alt=\"\" border=\"0\" src=\"http://www.nepalstock.com/./images/decrease.gif\" width=\"8\"/>    KSBBL 315.80 ( 28624 ) ( <span class=\"red\"> -5.2 </span>) <img align=\"middle\" alt=\"\" border=\"0\" src=\"http://www.nepalstock.com/./images/decrease.gif\" width=\"8\"/>    MFIL 440.80 ( 44202 ) ( <span class=\"green\"> 2.5 </span>) <img align=\"middle\" alt=\"\" border=\"0\" src=\"http://www.nepalstock.com/./images/increase.gif\" width=\"8\"/>    SIFC 329.90 ( 15595 ) ( <span class=\"red\"> -8.1 </span>) <img align=\"middle\" alt=\"\" border=\"0\" src=\"http://www.nepalstock.com/./images/decrease.gif\" width=\"8\"/>    JBBL 289.00 ( 56743 ) ( <span class=\"red\"> -6 </span>) <img align=\"middle\" alt=\"\" border=\"0\" src=\"http://www.nepalstock.com/./images/decrease.gif\" width=\"8\"/>    GMFBS 825.00 ( 419 ) ( <span class=\"red\"> -10.2 </span>) <img align=\"middle\" alt=\"\" border=\"0\" src=\"http://www.nepalstock.com/./images/decrease.gif\" width=\"8\"/>    KKHC 183.50 ( 7150 ) ( <span class=\"red\"> -1.4 </span>) <img align=\"middle\" alt=\"\" border=\"0\" src=\"http://www.nepalstock.com/./images/decrease.gif\" width=\"8\"/>    UPPER 387.00 ( 50325 ) ( <span class=\"green\"> 4 </span>) <img align=\"middle\" alt=\"\" border=\"0\" src=\"http://www.nepalstock.com/./images/increase.gif\" width=\"8\"/>    PCBL 238.80 ( 65554 ) ( <span class=\"red\"> -1.2 </span>) <img align=\"middle\" alt=\"\" border=\"0\" src=\"http://www.nepalstock.com/./images/decrease.gif\" width=\"8\"/>    UMHL 250.00 ( 61141 ) ( <span class=\"green\"> 7 </span>) <img align=\"middle\" alt=\"\" border=\"0\" src=\"http://www.nepalstock.com/./images/increase.gif\" width=\"8\"/>    NTC 880.00 ( 38986 ) ( <span class=\"red\"> -4 </span>) <img align=\"middle\" alt=\"\" border=\"0\" src=\"http://www.nepalstock.com/./images/decrease.gif\" width=\"8\"/>    AKPL 374.90 ( 61034 ) ( <span class=\"red\"> -3.1 </span>) <img align=\"middle\" alt=\"\" border=\"0\" src=\"http://www.nepalstock.com/./images/decrease.gif\" width=\"8\"/>    RLFL 311.00 ( 25843 ) ( <span class=\"red\"> -7 </span>) <img align=\"middle\" alt=\"\" border=\"0\" src=\"http://www.nepalstock.com/./images/decrease.gif\" width=\"8\"/>    NLIC 612.00 ( 33623 ) ( <span class=\"red\"> -7 </span>) <img align=\"middle\" alt=\"\" border=\"0\" src=\"http://www.nepalstock.com/./images/decrease.gif\" width=\"8\"/>    STC 3,695.00 ( 1827 ) ( <span class=\"green\"> 28 </span>) <img align=\"middle\" alt=\"\" border=\"0\" src=\"http://www.nepalstock.com/./images/increase.gif\" width=\"8\"/>    HEI 378.00 ( 31273 ) ( <span class=\"red\"> -6 </span>) <img align=\"middle\" alt=\"\" border=\"0\" src=\"http://www.nepalstock.com/./images/decrease.gif\" width=\"8\"/>    SPC 415.00 ( 5182 ) ( <span class=\"red\"> -0.3 </span>) <img align=\"middle\" alt=\"\" border=\"0\" src=\"http://www.nepalstock.com/./images/decrease.gif\" width=\"8\"/>    NIFRA 199.00 ( 71837 ) ( <span class=\"red\"> -2.5 </span>) <img align=\"middle\" alt=\"\" border=\"0\" src=\"http://www.nepalstock.com/./images/decrease.gif\" width=\"8\"/>    CHDC 635.00 ( 12983 ) ( <span class=\"green\"> 5 </span>) <img align=\"middle\" alt=\"\" border=\"0\" src=\"http://www.nepalstock.com/./images/increase.gif\" width=\"8\"/>    PICL 369.00 ( 12908 ) ( <span class=\"red\"> -1 </span>) <img align=\"middle\" alt=\"\" border=\"0\" src=\"http://www.nepalstock.com/./images/decrease.gif\" width=\"8\"/>    KRBL 246.00 ( 71328 ) ( <span class=\"green\"> 4.5 </span>) <img align=\"middle\" alt=\"\" border=\"0\" src=\"http://www.nepalstock.com/./images/increase.gif\" width=\"8\"/>    TPC 350.00 ( 2925 ) ( <span class=\"red\"> -9.5 </span>) <img align=\"middle\" alt=\"\" border=\"0\" src=\"http://www.nepalstock.com/./images/decrease.gif\" width=\"8\"/>    ALBSL 993.00 ( 4609 ) ( <span class=\"red\"> -46 </span>) <img align=\"middle\" alt=\"\" border=\"0\" src=\"http://www.nepalstock.com/./images/decrease.gif\" width=\"8\"/>    MLBL 362.50 ( 41242 ) ( <span class=\"red\"> -0.5 </span>) <img align=\"middle\" alt=\"\" border=\"0\" src=\"http://www.nepalstock.com/./images/decrease.gif\" width=\"8\"/>    MHL 341.40 ( 6865 ) ( <span class=\"green\"> 6.4 </span>) <img align=\"middle\" alt=\"\" border=\"0\" src=\"http://www.nepalstock.com/./images/increase.gif\" width=\"8\"/>    GUFL 559.00 ( 90013 ) ( <span class=\"red\"> -6 </span>) <img align=\"middle\" alt=\"\" border=\"0\" src=\"http://www.nepalstock.com/./images/decrease.gif\" width=\"8\"/>    SHPC 278.80 ( 73462 ) ( <span class=\"red\"> -3.2 </span>) <img align=\"middle\" alt=\"\" border=\"0\" src=\"http://www.nepalstock.com/./images/decrease.gif\" width=\"8\"/>    MLBBL 1,140.00 ( 1159 ) ( <span class=\"red\"> -21 </span>) <img align=\"middle\" alt=\"\" border=\"0\" src=\"http://www.nepalstock.com/./images/decrease.gif\" width=\"8\"/>    CBBL 1,118.00 ( 19144 ) ( <span class=\"green\"> 18 </span>) <img align=\"middle\" alt=\"\" border=\"0\" src=\"http://www.nepalstock.com/./images/increase.gif\" width=\"8\"/>    DDBL 985.10 ( 8181 ) ( <span class=\"green\"> 5 </span>) <img align=\"middle\" alt=\"\" border=\"0\" src=\"http://www.nepalstock.com/./images/increase.gif\" width=\"8\"/>    ALICL 476.00 ( 19072 ) ( <span class=\"green\"> 4 </span>) <img align=\"middle\" alt=\"\" border=\"0\" src=\"http://www.nepalstock.com/./images/increase.gif\" width=\"8\"/>    GHL 196.00 ( 39366 ) ( <span class=\"green\"> 5 </span>) <img align=\"middle\" alt=\"\" border=\"0\" src=\"http://www.nepalstock.com/./images/increase.gif\" width=\"8\"/>    NLICL 598.00 ( 19761 ) ( <span class=\"red\"> -1 </span>) <img align=\"middle\" alt=\"\" border=\"0\" src=\"http://www.nepalstock.com/./images/decrease.gif\" width=\"8\"/>    NFS 273.00 ( 38614 ) ( <span class=\"red\"> -2 </span>) <img align=\"middle\" alt=\"\" border=\"0\" src=\"http://www.nepalstock.com/./images/decrease.gif\" width=\"8\"/>    AHPC 279.00 ( 78850 ) ( <span class=\"red\"> -4.5 </span>) <img align=\"middle\" alt=\"\" border=\"0\" src=\"http://www.nepalstock.com/./images/decrease.gif\" width=\"8\"/>    AKJCL 181.00 ( 45326 ) ( <span class=\"red\"> -3 </span>) <img align=\"middle\" alt=\"\" border=\"0\" src=\"http://www.nepalstock.com/./images/decrease.gif\" width=\"8\"/>    HIDCLP 98.20 ( 34499 ) ( <span class=\"red\"> -0.7 </span>) <img align=\"middle\" alt=\"\" border=\"0\" src=\"http://www.nepalstock.com/./images/decrease.gif\" width=\"8\"/>    MBJC 212.40 ( 20546 ) ( <span class=\"red\"> -0.7 </span>) <img align=\"middle\" alt=\"\" border=\"0\" src=\"http://www.nepalstock.com/./images/decrease.gif\" width=\"8\"/>    NESDO 3,267.00 ( 32591 ) ( <span class=\"green\"> 93.5 </span>) <img align=\"middle\" alt=\"\" border=\"0\" src=\"http://www.nepalstock.com/./images/increase.gif\" width=\"8\"/>    LEC 225.00 ( 10070 ) ( <span class=\"red\"> -5.2 </span>) <img align=\"middle\" alt=\"\" border=\"0\" src=\"http://www.nepalstock.com/./images/decrease.gif\" width=\"8\"/>    GBBL 387.00 ( 53684 ) ( <span class=\"red\"> -7.9 </span>) <img align=\"middle\" alt=\"\" border=\"0\" src=\"http://www.nepalstock.com/./images/decrease.gif\" width=\"8\"/>    HIDCL 177.00 ( 101984 ) ( <span class=\"green\"> 0.1 </span>) <img align=\"middle\" alt=\"\" border=\"0\" src=\"http://www.nepalstock.com/./images/increase.gif\" width=\"8\"/>    SADBL 303.50 ( 45449 ) ( <span class=\"red\"> -0.2 </span>) <img align=\"middle\" alt=\"\" border=\"0\" src=\"http://www.nepalstock.com/./images/decrease.gif\" width=\"8\"/>    NHPC 204.90 ( 126531 ) ( <span class=\"red\"> -3.1 </span>) <img align=\"middle\" alt=\"\" border=\"0\" src=\"http://www.nepalstock.com/./images/decrease.gif\" width=\"8\"/>    SHINE 324.00 ( 76282 ) ( <span class=\"red\"> -0.9 </span>) <img align=\"middle\" alt=\"\" border=\"0\" src=\"http://www.nepalstock.com/./images/decrease.gif\" width=\"8\"/>    CFCL 325.10 ( 34778 ) ( <span class=\"red\"> -10.4 </span>) <img align=\"middle\" alt=\"\" border=\"0\" src=\"http://www.nepalstock.com/./images/decrease.gif\" width=\"8\"/>    NICA 678.00 ( 50047 ) ( <span class=\"red\"> -11 </span>) <img align=\"middle\" alt=\"\" border=\"0\" src=\"http://www.nepalstock.com/./images/decrease.gif\" width=\"8\"/>    GVL 295.20 ( 7569 ) ( <span class=\"red\"> -7.8 </span>) <img align=\"middle\" alt=\"\" border=\"0\" src=\"http://www.nepalstock.com/./images/decrease.gif\" width=\"8\"/>    PRVU 221.70 ( 94381 ) ( <span class=\"green\"> 1.7 </span>) <img align=\"middle\" alt=\"\" border=\"0\" src=\"http://www.nepalstock.com/./images/increase.gif\" width=\"8\"/>    RADHI 232.00 ( 20987 ) ( <span class=\"green\"> 5 </span>) <img align=\"middle\" alt=\"\" border=\"0\" src=\"http://www.nepalstock.com/./images/increase.gif\" width=\"8\"/>    NRIC 690.00 ( 55159 ) ( <span class=\"green\"> 7 </span>) <img align=\"middle\" alt=\"\" border=\"0\" src=\"http://www.nepalstock.com/./images/increase.gif\" width=\"8\"/>    SPDL 261.00 ( 64524 ) ( <span class=\"red\"> -1 </span>) <img align=\"middle\" alt=\"\" border=\"0\" src=\"http://www.nepalstock.com/./images/decrease.gif\" width=\"8\"/>    SBI 300.00 ( 82123 ) ( <span class=\"red\"> -8.9 </span>) <img align=\"middle\" alt=\"\" border=\"0\" src=\"http://www.nepalstock.com/./images/decrease.gif\" width=\"8\"/>    HBL 340.90 ( 5153 ) ( <span class=\"green\"> 0.4 </span>) <img align=\"middle\" alt=\"\" border=\"0\" src=\"http://www.nepalstock.com/./images/increase.gif\" width=\"8\"/>    NRN 448.00 ( 13588 ) ( <span class=\"green\"> 8 </span>) <img align=\"middle\" alt=\"\" border=\"0\" src=\"http://www.nepalstock.com/./images/increase.gif\" width=\"8\"/>    DORDI 260.00 ( 6110 ) ( <span class=\"red\"> -8 </span>) <img align=\"middle\" alt=\"\" border=\"0\" src=\"http://www.nepalstock.com/./images/decrease.gif\" width=\"8\"/>    HHL 226.50 ( 11079 ) ( <span class=\"green\"> 3.5 </span>) <img align=\"middle\" alt=\"\" border=\"0\" src=\"http://www.nepalstock.com/./images/increase.gif\" width=\"8\"/>    UMRH 450.80 ( 9046 ) ( <span class=\"red\"> -5.2 </span>) <img align=\"middle\" alt=\"\" border=\"0\" src=\"http://www.nepalstock.com/./images/decrease.gif\" width=\"8\"/>    HDHPC 178.80 ( 235243 ) ( <span class=\"green\"> 1.8 </span>) <img align=\"middle\" alt=\"\" border=\"0\" src=\"http://www.nepalstock.com/./images/increase.gif\" width=\"8\"/>    LBBL 366.00 ( 47105 ) ( <span class=\"green\"> 1 </span>) <img align=\"middle\" alt=\"\" border=\"0\" src=\"http://www.nepalstock.com/./images/increase.gif\" width=\"8\"/>    CLBSL 790.00 ( 2342 ) ( <span class=\"red\"> -8 </span>) <img align=\"middle\" alt=\"\" border=\"0\" src=\"http://www.nepalstock.com/./images/decrease.gif\" width=\"8\"/>    HDL 3,675.00 ( 15736 ) ( <span class=\"green\"> 5 </span>) <img align=\"middle\" alt=\"\" border=\"0\" src=\"http://www.nepalstock.com/./images/increase.gif\" width=\"8\"/>    ADBL 321.00 ( 24381 ) ( <span class=\"red\"> -1 </span>) <img align=\"middle\" alt=\"\" border=\"0\" src=\"http://www.nepalstock.com/./images/decrease.gif\" width=\"8\"/>    BNHC 369.00 ( 2228 ) ( <span class=\"red\"> -5 </span>) <img align=\"middle\" alt=\"\" border=\"0\" src=\"http://www.nepalstock.com/./images/decrease.gif\" width=\"8\"/>    CHCL 387.00 ( 16006 ) ( <span class=\"red\"> -0.5 </span>) <img align=\"middle\" alt=\"\" border=\"0\" src=\"http://www.nepalstock.com/./images/decrease.gif\" width=\"8\"/>    EBL 531.00 ( 62810 ) ( <span class=\"red\"> -9 </span>) <img align=\"middle\" alt=\"\" border=\"0\" src=\"http://www.nepalstock.com/./images/decrease.gif\" width=\"8\"/>    RIDI 479.00 ( 198293 ) ( <span class=\"green\"> 15 </span>) <img align=\"middle\" alt=\"\" border=\"0\" src=\"http://www.nepalstock.com/./images/increase.gif\" width=\"8\"/>    SRBL 201.00 ( 24144 ) ( <span class=\"red\"> -2 </span>) <img align=\"middle\" alt=\"\" border=\"0\" src=\"http://www.nepalstock.com/./images/decrease.gif\" width=\"8\"/>    BHL 244.40 ( 12437 ) ( <span class=\"green\"> 5.4 </span>) <img align=\"middle\" alt=\"\" border=\"0\" src=\"http://www.nepalstock.com/./images/increase.gif\" width=\"8\"/>    MBL 228.90 ( 18518 ) ( <span class=\"red\"> -0.1 </span>) <img align=\"middle\" alt=\"\" border=\"0\" src=\"http://www.nepalstock.com/./images/decrease.gif\" width=\"8\"/>    NGPL 224.00 ( 19466 ) ( <span class=\"red\"> -1 </span>) <img align=\"middle\" alt=\"\" border=\"0\" src=\"http://www.nepalstock.com/./images/decrease.gif\" width=\"8\"/>    SSHL 190.00 ( 26680 ) ( <span class=\"\"> 0 </span>) <img align=\"middle\" alt=\"\" border=\"0\" src=\"http://www.nepalstock.com/./images/nil.gif\" width=\"8\"/>    SFCL 260.00 ( 31663 ) ( <span class=\"red\"> -6 </span>) <img align=\"middle\" alt=\"\" border=\"0\" src=\"http://www.nepalstock.com/./images/decrease.gif\" width=\"8\"/>    MLBSL 4,120.00 ( 1544 ) ( <span class=\"red\"> -95 </span>) <img align=\"middle\" alt=\"\" border=\"0\" src=\"http://www.nepalstock.com/./images/decrease.gif\" width=\"8\"/>    PROFL 285.00 ( 17790 ) ( <span class=\"red\"> -4 </span>) <img align=\"middle\" alt=\"\" border=\"0\" src=\"http://www.nepalstock.com/./images/decrease.gif\" width=\"8\"/>    OHL 487.00 ( 4296 ) ( <span class=\"green\"> 8 </span>) <img align=\"middle\" alt=\"\" border=\"0\" src=\"http://www.nepalstock.com/./images/increase.gif\" width=\"8\"/>    SAHAS 470.00 ( 18802 ) ( <span class=\"green\"> 7 </span>) <img align=\"middle\" alt=\"\" border=\"0\" src=\"http://www.nepalstock.com/./images/increase.gif\" width=\"8\"/>    JBLB 2,790.00 ( 9216 ) ( <span class=\"red\"> -26 </span>) <img align=\"middle\" alt=\"\" border=\"0\" src=\"http://www.nepalstock.com/./images/decrease.gif\" width=\"8\"/>    JFL 360.00 ( 21055 ) ( <span class=\"red\"> -8 </span>) <img align=\"middle\" alt=\"\" border=\"0\" src=\"http://www.nepalstock.com/./images/decrease.gif\" width=\"8\"/>    MKJC 420.00 ( 4550 ) ( <span class=\"red\"> -5.9 </span>) <img align=\"middle\" alt=\"\" border=\"0\" src=\"http://www.nepalstock.com/./images/decrease.gif\" width=\"8\"/>    SGHC 230.00 ( 19667 ) ( <span class=\"red\"> -7 </span>) <img align=\"middle\" alt=\"\" border=\"0\" src=\"http://www.nepalstock.com/./images/decrease.gif\" width=\"8\"/>    SHEL 242.00 ( 10567 ) ( <span class=\"green\"> 8.7 </span>) <img align=\"middle\" alt=\"\" border=\"0\" src=\"http://www.nepalstock.com/./images/increase.gif\" width=\"8\"/>    SHIVM 675.00 ( 165568 ) ( <span class=\"red\"> -28.2 </span>) <img align=\"middle\" alt=\"\" border=\"0\" src=\"http://www.nepalstock.com/./images/decrease.gif\" width=\"8\"/>    RULB 925.00 ( 2485 ) ( <span class=\"red\"> -31 </span>) <img align=\"middle\" alt=\"\" border=\"0\" src=\"http://www.nepalstock.com/./images/decrease.gif\" width=\"8\"/>    GRDBL 243.80 ( 10205 ) ( <span class=\"red\"> -6.2 </span>) <img align=\"middle\" alt=\"\" border=\"0\" src=\"http://www.nepalstock.com/./images/decrease.gif\" width=\"8\"/>    UNHPL 194.10 ( 40996 ) ( <span class=\"red\"> -3.9 </span>) <img align=\"middle\" alt=\"\" border=\"0\" src=\"http://www.nepalstock.com/./images/decrease.gif\" width=\"8\"/>    NLBBL 872.00 ( 5349 ) ( <span class=\"green\"> 7 </span>) <img align=\"middle\" alt=\"\" border=\"0\" src=\"http://www.nepalstock.com/./images/increase.gif\" width=\"8\"/>    SLBBL 870.00 ( 3856 ) ( <span class=\"green\"> 5 </span>) <img align=\"middle\" alt=\"\" border=\"0\" src=\"http://www.nepalstock.com/./images/increase.gif\" width=\"8\"/>    SLBSL 1,293.00 ( 99 ) ( <span class=\"red\"> -27 </span>) <img align=\"middle\" alt=\"\" border=\"0\" src=\"http://www.nepalstock.com/./images/decrease.gif\" width=\"8\"/>    PPCL 295.90 ( 31553 ) ( <span class=\"red\"> -3.1 </span>) <img align=\"middle\" alt=\"\" border=\"0\" src=\"http://www.nepalstock.com/./images/decrease.gif\" width=\"8\"/>    API 221.00 ( 153586 ) ( <span class=\"green\"> 1.5 </span>) <img align=\"middle\" alt=\"\" border=\"0\" src=\"http://www.nepalstock.com/./images/increase.gif\" width=\"8\"/>    MNBBL 429.00 ( 29992 ) ( <span class=\"red\"> -9 </span>) <img align=\"middle\" alt=\"\" border=\"0\" src=\"http://www.nepalstock.com/./images/decrease.gif\" width=\"8\"/>    ULBSL 3,629.00 ( 4268 ) ( <span class=\"red\"> -10.6 </span>) <img align=\"middle\" alt=\"\" border=\"0\" src=\"http://www.nepalstock.com/./images/decrease.gif\" width=\"8\"/>    NUBL 975.00 ( 9954 ) ( <span class=\"green\"> 5.5 </span>) <img align=\"middle\" alt=\"\" border=\"0\" src=\"http://www.nepalstock.com/./images/increase.gif\" width=\"8\"/>    GMFIL 338.80 ( 21469 ) ( <span class=\"green\"> 1.8 </span>) <img align=\"middle\" alt=\"\" border=\"0\" src=\"http://www.nepalstock.com/./images/increase.gif\" width=\"8\"/>    UPCL 229.90 ( 106572 ) ( <span class=\"red\"> -3.1 </span>) <img align=\"middle\" alt=\"\" border=\"0\" src=\"http://www.nepalstock.com/./images/decrease.gif\" width=\"8\"/>    NHDL 328.00 ( 10438 ) ( <span class=\"red\"> -9.8 </span>) <img align=\"middle\" alt=\"\" border=\"0\" src=\"http://www.nepalstock.com/./images/decrease.gif\" width=\"8\"/>    SICL 765.00 ( 14775 ) ( <span class=\"red\"> -10 </span>) <img align=\"middle\" alt=\"\" border=\"0\" src=\"http://www.nepalstock.com/./images/decrease.gif\" width=\"8\"/>    UHEWA 375.00 ( 8479 ) ( <span class=\"red\"> -1 </span>) <img align=\"middle\" alt=\"\" border=\"0\" src=\"http://www.nepalstock.com/./images/decrease.gif\" width=\"8\"/>    MHNL 240.00 ( 27781 ) ( <span class=\"red\"> -9.2 </span>) <img align=\"middle\" alt=\"\" border=\"0\" src=\"http://www.nepalstock.com/./images/decrease.gif\" width=\"8\"/>    LLBS 1,209.90 ( 1423 ) ( <span class=\"red\"> -4.1 </span>) <img align=\"middle\" alt=\"\" border=\"0\" src=\"http://www.nepalstock.com/./images/decrease.gif\" width=\"8\"/>    NMB 247.80 ( 30701 ) ( <span class=\"red\"> -0.2 </span>) <img align=\"middle\" alt=\"\" border=\"0\" src=\"http://www.nepalstock.com/./images/decrease.gif\" width=\"8\"/>    GFCL 476.00 ( 19812 ) ( <span class=\"green\"> 2.1 </span>) <img align=\"middle\" alt=\"\" border=\"0\" src=\"http://www.nepalstock.com/./images/increase.gif\" width=\"8\"/>    HPPL 283.00 ( 10336 ) ( <span class=\"red\"> -9 </span>) <img align=\"middle\" alt=\"\" border=\"0\" src=\"http://www.nepalstock.com/./images/decrease.gif\" width=\"8\"/>    RSDC 535.10 ( 3536 ) ( <span class=\"red\"> -5.7 </span>) <img align=\"middle\" alt=\"\" border=\"0\" src=\"http://www.nepalstock.com/./images/decrease.gif\" width=\"8\"/>    CORBL 293.00 ( 7975 ) ( <span class=\"red\"> -8.7 </span>) <img align=\"middle\" alt=\"\" border=\"0\" src=\"http://www.nepalstock.com/./images/decrease.gif\" width=\"8\"/>    CIT 1,923.00 ( 12128 ) ( <span class=\"green\"> 9 </span>) <img align=\"middle\" alt=\"\" border=\"0\" src=\"http://www.nepalstock.com/./images/increase.gif\" width=\"8\"/>    RFPL 229.00 ( 6132 ) ( <span class=\"red\"> -6 </span>) <img align=\"middle\" alt=\"\" border=\"0\" src=\"http://www.nepalstock.com/./images/decrease.gif\" width=\"8\"/>    BFC 335.00 ( 25419 ) ( <span class=\"green\"> 4 </span>) <img align=\"middle\" alt=\"\" border=\"0\" src=\"http://www.nepalstock.com/./images/increase.gif\" width=\"8\"/>    KLBSL 885.00 ( 553 ) ( <span class=\"red\"> -5 </span>) <img align=\"middle\" alt=\"\" border=\"0\" src=\"http://www.nepalstock.com/./images/decrease.gif\" width=\"8\"/>    NABIL 834.00 ( 37460 ) ( <span class=\"green\"> 2.9 </span>) <img align=\"middle\" alt=\"\" border=\"0\" src=\"http://www.nepalstock.com/./images/increase.gif\" width=\"8\"/>    SWBBL 1,274.00 ( 16517 ) ( <span class=\"red\"> -0.9 </span>) <img align=\"middle\" alt=\"\" border=\"0\" src=\"http://www.nepalstock.com/./images/decrease.gif\" width=\"8\"/>    JOSHI 198.00 ( 20850 ) ( <span class=\"red\"> -4 </span>) <img align=\"middle\" alt=\"\" border=\"0\" src=\"http://www.nepalstock.com/./images/decrease.gif\" width=\"8\"/>    KPCL 326.00 ( 5800 ) ( <span class=\"green\"> 4.9 </span>) <img align=\"middle\" alt=\"\" border=\"0\" src=\"http://www.nepalstock.com/./images/increase.gif\" width=\"8\"/>    SBL 322.20 ( 36450 ) ( <span class=\"red\"> -2.7 </span>) <img align=\"middle\" alt=\"\" border=\"0\" src=\"http://www.nepalstock.com/./images/decrease.gif\" width=\"8\"/>    ICFC 458.00 ( 30745 ) ( <span class=\"red\"> -3 </span>) <img align=\"middle\" alt=\"\" border=\"0\" src=\"http://www.nepalstock.com/./images/decrease.gif\" width=\"8\"/>    KMCDB 979.00 ( 1928 ) ( <span class=\"red\"> -9.9 </span>) <img align=\"middle\" alt=\"\" border=\"0\" src=\"http://www.nepalstock.com/./images/decrease.gif\" width=\"8\"/>    SMATA 785.00 ( 2558 ) ( <span class=\"green\"> 10 </span>) <img align=\"middle\" alt=\"\" border=\"0\" src=\"http://www.nepalstock.com/./images/increase.gif\" width=\"8\"/>    DHPL 181.60 ( 9711 ) ( <span class=\"red\"> -4.5 </span>) <img align=\"middle\" alt=\"\" border=\"0\" src=\"http://www.nepalstock.com/./images/decrease.gif\" width=\"8\"/>    SFMF 9.00 ( 25041 ) ( <span class=\"red\"> -0.1 </span>) <img align=\"middle\" alt=\"\" border=\"0\" src=\"http://www.nepalstock.com/./images/decrease.gif\" width=\"8\"/>    SAEF 9.70 ( 5250 ) ( <span class=\"red\"> -0.02 </span>) <img align=\"middle\" alt=\"\" border=\"0\" src=\"http://www.nepalstock.com/./images/decrease.gif\" width=\"8\"/>    CZBIL 188.00 ( 34139 ) ( <span class=\"\"> 0 </span>) <img align=\"middle\" alt=\"\" border=\"0\" src=\"http://www.nepalstock.com/./images/nil.gif\" width=\"8\"/>    SHL 212.00 ( 34237 ) ( <span class=\"red\"> -1 </span>) <img align=\"middle\" alt=\"\" border=\"0\" src=\"http://www.nepalstock.com/./images/decrease.gif\" width=\"8\"/>    NBL 278.00 ( 36885 ) ( <span class=\"red\"> -0.3 </span>) <img align=\"middle\" alt=\"\" border=\"0\" src=\"http://www.nepalstock.com/./images/decrease.gif\" width=\"8\"/>    EDBL 329.00 ( 34108 ) ( <span class=\"green\"> 3.5 </span>) <img align=\"middle\" alt=\"\" border=\"0\" src=\"http://www.nepalstock.com/./images/increase.gif\" width=\"8\"/>    SMFBS 1,617.00 ( 200 ) ( <span class=\"green\"> 16 </span>) <img align=\"middle\" alt=\"\" border=\"0\" src=\"http://www.nepalstock.com/./images/increase.gif\" width=\"8\"/>    NBF3 7.46 ( 35600 ) ( <span class=\"red\"> -0.19 </span>) <img align=\"middle\" alt=\"\" border=\"0\" src=\"http://www.nepalstock.com/./images/decrease.gif\" width=\"8\"/>    GLH 249.00 ( 9449 ) ( <span class=\"red\"> -5 </span>) <img align=\"middle\" alt=\"\" border=\"0\" src=\"http://www.nepalstock.com/./images/decrease.gif\" width=\"8\"/>    USHEC 268.00 ( 8230 ) ( <span class=\"red\"> -9 </span>) <img align=\"middle\" alt=\"\" border=\"0\" src=\"http://www.nepalstock.com/./images/decrease.gif\" width=\"8\"/>    SINDU 262.00 ( 8279 ) ( <span class=\"red\"> -8 </span>) <img align=\"middle\" alt=\"\" border=\"0\" src=\"http://www.nepalstock.com/./images/decrease.gif\" width=\"8\"/>    RHGCL 223.00 ( 13987 ) ( <span class=\"red\"> -4 </span>) <img align=\"middle\" alt=\"\" border=\"0\" src=\"http://www.nepalstock.com/./images/decrease.gif\" width=\"8\"/>    NSLB 780.00 ( 1915 ) ( <span class=\"green\"> 11.1 </span>) <img align=\"middle\" alt=\"\" border=\"0\" src=\"http://www.nepalstock.com/./images/increase.gif\" width=\"8\"/>    NICL 420.00 ( 6725 ) ( <span class=\"red\"> -5 </span>) <img align=\"middle\" alt=\"\" border=\"0\" src=\"http://www.nepalstock.com/./images/decrease.gif\" width=\"8\"/>    JSLBB 1,698.70 ( 1071 ) ( <span class=\"red\"> -21.3 </span>) <img align=\"middle\" alt=\"\" border=\"0\" src=\"http://www.nepalstock.com/./images/decrease.gif\" width=\"8\"/>    ACLBSL 759.00 ( 1506 ) ( <span class=\"red\"> -7.4 </span>) <img align=\"middle\" alt=\"\" border=\"0\" src=\"http://www.nepalstock.com/./images/decrease.gif\" width=\"8\"/>    MPFL 330.00 ( 11888 ) ( <span class=\"red\"> -8.4 </span>) <img align=\"middle\" alt=\"\" border=\"0\" src=\"http://www.nepalstock.com/./images/decrease.gif\" width=\"8\"/>    MSLB 1,014.00 ( 1385 ) ( <span class=\"red\"> -10.5 </span>) <img align=\"middle\" alt=\"\" border=\"0\" src=\"http://www.nepalstock.com/./images/decrease.gif\" width=\"8\"/>    SEF 8.02 ( 11500 ) ( <span class=\"red\"> -0.11 </span>) <img align=\"middle\" alt=\"\" border=\"0\" src=\"http://www.nepalstock.com/./images/decrease.gif\" width=\"8\"/>    NYADI 286.10 ( 3544 ) ( <span class=\"red\"> -8.9 </span>) <img align=\"middle\" alt=\"\" border=\"0\" src=\"http://www.nepalstock.com/./images/decrease.gif\" width=\"8\"/>    UIC 360.00 ( 10232 ) ( <span class=\"red\"> -1 </span>) <img align=\"middle\" alt=\"\" border=\"0\" src=\"http://www.nepalstock.com/./images/decrease.gif\" width=\"8\"/>    PMHPL 204.90 ( 11886 ) ( <span class=\"green\"> 1.9 </span>) <img align=\"middle\" alt=\"\" border=\"0\" src=\"http://www.nepalstock.com/./images/increase.gif\" width=\"8\"/>    SANIMA 266.20 ( 27253 ) ( <span class=\"red\"> -0.8 </span>) <img align=\"middle\" alt=\"\" border=\"0\" src=\"http://www.nepalstock.com/./images/decrease.gif\" width=\"8\"/>    SDLBSL 977.00 ( 998 ) ( <span class=\"red\"> -11 </span>) <img align=\"middle\" alt=\"\" border=\"0\" src=\"http://www.nepalstock.com/./images/decrease.gif\" width=\"8\"/>    VLBS 881.00 ( 753 ) ( <span class=\"red\"> -9 </span>) <img align=\"middle\" alt=\"\" border=\"0\" src=\"http://www.nepalstock.com/./images/decrease.gif\" width=\"8\"/>    HURJA 221.50 ( 4407 ) ( <span class=\"green\"> 1.2 </span>) <img align=\"middle\" alt=\"\" border=\"0\" src=\"http://www.nepalstock.com/./images/increase.gif\" width=\"8\"/>    NIL 712.00 ( 5533 ) ( <span class=\"red\"> -6 </span>) <img align=\"middle\" alt=\"\" border=\"0\" src=\"http://www.nepalstock.com/./images/decrease.gif\" width=\"8\"/>    BARUN 218.70 ( 9089 ) ( <span class=\"red\"> -4.8 </span>) <img align=\"middle\" alt=\"\" border=\"0\" src=\"http://www.nepalstock.com/./images/decrease.gif\" width=\"8\"/>    GBLBS 632.00 ( 28096 ) ( <span class=\"red\"> -24 </span>) <img align=\"middle\" alt=\"\" border=\"0\" src=\"http://www.nepalstock.com/./images/decrease.gif\" width=\"8\"/>    NICLBSL 744.00 ( 18217 ) ( <span class=\"red\"> -34 </span>) <img align=\"middle\" alt=\"\" border=\"0\" src=\"http://www.nepalstock.com/./images/decrease.gif\" width=\"8\"/>    CGH 1,034.00 ( 2624 ) ( <span class=\"\"> 0 </span>) <img align=\"middle\" alt=\"\" border=\"0\" src=\"http://www.nepalstock.com/./images/nil.gif\" width=\"8\"/>    NLG 475.00 ( 5895 ) ( <span class=\"red\"> -1 </span>) <img align=\"middle\" alt=\"\" border=\"0\" src=\"http://www.nepalstock.com/./images/decrease.gif\" width=\"8\"/>    RMF1 7.66 ( 5800 ) ( <span class=\"green\"> 0.34 </span>) <img align=\"middle\" alt=\"\" border=\"0\" src=\"http://www.nepalstock.com/./images/increase.gif\" width=\"8\"/>    IGI 374.00 ( 26538 ) ( <span class=\"red\"> -2.9 </span>) <img align=\"middle\" alt=\"\" border=\"0\" src=\"http://www.nepalstock.com/./images/decrease.gif\" width=\"8\"/>    SWMF 729.00 ( 3002 ) ( <span class=\"green\"> 5 </span>) <img align=\"middle\" alt=\"\" border=\"0\" src=\"http://www.nepalstock.com/./images/increase.gif\" width=\"8\"/>    PFL 350.00 ( 8941 ) ( <span class=\"green\"> 5 </span>) <img align=\"middle\" alt=\"\" border=\"0\" src=\"http://www.nepalstock.com/./images/increase.gif\" width=\"8\"/>    ILBS 965.00 ( 1974 ) ( <span class=\"red\"> -10.9 </span>) <img align=\"middle\" alt=\"\" border=\"0\" src=\"http://www.nepalstock.com/./images/decrease.gif\" width=\"8\"/>    NEF 8.45 ( 29500 ) ( <span class=\"red\"> -0.2 </span>) <img align=\"middle\" alt=\"\" border=\"0\" src=\"http://www.nepalstock.com/./images/decrease.gif\" width=\"8\"/>    NMBMF 701.00 ( 6153 ) ( <span class=\"red\"> -19 </span>) <img align=\"middle\" alt=\"\" border=\"0\" src=\"http://www.nepalstock.com/./images/decrease.gif\" width=\"8\"/>    RBCLPO 10,291.00 ( 145 ) ( <span class=\"red\"> -312.6 </span>) <img align=\"middle\" alt=\"\" border=\"0\" src=\"http://www.nepalstock.com/./images/decrease.gif\" width=\"8\"/>    WNLB 935.00 ( 528 ) ( <span class=\"red\"> -27 </span>) <img align=\"middle\" alt=\"\" border=\"0\" src=\"http://www.nepalstock.com/./images/decrease.gif\" width=\"8\"/>    USLB 940.00 ( 2189 ) ( <span class=\"red\"> -14 </span>) <img align=\"middle\" alt=\"\" border=\"0\" src=\"http://www.nepalstock.com/./images/decrease.gif\" width=\"8\"/>    BHDC 350.00 ( 10455 ) ( <span class=\"green\"> 10 </span>) <img align=\"middle\" alt=\"\" border=\"0\" src=\"http://www.nepalstock.com/./images/increase.gif\" width=\"8\"/>    ENL 650.00 ( 6668 ) ( <span class=\"green\"> 2 </span>) <img align=\"middle\" alt=\"\" border=\"0\" src=\"http://www.nepalstock.com/./images/increase.gif\" width=\"8\"/>    RHPL 229.20 ( 18705 ) ( <span class=\"red\"> -2.3 </span>) <img align=\"middle\" alt=\"\" border=\"0\" src=\"http://www.nepalstock.com/./images/decrease.gif\" width=\"8\"/>    BPCL 308.20 ( 43040 ) ( <span class=\"red\"> -2.8 </span>) <img align=\"middle\" alt=\"\" border=\"0\" src=\"http://www.nepalstock.com/./images/decrease.gif\" width=\"8\"/>    SMB 1,235.80 ( 51 ) ( <span class=\"red\"> -74.2 </span>) <img align=\"middle\" alt=\"\" border=\"0\" src=\"http://www.nepalstock.com/./images/decrease.gif\" width=\"8\"/>    MEN 775.00 ( 2743 ) ( <span class=\"red\"> -15 </span>) <img align=\"middle\" alt=\"\" border=\"0\" src=\"http://www.nepalstock.com/./images/decrease.gif\" width=\"8\"/>    HEIP 247.50 ( 2668 ) ( <span class=\"green\"> 0.5 </span>) <img align=\"middle\" alt=\"\" border=\"0\" src=\"http://www.nepalstock.com/./images/increase.gif\" width=\"8\"/>    LEMF 8.00 ( 10200 ) ( <span class=\"\"> 0 </span>) <img align=\"middle\" alt=\"\" border=\"0\" src=\"http://www.nepalstock.com/./images/nil.gif\" width=\"8\"/>    LICN 1,324.00 ( 14865 ) ( <span class=\"green\"> 57.1 </span>) <img align=\"middle\" alt=\"\" border=\"0\" src=\"http://www.nepalstock.com/./images/increase.gif\" width=\"8\"/>    LBL 208.00 ( 23452 ) ( <span class=\"\"> 0 </span>) <img align=\"middle\" alt=\"\" border=\"0\" src=\"http://www.nepalstock.com/./images/nil.gif\" width=\"8\"/>    MERO 800.00 ( 5117 ) ( <span class=\"red\"> -18 </span>) <img align=\"middle\" alt=\"\" border=\"0\" src=\"http://www.nepalstock.com/./images/decrease.gif\" width=\"8\"/>    RURU 772.00 ( 921 ) ( <span class=\"green\"> 1 </span>) <img align=\"middle\" alt=\"\" border=\"0\" src=\"http://www.nepalstock.com/./images/increase.gif\" width=\"8\"/>    SCB 422.00 ( 11953 ) ( <span class=\"green\"> 1 </span>) <img align=\"middle\" alt=\"\" border=\"0\" src=\"http://www.nepalstock.com/./images/increase.gif\" width=\"8\"/>    MKLB 930.00 ( 1153 ) ( <span class=\"green\"> 14.5 </span>) <img align=\"middle\" alt=\"\" border=\"0\" src=\"http://www.nepalstock.com/./images/increase.gif\" width=\"8\"/>    GBBD85 743.10 ( 75 ) ( <span class=\"red\"> -2 </span>) <img align=\"middle\" alt=\"\" border=\"0\" src=\"http://www.nepalstock.com/./images/decrease.gif\" width=\"8\"/>    UNL 19,999.90 ( 160 ) ( <span class=\"red\"> -0.1 </span>) <img align=\"middle\" alt=\"\" border=\"0\" src=\"http://www.nepalstock.com/./images/decrease.gif\" width=\"8\"/>    SAPDBL 225.40 ( 13512 ) ( <span class=\"red\"> -4.6 </span>) <img align=\"middle\" alt=\"\" border=\"0\" src=\"http://www.nepalstock.com/./images/decrease.gif\" width=\"8\"/>    NIBSF2 7.35 ( 3165 ) ( <span class=\"green\"> 0.01 </span>) <img align=\"middle\" alt=\"\" border=\"0\" src=\"http://www.nepalstock.com/./images/increase.gif\" width=\"8\"/>    NABBC 398.90 ( 7928 ) ( <span class=\"green\"> 8.9 </span>) <img align=\"middle\" alt=\"\" border=\"0\" src=\"http://www.nepalstock.com/./images/increase.gif\" width=\"8\"/>    SJCL 230.00 ( 10210 ) ( <span class=\"green\"> 0.1 </span>) <img align=\"middle\" alt=\"\" border=\"0\" src=\"http://www.nepalstock.com/./images/increase.gif\" width=\"8\"/>    FMDBL 670.00 ( 22032 ) ( <span class=\"red\"> -5 </span>) <img align=\"middle\" alt=\"\" border=\"0\" src=\"http://www.nepalstock.com/./images/decrease.gif\" width=\"8\"/>    KDBY 7.92 ( 4500 ) ( <span class=\"green\"> 0.02 </span>) <img align=\"middle\" alt=\"\" border=\"0\" src=\"http://www.nepalstock.com/./images/increase.gif\" width=\"8\"/>    GIMES1 8.34 ( 18380 ) ( <span class=\"red\"> -0.06 </span>) <img align=\"middle\" alt=\"\" border=\"0\" src=\"http://www.nepalstock.com/./images/decrease.gif\" width=\"8\"/>    NICFC 8.16 ( 8475 ) ( <span class=\"green\"> 0.29 </span>) <img align=\"middle\" alt=\"\" border=\"0\" src=\"http://www.nepalstock.com/./images/increase.gif\" width=\"8\"/>    SLCF 7.36 ( 3000 ) ( <span class=\"red\"> -0.28 </span>) <img align=\"middle\" alt=\"\" border=\"0\" src=\"http://www.nepalstock.com/./images/decrease.gif\" width=\"8\"/>    GIBF1 8.20 ( 2610 ) ( <span class=\"green\"> 0.15 </span>) <img align=\"middle\" alt=\"\" border=\"0\" src=\"http://www.nepalstock.com/./images/increase.gif\" width=\"8\"/>    SABSL 1,036.00 ( 630 ) ( <span class=\"red\"> -9 </span>) <img align=\"middle\" alt=\"\" border=\"0\" src=\"http://www.nepalstock.com/./images/decrease.gif\" width=\"8\"/>    BNT 12,100.00 ( 175 ) ( <span class=\"red\"> -300 </span>) <img align=\"middle\" alt=\"\" border=\"0\" src=\"http://www.nepalstock.com/./images/decrease.gif\" width=\"8\"/>    NICSF 7.90 ( 39030 ) ( <span class=\"\"> 0 </span>) <img align=\"middle\" alt=\"\" border=\"0\" src=\"http://www.nepalstock.com/./images/nil.gif\" width=\"8\"/>    NBF2 8.90 ( 18810 ) ( <span class=\"red\"> -0.02 </span>) <img align=\"middle\" alt=\"\" border=\"0\" src=\"http://www.nepalstock.com/./images/decrease.gif\" width=\"8\"/>    RBCL 13,105.00 ( 200 ) ( <span class=\"red\"> -339 </span>) <img align=\"middle\" alt=\"\" border=\"0\" src=\"http://www.nepalstock.com/./images/decrease.gif\" width=\"8\"/>    BBC 3,320.00 ( 140 ) ( <span class=\"red\"> -106 </span>) <img align=\"middle\" alt=\"\" border=\"0\" src=\"http://www.nepalstock.com/./images/decrease.gif\" width=\"8\"/>    PSF 7.81 ( 8460 ) ( <span class=\"red\"> -0.07 </span>) <img align=\"middle\" alt=\"\" border=\"0\" src=\"http://www.nepalstock.com/./images/decrease.gif\" width=\"8\"/>    MMFDB 942.00 ( 2762 ) ( <span class=\"red\"> -33 </span>) <img align=\"middle\" alt=\"\" border=\"0\" src=\"http://www.nepalstock.com/./images/decrease.gif\" width=\"8\"/>    MMF1 7.32 ( 3500 ) ( <span class=\"red\"> -0.24 </span>) <img align=\"middle\" alt=\"\" border=\"0\" src=\"http://www.nepalstock.com/./images/decrease.gif\" width=\"8\"/>    CMF2 8.21 ( 11200 ) ( <span class=\"red\"> -0.16 </span>) <img align=\"middle\" alt=\"\" border=\"0\" src=\"http://www.nepalstock.com/./images/decrease.gif\" width=\"8\"/>    KEF 8.15 ( 11450 ) ( <span class=\"red\"> -0.11 </span>) <img align=\"middle\" alt=\"\" border=\"0\" src=\"http://www.nepalstock.com/./images/decrease.gif\" width=\"8\"/>    MLBS 1,197.00 ( 2279 ) ( <span class=\"green\"> 27.7 </span>) <img align=\"middle\" alt=\"\" border=\"0\" src=\"http://www.nepalstock.com/./images/increase.gif\" width=\"8\"/>    SIGS2 8.35 ( 7000 ) ( <span class=\"\"> 0 </span>) <img align=\"middle\" alt=\"\" border=\"0\" src=\"http://www.nepalstock.com/./images/nil.gif\" width=\"8\"/>    NICAD8283 1,004.00 ( 50 ) ( <span class=\"red\"> -19.9 </span>) <img align=\"middle\" alt=\"\" border=\"0\" src=\"http://www.nepalstock.com/./images/decrease.gif\" width=\"8\"/>    SBCF 7.35 ( 7120 ) ( <span class=\"red\"> -0.15 </span>) <img align=\"middle\" alt=\"\" border=\"0\" src=\"http://www.nepalstock.com/./images/decrease.gif\" width=\"8\"/>    NBLD85 784.00 ( 30 ) ( <span class=\"red\"> -16 </span>) <img align=\"middle\" alt=\"\" border=\"0\" src=\"http://www.nepalstock.com/./images/decrease.gif\" width=\"8\"/>    GLBSL 853.00 ( 1233 ) ( <span class=\"red\"> -17 </span>) <img align=\"middle\" alt=\"\" border=\"0\" src=\"http://www.nepalstock.com/./images/decrease.gif\" width=\"8\"/>    NICBF 8.49 ( 10200 ) ( <span class=\"green\"> 0.03 </span>) <img align=\"middle\" alt=\"\" border=\"0\" src=\"http://www.nepalstock.com/./images/increase.gif\" width=\"8\"/>    NICGF 9.49 ( 500 ) ( <span class=\"green\"> 0.36 </span>) <img align=\"middle\" alt=\"\" border=\"0\" src=\"http://www.nepalstock.com/./images/increase.gif\" width=\"8\"/>    TRH 355.00 ( 2764 ) ( <span class=\"red\"> -2 </span>) <img align=\"middle\" alt=\"\" border=\"0\" src=\"http://www.nepalstock.com/./images/decrease.gif\" width=\"8\"/>    NIBLPF 8.03 ( 16775 ) ( <span class=\"red\"> -0.3 </span>) <img align=\"middle\" alt=\"\" border=\"0\" src=\"http://www.nepalstock.com/./images/decrease.gif\" width=\"8\"/>    LUK 8.18 ( 2700 ) ( <span class=\"green\"> 0.28 </span>) <img align=\"middle\" alt=\"\" border=\"0\" src=\"http://www.nepalstock.com/./images/increase.gif\" width=\"8\"/>    CCBD88 856.10 ( 50 ) ( <span class=\"red\"> -13.9 </span>) <img align=\"middle\" alt=\"\" border=\"0\" src=\"http://www.nepalstock.com/./images/decrease.gif\" width=\"8\"/>    DLBS 198.10 ( 50 ) ( <span class=\"green\"> 14.9 </span>) <img align=\"middle\" alt=\"\" border=\"0\" src=\"http://www.nepalstock.com/./images/increase.gif\" width=\"8\"/>    CBLD88 856.90 ( 50 ) ( <span class=\"green\"> 22.6 </span>) <img align=\"middle\" alt=\"\" border=\"0\" src=\"http://www.nepalstock.com/./images/increase.gif\" width=\"8\"/>    NMB50 9.77 ( 4531 ) ( <span class=\"green\"> 0.37 </span>) <img align=\"middle\" alt=\"\" border=\"0\" src=\"http://www.nepalstock.com/./images/increase.gif\" width=\"8\"/>    NMBHF1 9.31 ( 200 ) ( <span class=\"green\"> 0.35 </span>) <img align=\"middle\" alt=\"\" border=\"0\" src=\"http://www.nepalstock.com/./images/increase.gif\" width=\"8\"/>    CMF1 8.60 ( 500 ) ( <span class=\"green\"> 0.1 </span>) <img align=\"middle\" alt=\"\" border=\"0\" src=\"http://www.nepalstock.com/./images/increase.gif\" width=\"8\"/>    PBD88 826.00 ( 75 ) ( <span class=\"green\"> 4.2 </span>) <img align=\"middle\" alt=\"\" border=\"0\" src=\"http://www.nepalstock.com/./images/increase.gif\" width=\"8\"/>    EBLD86 750.00 ( 25 ) ( <span class=\"green\"> 5 </span>) <img align=\"middle\" alt=\"\" border=\"0\" src=\"http://www.nepalstock.com/./images/increase.gif\" width=\"8\"/>     </b></marquee>\n",
       "</div> </div>\n",
       "<!-- End Ticker -->\n",
       "<div class=\"container\" id=\"home-contents\" style=\"width:81.5%\">\n",
       "<script type=\"text/javascript\">\n",
       "    $('#search_symbol').on('click', function(e){\n",
       "        if($('#stock_symbol').val() == '') {\n",
       "            e.preventDefault();\n",
       "        }\n",
       "    });\n",
       "\n",
       "    $('#StockSymbol_Select').on('change', function(e){\n",
       "        var stockid = $('#StockSymbol_Select').val();\n",
       "        window.open('http://www.nepalstock.com/company/display/'+stockid, \"_self\");\n",
       "    });\n",
       "</script>\n",
       "<table class=\"table my-table\">\n",
       "<tr align=\"right\">\n",
       "<td colspan=\"8\">\n",
       "<form action=\"http://www.nepalstock.com/floorsheet\" id=\"news_info-filter\" method=\"POST\" name=\"news_info-filter\">\n",
       "<label>Contract No.  <input id=\"contract-no\" name=\"contract-no\" type=\"text\" value=\"\"/> |</label>\n",
       "<label>\n",
       "<select class=\"stock-symbol\" id=\"stock-symbol\" name=\"stock-symbol\">\n",
       "<option value=\"\">Stock Symbol</option>\n",
       "<option value=\"ACLBSL\">ACLBSL</option><option value=\"ADBL\">ADBL</option><option value=\"ADBLB\">ADBLB</option><option value=\"ADBLB86\">ADBLB86</option><option value=\"ADBLB87\">ADBLB87</option><option value=\"ADBLD83\">ADBLD83</option><option value=\"ADLB\">ADLB</option><option value=\"AHPC\">AHPC</option><option value=\"AIL\">AIL</option><option value=\"AKBSL\">AKBSL</option><option value=\"AKBSLP\">AKBSLP</option><option value=\"AKJCL\">AKJCL</option><option value=\"AKPL\">AKPL</option><option value=\"ALBSL\">ALBSL</option><option value=\"ALBSLP\">ALBSLP</option><option value=\"ALICL\">ALICL</option><option value=\"ALICLP\">ALICLP</option><option value=\"AMFI\">AMFI</option><option value=\"AMFIPO\">AMFIPO</option><option value=\"API\">API</option><option value=\"AVU\">AVU</option><option value=\"AVYAN\">AVYAN</option><option value=\"BARUN\">BARUN</option><option value=\"BBC\">BBC</option><option value=\"BFC\">BFC</option><option value=\"BFCPO\">BFCPO</option><option value=\"BFLPO\">BFLPO</option><option value=\"BHBL\">BHBL</option><option value=\"BHBLPO\">BHBLPO</option><option value=\"BHDC\">BHDC</option><option value=\"BHL\">BHL</option><option value=\"BNHC\">BNHC</option><option value=\"BNL\">BNL</option><option value=\"BNT\">BNT</option><option value=\"BOKD2079\">BOKD2079</option><option value=\"BOKD86\">BOKD86</option><option value=\"BOKL\">BOKL</option><option value=\"BOKLPO\">BOKLPO</option><option value=\"BPCL\">BPCL</option><option value=\"BSBLPO\">BSBLPO</option><option value=\"BSL\">BSL</option><option value=\"BSM\">BSM</option><option value=\"CBBL\">CBBL</option><option value=\"CBBLPO\">CBBLPO</option><option value=\"CBL\">CBL</option><option value=\"CBLD88\">CBLD88</option><option value=\"CBLPO\">CBLPO</option><option value=\"CCBD88\">CCBD88</option><option value=\"CCBL\">CCBL</option><option value=\"CCBLPO\">CCBLPO</option><option value=\"CEFL\">CEFL</option><option value=\"CEFLPO\">CEFLPO</option><option value=\"CFCL\">CFCL</option><option value=\"CFCLPO\">CFCLPO</option><option value=\"CFL\">CFL</option><option value=\"CGH\">CGH</option><option value=\"CHCL\">CHCL</option><option value=\"CHDC\">CHDC</option><option value=\"CHL\">CHL</option><option value=\"CIT\">CIT</option><option value=\"CIZBD86\">CIZBD86</option><option value=\"CLBSL\">CLBSL</option><option value=\"CLBSLP\">CLBSLP</option><option value=\"CMB\">CMB</option><option value=\"CMBFLP\">CMBFLP</option><option value=\"CMF1\">CMF1</option><option value=\"CMF2\">CMF2</option><option value=\"CORBL\">CORBL</option><option value=\"CORBLP\">CORBLP</option><option value=\"CYCL\">CYCL</option><option value=\"CZBIL\">CZBIL</option><option value=\"CZBILP\">CZBILP</option><option value=\"DDBL\">DDBL</option><option value=\"DDBLPO\">DDBLPO</option><option value=\"DHPL\">DHPL</option><option value=\"DLBS\">DLBS</option><option value=\"DORDI\">DORDI</option><option value=\"EBL\">EBL</option><option value=\"EBLCP\">EBLCP</option><option value=\"EBLPO\">EBLPO</option><option value=\"EDBL\">EDBL</option><option value=\"EDBLPO\">EDBLPO</option><option value=\"EIC\">EIC</option><option value=\"EICPO\">EICPO</option><option value=\"ENL\">ENL</option><option value=\"FBBLPO\">FBBLPO</option><option value=\"FHL\">FHL</option><option value=\"FMDBL\">FMDBL</option><option value=\"FMDBLP\">FMDBLP</option><option value=\"FOWAD\">FOWAD</option><option value=\"FOWADP\">FOWADP</option><option value=\"GBBD85\">GBBD85</option><option value=\"GBBL\">GBBL</option><option value=\"GBBLPO\">GBBLPO</option><option value=\"GBD80/81\">GBD80/81</option><option value=\"GBILD86/87\">GBILD86/87</option><option value=\"GBIME\">GBIME</option><option value=\"GBIMEP\">GBIMEP</option><option value=\"GBLBS\">GBLBS</option><option value=\"GBLBSP\">GBLBSP</option><option value=\"GDBL\">GDBL</option><option value=\"GDBLPO\">GDBLPO</option><option value=\"GFCL\">GFCL</option><option value=\"GFCLPO\">GFCLPO</option><option value=\"GGBSL\">GGBSL</option><option value=\"GHL\">GHL</option><option value=\"GIC\">GIC</option><option value=\"GILB\">GILB</option><option value=\"GILBPO\">GILBPO</option><option value=\"GIMES1\">GIMES1</option><option value=\"GLBSL\">GLBSL</option><option value=\"GLH\">GLH</option><option value=\"GLICL\">GLICL</option><option value=\"GLICLP\">GLICLP</option><option value=\"GMFBS\">GMFBS</option><option value=\"GMFIL\">GMFIL</option><option value=\"GMFILP\">GMFILP</option><option value=\"GRDBL\">GRDBL</option><option value=\"GRDBLP\">GRDBLP</option><option value=\"GRU\">GRU</option><option value=\"GUFL\">GUFL</option><option value=\"GUFLPO\">GUFLPO</option><option value=\"GVL\">GVL</option><option value=\"GWFD83\">GWFD83</option><option value=\"HAMRO\">HAMRO</option><option value=\"HAMROP\">HAMROP</option><option value=\"HATH\">HATH</option><option value=\"HATHPO\">HATHPO</option><option value=\"HBL\">HBL</option><option value=\"HBLD83\">HBLD83</option><option value=\"HBLPO\">HBLPO</option><option value=\"HBT\">HBT</option><option value=\"HDHPC\">HDHPC</option><option value=\"HDL\">HDL</option><option value=\"HEI\">HEI</option><option value=\"HEIP\">HEIP</option><option value=\"HFL\">HFL</option><option value=\"HHL\">HHL</option><option value=\"HIDCL\">HIDCL</option><option value=\"HIDCLP\">HIDCLP</option><option value=\"HPPL\">HPPL</option><option value=\"HURJA\">HURJA</option><option value=\"ICFC\">ICFC</option><option value=\"ICFCD83\">ICFCD83</option><option value=\"ICFCPO\">ICFCPO</option><option value=\"IGI\">IGI</option><option value=\"IGIPO\">IGIPO</option><option value=\"ILBS\">ILBS</option><option value=\"JALPA\">JALPA</option><option value=\"JBBD87\">JBBD87</option><option value=\"JBBL\">JBBL</option><option value=\"JBBLPO\">JBBLPO</option><option value=\"JBLB\">JBLB</option><option value=\"JBLBP\">JBLBP</option><option value=\"JBNL\">JBNL</option><option value=\"JBNLPO\">JBNLPO</option><option value=\"JFL\">JFL</option><option value=\"JFLPO\">JFLPO</option><option value=\"JLI\">JLI</option><option value=\"JOSHI\">JOSHI</option><option value=\"JSLBB\">JSLBB</option><option value=\"JSLBBP\">JSLBBP</option><option value=\"JSM\">JSM</option><option value=\"KBL\">KBL</option><option value=\"KBLD86\">KBLD86</option><option value=\"KBLPO\">KBLPO</option><option value=\"KDBY\">KDBY</option><option value=\"KEF\">KEF</option><option value=\"KKHC\">KKHC</option><option value=\"KLBSL\">KLBSL</option><option value=\"KLBSLP\">KLBSLP</option><option value=\"KMCDB\">KMCDB</option><option value=\"KMCDBP\">KMCDBP</option><option value=\"KNBL\">KNBL</option><option value=\"KNBLPO\">KNBLPO</option><option value=\"KPCL\">KPCL</option><option value=\"KRBL\">KRBL</option><option value=\"KRBLPO\">KRBLPO</option><option value=\"KSBBL\">KSBBL</option><option value=\"KSBBLD87\">KSBBLD87</option><option value=\"KSBBLP\">KSBBLP</option><option value=\"LBBL\">LBBL</option><option value=\"LBBLPO\">LBBLPO</option><option value=\"LBL\">LBL</option><option value=\"LBLD86\">LBLD86</option><option value=\"LBLD88\">LBLD88</option><option value=\"LBLPO\">LBLPO</option><option value=\"LEC\">LEC</option><option value=\"LEMF\">LEMF</option><option value=\"LFC\">LFC</option><option value=\"LFCPO\">LFCPO</option><option value=\"LGIL\">LGIL</option><option value=\"LGILPO\">LGILPO</option><option value=\"LICN\">LICN</option><option value=\"LICNPO\">LICNPO</option><option value=\"LLBS\">LLBS</option><option value=\"LLBSPO\">LLBSPO</option><option value=\"LUK\">LUK</option><option value=\"MBJC\">MBJC</option><option value=\"MBL\">MBL</option><option value=\"MBLD2085\">MBLD2085</option><option value=\"MBLD87\">MBLD87</option><option value=\"MBLPO\">MBLPO</option><option value=\"MDB\">MDB</option><option value=\"MDBLPO\">MDBLPO</option><option value=\"MDBPO\">MDBPO</option><option value=\"MEGA\">MEGA</option><option value=\"MEGAPO\">MEGAPO</option><option value=\"MEN\">MEN</option><option value=\"MERO\">MERO</option><option value=\"MEROPO\">MEROPO</option><option value=\"MFIL\">MFIL</option><option value=\"MFILPO\">MFILPO</option><option value=\"MFLD85\">MFLD85</option><option value=\"MHL\">MHL</option><option value=\"MHNL\">MHNL</option><option value=\"MKJC\">MKJC</option><option value=\"MKLB\">MKLB</option><option value=\"MLBBL\">MLBBL</option><option value=\"MLBBLP\">MLBBLP</option><option value=\"MLBL\">MLBL</option><option value=\"MLBLPO\">MLBLPO</option><option value=\"MLBS\">MLBS</option><option value=\"MLBSL\">MLBSL</option><option value=\"MMF1\">MMF1</option><option value=\"MMFDB\">MMFDB</option><option value=\"MMFDBP\">MMFDBP</option><option value=\"MNBBL\">MNBBL</option><option value=\"MNBBLP\">MNBBLP</option><option value=\"MND84/85\">MND84/85</option><option value=\"MPFL\">MPFL</option><option value=\"MPFLPO\">MPFLPO</option><option value=\"MSLB\">MSLB</option><option value=\"MSLBP\">MSLBP</option><option value=\"MSMBS\">MSMBS</option><option value=\"MSMBSP\">MSMBSP</option><option value=\"NABBC\">NABBC</option><option value=\"NABIL\">NABIL</option><option value=\"NABILP\">NABILP</option><option value=\"NADEP\">NADEP</option><option value=\"NADEPP\">NADEPP</option><option value=\"NAGRO\">NAGRO</option><option value=\"NBB\">NBB</option><option value=\"NBBD2085\">NBBD2085</option><option value=\"NBBPO\">NBBPO</option><option value=\"NBBU\">NBBU</option><option value=\"NBF2\">NBF2</option><option value=\"NBF3\">NBF3</option><option value=\"NBL\">NBL</option><option value=\"NBLD82\">NBLD82</option><option value=\"NBLD85\">NBLD85</option><option value=\"NBLD87\">NBLD87</option><option value=\"NCCB\">NCCB</option><option value=\"NCCBPO\">NCCBPO</option><option value=\"NCCD86\">NCCD86</option><option value=\"NEF\">NEF</option><option value=\"NESDO\">NESDO</option><option value=\"NFD\">NFD</option><option value=\"NFS\">NFS</option><option value=\"NFSPO\">NFSPO</option><option value=\"NGPL\">NGPL</option><option value=\"NHDL\">NHDL</option><option value=\"NHPC\">NHPC</option><option value=\"NIB\">NIB</option><option value=\"NIBD2082\">NIBD2082</option><option value=\"NIBD84\">NIBD84</option><option value=\"NIBLPF\">NIBLPF</option><option value=\"NIBPO\">NIBPO</option><option value=\"NIBSF2\">NIBSF2</option><option value=\"NICA\">NICA</option><option value=\"NICAD 85/86\">NICAD 85/86</option><option value=\"NICAD8182\">NICAD8182</option><option value=\"NICAD8283\">NICAD8283</option><option value=\"NICAP\">NICAP</option><option value=\"NICBF\">NICBF</option><option value=\"NICD83/84\">NICD83/84</option><option value=\"NICD88\">NICD88</option><option value=\"NICFC\">NICFC</option><option value=\"NICGF\">NICGF</option><option value=\"NICL\">NICL</option><option value=\"NICLBSL\">NICLBSL</option><option value=\"NICLPO\">NICLPO</option><option value=\"NICSF\">NICSF</option><option value=\"NIDC\">NIDC</option><option value=\"NIDCPO\">NIDCPO</option><option value=\"NIFRA\">NIFRA</option><option value=\"NIL\">NIL</option><option value=\"NILPO\">NILPO</option><option value=\"NKU\">NKU</option><option value=\"NLBBL\">NLBBL</option><option value=\"NLBBLP\">NLBBLP</option><option value=\"NLG\">NLG</option><option value=\"NLGPO\">NLGPO</option><option value=\"NLIC\">NLIC</option><option value=\"NLICL\">NLICL</option><option value=\"NLICLP\">NLICLP</option><option value=\"NLICP\">NLICP</option><option value=\"NLO\">NLO</option><option value=\"NMB\">NMB</option><option value=\"NMB50\">NMB50</option><option value=\"NMBD2085\">NMBD2085</option><option value=\"NMBD87/88\">NMBD87/88</option><option value=\"NMBEB92/93\">NMBEB92/93</option><option value=\"NMBHF1\">NMBHF1</option><option value=\"NMBMF\">NMBMF</option><option value=\"NMBMFP\">NMBMFP</option><option value=\"NMBPO\">NMBPO</option><option value=\"NMFBS\">NMFBS</option><option value=\"NMFBSP\">NMFBSP</option><option value=\"NRIC\">NRIC</option><option value=\"NRN\">NRN</option><option value=\"NSLB\">NSLB</option><option value=\"NSLBP\">NSLBP</option><option value=\"NSM\">NSM</option><option value=\"NSMPO\">NSMPO</option><option value=\"NTC\">NTC</option><option value=\"NTL\">NTL</option><option value=\"NUBL\">NUBL</option><option value=\"NUBLPO\">NUBLPO</option><option value=\"NVG\">NVG</option><option value=\"NWC\">NWC</option><option value=\"NYADI\">NYADI</option><option value=\"ODBL\">ODBL</option><option value=\"ODBLPO\">ODBLPO</option><option value=\"OHL\">OHL</option><option value=\"PBD84\">PBD84</option><option value=\"PBD85\">PBD85</option><option value=\"PBD88\">PBD88</option><option value=\"PBLD84\">PBLD84</option><option value=\"PBLD86\">PBLD86</option><option value=\"PBLD87\">PBLD87</option><option value=\"PCBL\">PCBL</option><option value=\"PCBLP\">PCBLP</option><option value=\"PDBLPO\">PDBLPO</option><option value=\"PFL\">PFL</option><option value=\"PFLPO\">PFLPO</option><option value=\"PIC\">PIC</option><option value=\"PICL\">PICL</option><option value=\"PICLPO\">PICLPO</option><option value=\"PICPO\">PICPO</option><option value=\"PLI\">PLI</option><option value=\"PLIC\">PLIC</option><option value=\"PLICPO\">PLICPO</option><option value=\"PMHPL\">PMHPL</option><option value=\"PPCL\">PPCL</option><option value=\"PPL\">PPL</option><option value=\"PRFLPO\">PRFLPO</option><option value=\"PRIN\">PRIN</option><option value=\"PRINPO\">PRINPO</option><option value=\"PROFL\">PROFL</option><option value=\"PROFLP\">PROFLP</option><option value=\"PRVU\">PRVU</option><option value=\"PRVUPO\">PRVUPO</option><option value=\"PSDBLP\">PSDBLP</option><option value=\"PSF\">PSF</option><option value=\"RADHI\">RADHI</option><option value=\"RBBD83\">RBBD83</option><option value=\"RBCL\">RBCL</option><option value=\"RBCLPO\">RBCLPO</option><option value=\"RFPL\">RFPL</option><option value=\"RHGCL\">RHGCL</option><option value=\"RHPL\">RHPL</option><option value=\"RIDI\">RIDI</option><option value=\"RJM\">RJM</option><option value=\"RLFL\">RLFL</option><option value=\"RLFLPO\">RLFLPO</option><option value=\"RLI\">RLI</option><option value=\"RMBFPO\">RMBFPO</option><option value=\"RMDC\">RMDC</option><option value=\"RMDCPO\">RMDCPO</option><option value=\"RMF1\">RMF1</option><option value=\"RRHP\">RRHP</option><option value=\"RSDC\">RSDC</option><option value=\"RSDCP\">RSDCP</option><option value=\"RULB\">RULB</option><option value=\"RURU\">RURU</option><option value=\"SABSL\">SABSL</option><option value=\"SADBL\">SADBL</option><option value=\"SADBLP\">SADBLP</option><option value=\"SAEF\">SAEF</option><option value=\"SAHAS\">SAHAS</option><option value=\"SAMAJ\">SAMAJ</option><option value=\"SAND2085\">SAND2085</option><option value=\"SANIMA\">SANIMA</option><option value=\"SAPDBL\">SAPDBL</option><option value=\"SAPDBLP\">SAPDBLP</option><option value=\"SBBLJ\">SBBLJ</option><option value=\"SBBLJP\">SBBLJP</option><option value=\"SBBLPO\">SBBLPO</option><option value=\"SBCF\">SBCF</option><option value=\"SBD87\">SBD87</option><option value=\"SBI\">SBI</option><option value=\"SBIBD86\">SBIBD86</option><option value=\"SBIPO\">SBIPO</option><option value=\"SBL\">SBL</option><option value=\"SBLD2082\">SBLD2082</option><option value=\"SBLD83\">SBLD83</option><option value=\"SBLD84\">SBLD84</option><option value=\"SBLPO\">SBLPO</option><option value=\"SBPP\">SBPP</option><option value=\"SCB\">SCB</option><option value=\"SCBPO\">SCBPO</option><option value=\"SDBD87\">SDBD87</option><option value=\"SDESI\">SDESI</option><option value=\"SDLBSL\">SDLBSL</option><option value=\"SEF\">SEF</option><option value=\"SEOS\">SEOS</option><option value=\"SFC\">SFC</option><option value=\"SFCL\">SFCL</option><option value=\"SFCLP\">SFCLP</option><option value=\"SFCPO\">SFCPO</option><option value=\"SFFIL\">SFFIL</option><option value=\"SFFILP\">SFFILP</option><option value=\"SFMF\">SFMF</option><option value=\"SGHC\">SGHC</option><option value=\"SGI\">SGI</option><option value=\"SHBL\">SHBL</option><option value=\"SHBLPO\">SHBLPO</option><option value=\"SHEL\">SHEL</option><option value=\"SHINE\">SHINE</option><option value=\"SHINEP\">SHINEP</option><option value=\"SHIVM\">SHIVM</option><option value=\"SHL\">SHL</option><option value=\"SHPC\">SHPC</option><option value=\"SIC\">SIC</option><option value=\"SICL\">SICL</option><option value=\"SICLPO\">SICLPO</option><option value=\"SICPO\">SICPO</option><option value=\"SIFC\">SIFC</option><option value=\"SIFCPO\">SIFCPO</option><option value=\"SIGS2\">SIGS2</option><option value=\"SIL\">SIL</option><option value=\"SILPO\">SILPO</option><option value=\"SINDU\">SINDU</option><option value=\"SINDUP\">SINDUP</option><option value=\"SJCL\">SJCL</option><option value=\"SKBBL\">SKBBL</option><option value=\"SKBBLP\">SKBBLP</option><option value=\"SLBBL\">SLBBL</option><option value=\"SLBBLP\">SLBBLP</option><option value=\"SLBS\">SLBS</option><option value=\"SLBSL\">SLBSL</option><option value=\"SLBSP\">SLBSP</option><option value=\"SLCF\">SLCF</option><option value=\"SLI\">SLI</option><option value=\"SLICL\">SLICL</option><option value=\"SLICLP\">SLICLP</option><option value=\"SMATA\">SMATA</option><option value=\"SMATAP\">SMATAP</option><option value=\"SMB\">SMB</option><option value=\"SMBPO\">SMBPO</option><option value=\"SMFBS\">SMFBS</option><option value=\"SMFDB\">SMFDB</option><option value=\"SMFDBP\">SMFDBP</option><option value=\"SODBLP\">SODBLP</option><option value=\"SPARS\">SPARS</option><option value=\"SPC\">SPC</option><option value=\"SPDL\">SPDL</option><option value=\"SPHL\">SPHL</option><option value=\"SRBL\">SRBL</option><option value=\"SRBLD83\">SRBLD83</option><option value=\"SRBLPO\">SRBLPO</option><option value=\"SRD80\">SRD80</option><option value=\"SRS\">SRS</option><option value=\"SSHL\">SSHL</option><option value=\"STC\">STC</option><option value=\"SWBBL\">SWBBL</option><option value=\"SWBBLP\">SWBBLP</option><option value=\"SWMF\">SWMF</option><option value=\"SWMFPO\">SWMFPO</option><option value=\"SYFL\">SYFL</option><option value=\"SYFLPO\">SYFLPO</option><option value=\"TMDBL\">TMDBL</option><option value=\"TMDBLP\">TMDBLP</option><option value=\"TPC\">TPC</option><option value=\"TRH\">TRH</option><option value=\"UFL\">UFL</option><option value=\"UFLPO\">UFLPO</option><option value=\"UHEWA\">UHEWA</option><option value=\"UIC\">UIC</option><option value=\"UICPO\">UICPO</option><option value=\"ULBSL\">ULBSL</option><option value=\"ULI\">ULI</option><option value=\"UMHL\">UMHL</option><option value=\"UMRH\">UMRH</option><option value=\"UNHPL\">UNHPL</option><option value=\"UNL\">UNL</option><option value=\"UPCL\">UPCL</option><option value=\"UPPER\">UPPER</option><option value=\"USHEC\">USHEC</option><option value=\"USLB\">USLB</option><option value=\"USLBP\">USLBP</option><option value=\"VLBS\">VLBS</option><option value=\"VLBSPO\">VLBSPO</option><option value=\"WNLB\">WNLB</option><option value=\"WNLBP\">WNLBP</option><option value=\"YHL\">YHL</option> </select> |\n",
       "                </label>\n",
       "<label>Buyer  <input id=\"buyer\" name=\"buyer\" type=\"text\" value=\"\"/> |</label>\n",
       "<label>Seller  <input id=\"seller\" name=\"seller\" type=\"text\" value=\"\"/> |</label>\n",
       "<label>Total Rows\n",
       "                    <select name=\"_limit\">\n",
       "<option value=\"20\">20</option>\n",
       "<option value=\"50\">50</option>\n",
       "<option value=\"200\">200</option>\n",
       "<option value=\"300\">300</option>\n",
       "<option value=\"500\">500</option>\n",
       "</select> |\n",
       "                </label>\n",
       "<input class=\"btn btn-success\" type=\"submit\" value=\"Filter\"/>\n",
       "<input class=\"btn btn-default\" name=\"filter\" type=\"submit\" value=\"Reset\"/>\n",
       "</form>\n",
       "</td>\n",
       "</tr>\n",
       "<tr class=\"unique\">\n",
       "<td>S.N.</td>\n",
       "<td><a class=\"icon-sorter sorter\" href=\"http://www.nepalstock.com/main/floorsheet/index/1/contract-no/asc/\">Contract No</a></td>\n",
       "<td><a class=\"icon-sorter sorter\" href=\"http://www.nepalstock.com/main/floorsheet/index/1/stock-symbol/asc/\">Stock Symbol</a></td>\n",
       "<td><a class=\"icon-sorter sorter\" href=\"http://www.nepalstock.com/main/floorsheet/index/1/buyer/asc/\">Buyer Broker</a></td>\n",
       "<td><a class=\"icon-sorter sorter\" href=\"http://www.nepalstock.com/main/floorsheet/index/1/seller/asc/\">Seller Broker</a></td>\n",
       "<td>Quantity</td>\n",
       "<td>Rate</td>\n",
       "<td>Amount</td>\n",
       "</tr>\n",
       "<tr>\n",
       "<td>1</td>\n",
       "<td>2022110701009898</td>\n",
       "<td data-placement=\"left\" data-toggle=\"tooltip\" title=\"Aviyan Laghubitta Bittiya Sanstha Limited\">AVYAN</td>\n",
       "<td>14</td>\n",
       "<td>26</td>\n",
       "<td>20</td>\n",
       "<td>774</td>\n",
       "<td>15480.00</td>\n",
       "</tr>\n",
       "<tr>\n",
       "<td>2</td>\n",
       "<td>2022110701009897</td>\n",
       "<td data-placement=\"left\" data-toggle=\"tooltip\" title=\"People's Power Limited\">PPL</td>\n",
       "<td>7</td>\n",
       "<td>14</td>\n",
       "<td>280</td>\n",
       "<td>213</td>\n",
       "<td>59640.00</td>\n",
       "</tr>\n",
       "<tr>\n",
       "<td>3</td>\n",
       "<td>2022110701009896</td>\n",
       "<td data-placement=\"left\" data-toggle=\"tooltip\" title=\"People's Power Limited\">PPL</td>\n",
       "<td>49</td>\n",
       "<td>14</td>\n",
       "<td>120</td>\n",
       "<td>213</td>\n",
       "<td>25560.00</td>\n",
       "</tr>\n",
       "<tr>\n",
       "<td>4</td>\n",
       "<td>2022110701009895</td>\n",
       "<td data-placement=\"left\" data-toggle=\"tooltip\" title=\"People's Power Limited\">PPL</td>\n",
       "<td>59</td>\n",
       "<td>14</td>\n",
       "<td>100</td>\n",
       "<td>213.1</td>\n",
       "<td>21310.00</td>\n",
       "</tr>\n",
       "<tr>\n",
       "<td>5</td>\n",
       "<td>2022110703013175</td>\n",
       "<td data-placement=\"left\" data-toggle=\"tooltip\" title=\"Forward Microfinance Laghubitta Bittiya Sanstha Limited\">FOWAD</td>\n",
       "<td>49</td>\n",
       "<td>8</td>\n",
       "<td>10</td>\n",
       "<td>2735</td>\n",
       "<td>27350.00</td>\n",
       "</tr>\n",
       "<tr>\n",
       "<td>6</td>\n",
       "<td>2022110705002746</td>\n",
       "<td data-placement=\"left\" data-toggle=\"tooltip\" title=\"Jalpa Samudayik Laghubitta Bittiya Sanstha Limited\">JALPA</td>\n",
       "<td>41</td>\n",
       "<td>43</td>\n",
       "<td>10</td>\n",
       "<td>3645</td>\n",
       "<td>36450.00</td>\n",
       "</tr>\n",
       "<tr>\n",
       "<td>7</td>\n",
       "<td>2022110703013174</td>\n",
       "<td data-placement=\"left\" data-toggle=\"tooltip\" title=\"Miteri Development Bank Limited\">MDB</td>\n",
       "<td>10</td>\n",
       "<td>7</td>\n",
       "<td>10</td>\n",
       "<td>385.9</td>\n",
       "<td>3859.00</td>\n",
       "</tr>\n",
       "<tr>\n",
       "<td>8</td>\n",
       "<td>2022110703013173</td>\n",
       "<td data-placement=\"left\" data-toggle=\"tooltip\" title=\"Global IME Laghubitta Bittiya Sanstha Ltd.\">GILB</td>\n",
       "<td>58</td>\n",
       "<td>36</td>\n",
       "<td>10</td>\n",
       "<td>1207</td>\n",
       "<td>12070.00</td>\n",
       "</tr>\n",
       "<tr>\n",
       "<td>9</td>\n",
       "<td>2022110703013172</td>\n",
       "<td data-placement=\"left\" data-toggle=\"tooltip\" title=\"Manjushree Finance Ltd.\">MFIL</td>\n",
       "<td>28</td>\n",
       "<td>50</td>\n",
       "<td>360</td>\n",
       "<td>440.8</td>\n",
       "<td>158688.00</td>\n",
       "</tr>\n",
       "<tr>\n",
       "<td>10</td>\n",
       "<td>2022110704009293</td>\n",
       "<td data-placement=\"left\" data-toggle=\"tooltip\" title=\"Arun Kabeli Power Ltd.\">AKPL</td>\n",
       "<td>50</td>\n",
       "<td>21</td>\n",
       "<td>10</td>\n",
       "<td>374.9</td>\n",
       "<td>3749.00</td>\n",
       "</tr>\n",
       "<tr>\n",
       "<td>11</td>\n",
       "<td>2022110703013171</td>\n",
       "<td data-placement=\"left\" data-toggle=\"tooltip\" title=\"Nepal Doorsanchar Company Limited\">NTC</td>\n",
       "<td>34</td>\n",
       "<td>59</td>\n",
       "<td>50</td>\n",
       "<td>880</td>\n",
       "<td>44000.00</td>\n",
       "</tr>\n",
       "<tr>\n",
       "<td>12</td>\n",
       "<td>2022110703013170</td>\n",
       "<td data-placement=\"left\" data-toggle=\"tooltip\" title=\"Nepal Doorsanchar Company Limited\">NTC</td>\n",
       "<td>34</td>\n",
       "<td>25</td>\n",
       "<td>10</td>\n",
       "<td>880</td>\n",
       "<td>8800.00</td>\n",
       "</tr>\n",
       "<tr>\n",
       "<td>13</td>\n",
       "<td>2022110703013169</td>\n",
       "<td data-placement=\"left\" data-toggle=\"tooltip\" title=\"Ganapati Laghubitta Bittiya Sanstha Limited\">GMFBS</td>\n",
       "<td>52</td>\n",
       "<td>34</td>\n",
       "<td>10</td>\n",
       "<td>825</td>\n",
       "<td>8250.00</td>\n",
       "</tr>\n",
       "<tr>\n",
       "<td>14</td>\n",
       "<td>2022110704009292</td>\n",
       "<td data-placement=\"left\" data-toggle=\"tooltip\" title=\"United Modi Hydropower Ltd.\">UMHL</td>\n",
       "<td>7</td>\n",
       "<td>49</td>\n",
       "<td>106</td>\n",
       "<td>250</td>\n",
       "<td>26500.00</td>\n",
       "</tr>\n",
       "<tr>\n",
       "<td>15</td>\n",
       "<td>2022110704009291</td>\n",
       "<td data-placement=\"left\" data-toggle=\"tooltip\" title=\"United Modi Hydropower Ltd.\">UMHL</td>\n",
       "<td>7</td>\n",
       "<td>21</td>\n",
       "<td>200</td>\n",
       "<td>249.9</td>\n",
       "<td>49980.00</td>\n",
       "</tr>\n",
       "<tr>\n",
       "<td>16</td>\n",
       "<td>2022110704009290</td>\n",
       "<td data-placement=\"left\" data-toggle=\"tooltip\" title=\"United Modi Hydropower Ltd.\">UMHL</td>\n",
       "<td>7</td>\n",
       "<td>49</td>\n",
       "<td>500</td>\n",
       "<td>248</td>\n",
       "<td>124000.00</td>\n",
       "</tr>\n",
       "<tr>\n",
       "<td>17</td>\n",
       "<td>2022110704009289</td>\n",
       "<td data-placement=\"left\" data-toggle=\"tooltip\" title=\"United Modi Hydropower Ltd.\">UMHL</td>\n",
       "<td>7</td>\n",
       "<td>59</td>\n",
       "<td>124</td>\n",
       "<td>248</td>\n",
       "<td>30752.00</td>\n",
       "</tr>\n",
       "<tr>\n",
       "<td>18</td>\n",
       "<td>2022110703013168</td>\n",
       "<td data-placement=\"left\" data-toggle=\"tooltip\" title=\"Shree Investment Finance Co. Ltd.\">SIFC</td>\n",
       "<td>54</td>\n",
       "<td>4</td>\n",
       "<td>10</td>\n",
       "<td>329.9</td>\n",
       "<td>3299.00</td>\n",
       "</tr>\n",
       "<tr>\n",
       "<td>19</td>\n",
       "<td>2022110704009288</td>\n",
       "<td data-placement=\"left\" data-toggle=\"tooltip\" title=\"Khanikhola Hydropower Co. Ltd.\">KKHC</td>\n",
       "<td>58</td>\n",
       "<td>52</td>\n",
       "<td>30</td>\n",
       "<td>183.5</td>\n",
       "<td>5505.00</td>\n",
       "</tr>\n",
       "<tr>\n",
       "<td>20</td>\n",
       "<td>2022110703013167</td>\n",
       "<td data-placement=\"left\" data-toggle=\"tooltip\" title=\"Kamana Sewa Bikas Bank Limited\">KSBBL</td>\n",
       "<td>42</td>\n",
       "<td>1</td>\n",
       "<td>183</td>\n",
       "<td>315.8</td>\n",
       "<td>57791.40</td>\n",
       "</tr>\n",
       "<tr>\n",
       "<td align=\"right\" colspan=\"7\"><div class=\"pager\"><a href=\"#\">Page 1/1756 </a><b>1</b><a href=\"http://www.nepalstock.com/main/floorsheet/index/2/\" title=\"Go to Page 2\">2</a><a href=\"http://www.nepalstock.com/main/floorsheet/index/3/\" title=\"Go to Page 3\">3</a><a href=\"http://www.nepalstock.com/main/floorsheet/index/4/\" title=\"Go to Page 4\">4</a><a href=\"http://www.nepalstock.com/main/floorsheet/index/5/\" title=\"Go to Page 5\">5</a><a href=\"http://www.nepalstock.com/main/floorsheet/index/6/\" title=\"Go to Page 6\">6</a><a href=\"http://www.nepalstock.com/main/floorsheet/index/7/\" title=\"Go to Page 7\">7</a><a href=\"http://www.nepalstock.com/main/floorsheet/index/8/\" title=\"Go to Page 8\">8</a><a href=\"http://www.nepalstock.com/main/floorsheet/index/9/\" title=\"Go to Page 9\">9</a><a href=\"http://www.nepalstock.com/main/floorsheet/index/10/\" title=\"Go to Page 10\">10</a><a href=\"http://www.nepalstock.com/main/floorsheet/index/2/\" title=\"Next Page\">Next›</a><a href=\"http://www.nepalstock.com/main/floorsheet/index/1756/\" title=\"Last Page\">Last»</a></div></td>\n",
       "</tr>\n",
       "<tr>\n",
       "<td align=\"right\" colspan=\"2\">Total Amount Rs.</td>\n",
       "<td colspan=\"8\">2,109,163,384</td>\n",
       "</tr>\n",
       "<tr>\n",
       "<td align=\"right\" colspan=\"2\">Total Quantity</td>\n",
       "<td colspan=\"8\">4,944,076</td>\n",
       "</tr>\n",
       "</table>\n",
       "</div> <!-- home-contents end -->\n",
       "<!--footer-->\n",
       "<footer class=\"bs-footer\" role=\"contentinfo\">\n",
       "<div class=\"container\">\n",
       "<div id=\"footer_sitemap row\">\n",
       "<div class=\"footercol pull-left\">\n",
       "<h2>\n",
       "<a href=\"#\">Nepse's Data</a>\n",
       "</h2><ul><li><a href=\"http://www.nepalstock.com/todaysprice\" title=\"Today's Share Price\">Today's Share Price</a></li><li><a href=\"http://www.nepalstock.com/floorsheet\" title=\"Today's Floor Sheet\">Today's Floor Sheet</a></li><li><a href=\"http://www.nepalstock.com/indices\" title=\"DateWise Indices\">DateWise Indices</a></li><li><a href=\"http://www.nepalstock.com/stockWisePrices\" title=\"Last 90 Day's Stockwise Trading\">Last 90 Day's Stockwise Trading</a></li><li><a href=\"http://www.nepalstock.com/calculation\" title=\"120 Day's Trading Average Price\">120 Day's Trading Average Price</a></li><li><a href=\"http://www.nepalstock.com/calculationoneeighty\" title=\"180 Day's Trading Average Price\">180 Day's Trading Average Price</a></li></ul></div><div class=\"footercol pull-left\">\n",
       "<h2>\n",
       "<a href=\"#\">Media</a>\n",
       "</h2><ul><li><a href=\"http://www.nepalstock.com/news/category/0\" title=\"News and Alerts\">News and Alerts</a></li><li><a href=\"http://www.nepalstock.com/news/category/2\" title=\"Press Releases\">Press Releases</a></li><li><a href=\"http://www.nepalstock.com/news/category/3\" title=\"Investor Awareness\">Investor Awareness</a></li></ul></div><div class=\"footercol pull-left\">\n",
       "<h2>\n",
       "<a href=\"#\">Company Listing</a>\n",
       "</h2><ul><li><a href=\"http://www.nepalstock.com/company\" title=\"Listed Companies\">Listed Companies</a></li><li><a href=\"http://www.nepalstock.com/listing-information\" title=\"Listing Information\">Listing Information</a></li><li><a href=\"http://www.nepalstock.com/promoter-share\" title=\"Promoter Share\">Promoter Share</a></li><li><a href=\"http://www.nepalstock.com/classification-of-listed-companies\" title=\"Classification of Companies\">Classification of Companies</a></li></ul></div><div class=\"footercol1 pull-left\">\n",
       "<br/><br/>\n",
       "<center><img alt=\"\" height=\"110\" src=\"../images/spokeperson.jpg\" width=\"75\"/></center>\n",
       "</div>\n",
       "<div class=\"footercol pull-left\">\n",
       "<br/>\n",
       "<h2><a href=\"#\"><center>Information Officer</center></a></h2>\n",
       "<p align=\"center\" style=\"font-size:12.5px;\"> Murahari Parajuli</p>\n",
       "<p align=\"center\" style=\"font-size:12px;\">Contact No.: +977-01-4250758 (ext.125\n",
       ")</p>\n",
       "<p align=\"center\" style=\"font-size:12.5px;\"> Email : mparajuli@nepalstock.com</p>\n",
       "</div> <div class=\"clear\"></div>\n",
       "</div>\n",
       "</div>\n",
       "</footer>\n",
       "<!--/footer-->\n",
       "<!--copyright-->\n",
       "<div class=\"container\">\n",
       "<div class=\"pull-left\" id=\"tou\"><a href=\"http://www.nepalstock.com/termsofuse\" target=\"_blank\">Terms of Use</a></div>\n",
       "<div class=\"pull-right\" id=\"copyright\">\n",
       "    ©2007-2022  Nepal Stock Exchange Ltd.. All Rights Reserved.</div>\n",
       "</div>\n",
       "<a href=\"#page-top\" id=\"scroll-top\">Top</a>\n",
       "<!--/copyright-->\n",
       "<!-- Bootstrap core JavaScript\n",
       "    ================================================== -->\n",
       "<!-- Placed at the end of the document so the pages load faster -->\n",
       "<script src=\"http://www.nepalstock.com/js/bootstrap.min.js\"></script>\n",
       "<script src=\"http://www.nepalstock.com/js/highstock.js\"></script>\n",
       "<script src=\"http://code.highcharts.com/stock/modules/exporting.js\"></script>\n",
       "<!-- Place this tag in your head or just before your close body tag -->\n",
       "<link href=\"http://www.nepalstock.com/js/superfish/css/superfish.css\" rel=\"stylesheet\" type=\"text/css\"/>\n",
       "<link href=\"http://www.nepalstock.com/js/scroll-top/scroll.css\" rel=\"stylesheet\" type=\"text/css\"/>\n",
       "<script src=\"http://www.nepalstock.com/js/scroll-top/scroll-top.js\" type=\"text/javascript\"></script>\n",
       "<script src=\"http://www.nepalstock.com/js/superfish/js/hoverIntent.js\" type=\"text/javascript\"></script>\n",
       "<script src=\"http://www.nepalstock.com/js/superfish/js/superfish.js\" type=\"text/javascript\"></script>\n",
       "<script type=\"text/javascript\">\n",
       "  jQuery(document).ready(function(){\n",
       "      jQuery('ul.sf-menu').superfish();\n",
       "  });\n",
       "  $(function() {\n",
       "    $('.nav-tabs li').on(\"click\", function(event){\n",
       "      event.preventDefault();\n",
       "      $(this).parent().find('li').each(function(){$(this).removeClass('active');});\n",
       "      $(this).addClass('active');\n",
       "      $(this).parent().parent().find('.option-div').each(function(){$(this).hide();});\n",
       "      $(this).parent().parent().find(''+$(this).find('a').attr('href')).show();\n",
       "      console.log($(this).parent().parent().find(''+$(this).find('a').attr('href')));\n",
       "\n",
       "    })\n",
       "\n",
       "    $('#nepse-market').on(\"change\", function(event){\n",
       "      event.preventDefault();\n",
       "      selected = $(this).val();\n",
       "      $(this).parent().find('table.nepse-market-list').each(function(){$(this).hide();});\n",
       "      $(this).parent().find('table#'+selected).show();\n",
       "\n",
       "    });\n",
       "    $(\"#nepse-market\").trigger(\"change\");\n",
       "\n",
       "      // Setup drop down menu\n",
       "      $('.dropdown-toggle').dropdown();\n",
       "     \n",
       "      // Fix input element click problem\n",
       "      $('.dropdown input, .dropdown label').click(function(e) {\n",
       "        e.stopPropagation();\n",
       "      });\n",
       "\n",
       "      jQuery(\"#menu-icon\").on(\"click\", function(){\n",
       "          jQuery(\"#nav\").slideToggle();\n",
       "          jQuery(this).toggleClass(\"active\");\n",
       "      });\n",
       "\n",
       "  });\n",
       "</script>\n",
       "</body>\n",
       "</html>"
      ]
     },
     "execution_count": 3,
     "metadata": {},
     "output_type": "execute_result"
    }
   ],
   "source": [
    "codes=soup.text\n",
    "codes=BeautifulSoup(codes,\"lxml\")\n",
    "codes"
   ]
  },
  {
   "cell_type": "code",
   "execution_count": 5,
   "id": "431486e3",
   "metadata": {},
   "outputs": [
    {
     "data": {
      "text/plain": [
       "[<tr align=\"right\">\n",
       " <td colspan=\"8\">\n",
       " <form action=\"http://www.nepalstock.com/floorsheet\" id=\"news_info-filter\" method=\"POST\" name=\"news_info-filter\">\n",
       " <label>Contract No.  <input id=\"contract-no\" name=\"contract-no\" type=\"text\" value=\"\"/> |</label>\n",
       " <label>\n",
       " <select class=\"stock-symbol\" id=\"stock-symbol\" name=\"stock-symbol\">\n",
       " <option value=\"\">Stock Symbol</option>\n",
       " <option value=\"ACLBSL\">ACLBSL</option><option value=\"ADBL\">ADBL</option><option value=\"ADBLB\">ADBLB</option><option value=\"ADBLB86\">ADBLB86</option><option value=\"ADBLB87\">ADBLB87</option><option value=\"ADBLD83\">ADBLD83</option><option value=\"ADLB\">ADLB</option><option value=\"AHPC\">AHPC</option><option value=\"AIL\">AIL</option><option value=\"AKBSL\">AKBSL</option><option value=\"AKBSLP\">AKBSLP</option><option value=\"AKJCL\">AKJCL</option><option value=\"AKPL\">AKPL</option><option value=\"ALBSL\">ALBSL</option><option value=\"ALBSLP\">ALBSLP</option><option value=\"ALICL\">ALICL</option><option value=\"ALICLP\">ALICLP</option><option value=\"AMFI\">AMFI</option><option value=\"AMFIPO\">AMFIPO</option><option value=\"API\">API</option><option value=\"AVU\">AVU</option><option value=\"AVYAN\">AVYAN</option><option value=\"BARUN\">BARUN</option><option value=\"BBC\">BBC</option><option value=\"BFC\">BFC</option><option value=\"BFCPO\">BFCPO</option><option value=\"BFLPO\">BFLPO</option><option value=\"BHBL\">BHBL</option><option value=\"BHBLPO\">BHBLPO</option><option value=\"BHDC\">BHDC</option><option value=\"BHL\">BHL</option><option value=\"BNHC\">BNHC</option><option value=\"BNL\">BNL</option><option value=\"BNT\">BNT</option><option value=\"BOKD2079\">BOKD2079</option><option value=\"BOKD86\">BOKD86</option><option value=\"BOKL\">BOKL</option><option value=\"BOKLPO\">BOKLPO</option><option value=\"BPCL\">BPCL</option><option value=\"BSBLPO\">BSBLPO</option><option value=\"BSL\">BSL</option><option value=\"BSM\">BSM</option><option value=\"CBBL\">CBBL</option><option value=\"CBBLPO\">CBBLPO</option><option value=\"CBL\">CBL</option><option value=\"CBLD88\">CBLD88</option><option value=\"CBLPO\">CBLPO</option><option value=\"CCBD88\">CCBD88</option><option value=\"CCBL\">CCBL</option><option value=\"CCBLPO\">CCBLPO</option><option value=\"CEFL\">CEFL</option><option value=\"CEFLPO\">CEFLPO</option><option value=\"CFCL\">CFCL</option><option value=\"CFCLPO\">CFCLPO</option><option value=\"CFL\">CFL</option><option value=\"CGH\">CGH</option><option value=\"CHCL\">CHCL</option><option value=\"CHDC\">CHDC</option><option value=\"CHL\">CHL</option><option value=\"CIT\">CIT</option><option value=\"CIZBD86\">CIZBD86</option><option value=\"CLBSL\">CLBSL</option><option value=\"CLBSLP\">CLBSLP</option><option value=\"CMB\">CMB</option><option value=\"CMBFLP\">CMBFLP</option><option value=\"CMF1\">CMF1</option><option value=\"CMF2\">CMF2</option><option value=\"CORBL\">CORBL</option><option value=\"CORBLP\">CORBLP</option><option value=\"CYCL\">CYCL</option><option value=\"CZBIL\">CZBIL</option><option value=\"CZBILP\">CZBILP</option><option value=\"DDBL\">DDBL</option><option value=\"DDBLPO\">DDBLPO</option><option value=\"DHPL\">DHPL</option><option value=\"DLBS\">DLBS</option><option value=\"DORDI\">DORDI</option><option value=\"EBL\">EBL</option><option value=\"EBLCP\">EBLCP</option><option value=\"EBLPO\">EBLPO</option><option value=\"EDBL\">EDBL</option><option value=\"EDBLPO\">EDBLPO</option><option value=\"EIC\">EIC</option><option value=\"EICPO\">EICPO</option><option value=\"ENL\">ENL</option><option value=\"FBBLPO\">FBBLPO</option><option value=\"FHL\">FHL</option><option value=\"FMDBL\">FMDBL</option><option value=\"FMDBLP\">FMDBLP</option><option value=\"FOWAD\">FOWAD</option><option value=\"FOWADP\">FOWADP</option><option value=\"GBBD85\">GBBD85</option><option value=\"GBBL\">GBBL</option><option value=\"GBBLPO\">GBBLPO</option><option value=\"GBD80/81\">GBD80/81</option><option value=\"GBILD86/87\">GBILD86/87</option><option value=\"GBIME\">GBIME</option><option value=\"GBIMEP\">GBIMEP</option><option value=\"GBLBS\">GBLBS</option><option value=\"GBLBSP\">GBLBSP</option><option value=\"GDBL\">GDBL</option><option value=\"GDBLPO\">GDBLPO</option><option value=\"GFCL\">GFCL</option><option value=\"GFCLPO\">GFCLPO</option><option value=\"GGBSL\">GGBSL</option><option value=\"GHL\">GHL</option><option value=\"GIC\">GIC</option><option value=\"GILB\">GILB</option><option value=\"GILBPO\">GILBPO</option><option value=\"GIMES1\">GIMES1</option><option value=\"GLBSL\">GLBSL</option><option value=\"GLH\">GLH</option><option value=\"GLICL\">GLICL</option><option value=\"GLICLP\">GLICLP</option><option value=\"GMFBS\">GMFBS</option><option value=\"GMFIL\">GMFIL</option><option value=\"GMFILP\">GMFILP</option><option value=\"GRDBL\">GRDBL</option><option value=\"GRDBLP\">GRDBLP</option><option value=\"GRU\">GRU</option><option value=\"GUFL\">GUFL</option><option value=\"GUFLPO\">GUFLPO</option><option value=\"GVL\">GVL</option><option value=\"GWFD83\">GWFD83</option><option value=\"HAMRO\">HAMRO</option><option value=\"HAMROP\">HAMROP</option><option value=\"HATH\">HATH</option><option value=\"HATHPO\">HATHPO</option><option value=\"HBL\">HBL</option><option value=\"HBLD83\">HBLD83</option><option value=\"HBLPO\">HBLPO</option><option value=\"HBT\">HBT</option><option value=\"HDHPC\">HDHPC</option><option value=\"HDL\">HDL</option><option value=\"HEI\">HEI</option><option value=\"HEIP\">HEIP</option><option value=\"HFL\">HFL</option><option value=\"HHL\">HHL</option><option value=\"HIDCL\">HIDCL</option><option value=\"HIDCLP\">HIDCLP</option><option value=\"HPPL\">HPPL</option><option value=\"HURJA\">HURJA</option><option value=\"ICFC\">ICFC</option><option value=\"ICFCD83\">ICFCD83</option><option value=\"ICFCPO\">ICFCPO</option><option value=\"IGI\">IGI</option><option value=\"IGIPO\">IGIPO</option><option value=\"ILBS\">ILBS</option><option value=\"JALPA\">JALPA</option><option value=\"JBBD87\">JBBD87</option><option value=\"JBBL\">JBBL</option><option value=\"JBBLPO\">JBBLPO</option><option value=\"JBLB\">JBLB</option><option value=\"JBLBP\">JBLBP</option><option value=\"JBNL\">JBNL</option><option value=\"JBNLPO\">JBNLPO</option><option value=\"JFL\">JFL</option><option value=\"JFLPO\">JFLPO</option><option value=\"JLI\">JLI</option><option value=\"JOSHI\">JOSHI</option><option value=\"JSLBB\">JSLBB</option><option value=\"JSLBBP\">JSLBBP</option><option value=\"JSM\">JSM</option><option value=\"KBL\">KBL</option><option value=\"KBLD86\">KBLD86</option><option value=\"KBLPO\">KBLPO</option><option value=\"KDBY\">KDBY</option><option value=\"KEF\">KEF</option><option value=\"KKHC\">KKHC</option><option value=\"KLBSL\">KLBSL</option><option value=\"KLBSLP\">KLBSLP</option><option value=\"KMCDB\">KMCDB</option><option value=\"KMCDBP\">KMCDBP</option><option value=\"KNBL\">KNBL</option><option value=\"KNBLPO\">KNBLPO</option><option value=\"KPCL\">KPCL</option><option value=\"KRBL\">KRBL</option><option value=\"KRBLPO\">KRBLPO</option><option value=\"KSBBL\">KSBBL</option><option value=\"KSBBLD87\">KSBBLD87</option><option value=\"KSBBLP\">KSBBLP</option><option value=\"LBBL\">LBBL</option><option value=\"LBBLPO\">LBBLPO</option><option value=\"LBL\">LBL</option><option value=\"LBLD86\">LBLD86</option><option value=\"LBLD88\">LBLD88</option><option value=\"LBLPO\">LBLPO</option><option value=\"LEC\">LEC</option><option value=\"LEMF\">LEMF</option><option value=\"LFC\">LFC</option><option value=\"LFCPO\">LFCPO</option><option value=\"LGIL\">LGIL</option><option value=\"LGILPO\">LGILPO</option><option value=\"LICN\">LICN</option><option value=\"LICNPO\">LICNPO</option><option value=\"LLBS\">LLBS</option><option value=\"LLBSPO\">LLBSPO</option><option value=\"LUK\">LUK</option><option value=\"MBJC\">MBJC</option><option value=\"MBL\">MBL</option><option value=\"MBLD2085\">MBLD2085</option><option value=\"MBLD87\">MBLD87</option><option value=\"MBLPO\">MBLPO</option><option value=\"MDB\">MDB</option><option value=\"MDBLPO\">MDBLPO</option><option value=\"MDBPO\">MDBPO</option><option value=\"MEGA\">MEGA</option><option value=\"MEGAPO\">MEGAPO</option><option value=\"MEN\">MEN</option><option value=\"MERO\">MERO</option><option value=\"MEROPO\">MEROPO</option><option value=\"MFIL\">MFIL</option><option value=\"MFILPO\">MFILPO</option><option value=\"MFLD85\">MFLD85</option><option value=\"MHL\">MHL</option><option value=\"MHNL\">MHNL</option><option value=\"MKJC\">MKJC</option><option value=\"MKLB\">MKLB</option><option value=\"MLBBL\">MLBBL</option><option value=\"MLBBLP\">MLBBLP</option><option value=\"MLBL\">MLBL</option><option value=\"MLBLPO\">MLBLPO</option><option value=\"MLBS\">MLBS</option><option value=\"MLBSL\">MLBSL</option><option value=\"MMF1\">MMF1</option><option value=\"MMFDB\">MMFDB</option><option value=\"MMFDBP\">MMFDBP</option><option value=\"MNBBL\">MNBBL</option><option value=\"MNBBLP\">MNBBLP</option><option value=\"MND84/85\">MND84/85</option><option value=\"MPFL\">MPFL</option><option value=\"MPFLPO\">MPFLPO</option><option value=\"MSLB\">MSLB</option><option value=\"MSLBP\">MSLBP</option><option value=\"MSMBS\">MSMBS</option><option value=\"MSMBSP\">MSMBSP</option><option value=\"NABBC\">NABBC</option><option value=\"NABIL\">NABIL</option><option value=\"NABILP\">NABILP</option><option value=\"NADEP\">NADEP</option><option value=\"NADEPP\">NADEPP</option><option value=\"NAGRO\">NAGRO</option><option value=\"NBB\">NBB</option><option value=\"NBBD2085\">NBBD2085</option><option value=\"NBBPO\">NBBPO</option><option value=\"NBBU\">NBBU</option><option value=\"NBF2\">NBF2</option><option value=\"NBF3\">NBF3</option><option value=\"NBL\">NBL</option><option value=\"NBLD82\">NBLD82</option><option value=\"NBLD85\">NBLD85</option><option value=\"NBLD87\">NBLD87</option><option value=\"NCCB\">NCCB</option><option value=\"NCCBPO\">NCCBPO</option><option value=\"NCCD86\">NCCD86</option><option value=\"NEF\">NEF</option><option value=\"NESDO\">NESDO</option><option value=\"NFD\">NFD</option><option value=\"NFS\">NFS</option><option value=\"NFSPO\">NFSPO</option><option value=\"NGPL\">NGPL</option><option value=\"NHDL\">NHDL</option><option value=\"NHPC\">NHPC</option><option value=\"NIB\">NIB</option><option value=\"NIBD2082\">NIBD2082</option><option value=\"NIBD84\">NIBD84</option><option value=\"NIBLPF\">NIBLPF</option><option value=\"NIBPO\">NIBPO</option><option value=\"NIBSF2\">NIBSF2</option><option value=\"NICA\">NICA</option><option value=\"NICAD 85/86\">NICAD 85/86</option><option value=\"NICAD8182\">NICAD8182</option><option value=\"NICAD8283\">NICAD8283</option><option value=\"NICAP\">NICAP</option><option value=\"NICBF\">NICBF</option><option value=\"NICD83/84\">NICD83/84</option><option value=\"NICD88\">NICD88</option><option value=\"NICFC\">NICFC</option><option value=\"NICGF\">NICGF</option><option value=\"NICL\">NICL</option><option value=\"NICLBSL\">NICLBSL</option><option value=\"NICLPO\">NICLPO</option><option value=\"NICSF\">NICSF</option><option value=\"NIDC\">NIDC</option><option value=\"NIDCPO\">NIDCPO</option><option value=\"NIFRA\">NIFRA</option><option value=\"NIL\">NIL</option><option value=\"NILPO\">NILPO</option><option value=\"NKU\">NKU</option><option value=\"NLBBL\">NLBBL</option><option value=\"NLBBLP\">NLBBLP</option><option value=\"NLG\">NLG</option><option value=\"NLGPO\">NLGPO</option><option value=\"NLIC\">NLIC</option><option value=\"NLICL\">NLICL</option><option value=\"NLICLP\">NLICLP</option><option value=\"NLICP\">NLICP</option><option value=\"NLO\">NLO</option><option value=\"NMB\">NMB</option><option value=\"NMB50\">NMB50</option><option value=\"NMBD2085\">NMBD2085</option><option value=\"NMBD87/88\">NMBD87/88</option><option value=\"NMBEB92/93\">NMBEB92/93</option><option value=\"NMBHF1\">NMBHF1</option><option value=\"NMBMF\">NMBMF</option><option value=\"NMBMFP\">NMBMFP</option><option value=\"NMBPO\">NMBPO</option><option value=\"NMFBS\">NMFBS</option><option value=\"NMFBSP\">NMFBSP</option><option value=\"NRIC\">NRIC</option><option value=\"NRN\">NRN</option><option value=\"NSLB\">NSLB</option><option value=\"NSLBP\">NSLBP</option><option value=\"NSM\">NSM</option><option value=\"NSMPO\">NSMPO</option><option value=\"NTC\">NTC</option><option value=\"NTL\">NTL</option><option value=\"NUBL\">NUBL</option><option value=\"NUBLPO\">NUBLPO</option><option value=\"NVG\">NVG</option><option value=\"NWC\">NWC</option><option value=\"NYADI\">NYADI</option><option value=\"ODBL\">ODBL</option><option value=\"ODBLPO\">ODBLPO</option><option value=\"OHL\">OHL</option><option value=\"PBD84\">PBD84</option><option value=\"PBD85\">PBD85</option><option value=\"PBD88\">PBD88</option><option value=\"PBLD84\">PBLD84</option><option value=\"PBLD86\">PBLD86</option><option value=\"PBLD87\">PBLD87</option><option value=\"PCBL\">PCBL</option><option value=\"PCBLP\">PCBLP</option><option value=\"PDBLPO\">PDBLPO</option><option value=\"PFL\">PFL</option><option value=\"PFLPO\">PFLPO</option><option value=\"PIC\">PIC</option><option value=\"PICL\">PICL</option><option value=\"PICLPO\">PICLPO</option><option value=\"PICPO\">PICPO</option><option value=\"PLI\">PLI</option><option value=\"PLIC\">PLIC</option><option value=\"PLICPO\">PLICPO</option><option value=\"PMHPL\">PMHPL</option><option value=\"PPCL\">PPCL</option><option value=\"PPL\">PPL</option><option value=\"PRFLPO\">PRFLPO</option><option value=\"PRIN\">PRIN</option><option value=\"PRINPO\">PRINPO</option><option value=\"PROFL\">PROFL</option><option value=\"PROFLP\">PROFLP</option><option value=\"PRVU\">PRVU</option><option value=\"PRVUPO\">PRVUPO</option><option value=\"PSDBLP\">PSDBLP</option><option value=\"PSF\">PSF</option><option value=\"RADHI\">RADHI</option><option value=\"RBBD83\">RBBD83</option><option value=\"RBCL\">RBCL</option><option value=\"RBCLPO\">RBCLPO</option><option value=\"RFPL\">RFPL</option><option value=\"RHGCL\">RHGCL</option><option value=\"RHPL\">RHPL</option><option value=\"RIDI\">RIDI</option><option value=\"RJM\">RJM</option><option value=\"RLFL\">RLFL</option><option value=\"RLFLPO\">RLFLPO</option><option value=\"RLI\">RLI</option><option value=\"RMBFPO\">RMBFPO</option><option value=\"RMDC\">RMDC</option><option value=\"RMDCPO\">RMDCPO</option><option value=\"RMF1\">RMF1</option><option value=\"RRHP\">RRHP</option><option value=\"RSDC\">RSDC</option><option value=\"RSDCP\">RSDCP</option><option value=\"RULB\">RULB</option><option value=\"RURU\">RURU</option><option value=\"SABSL\">SABSL</option><option value=\"SADBL\">SADBL</option><option value=\"SADBLP\">SADBLP</option><option value=\"SAEF\">SAEF</option><option value=\"SAHAS\">SAHAS</option><option value=\"SAMAJ\">SAMAJ</option><option value=\"SAND2085\">SAND2085</option><option value=\"SANIMA\">SANIMA</option><option value=\"SAPDBL\">SAPDBL</option><option value=\"SAPDBLP\">SAPDBLP</option><option value=\"SBBLJ\">SBBLJ</option><option value=\"SBBLJP\">SBBLJP</option><option value=\"SBBLPO\">SBBLPO</option><option value=\"SBCF\">SBCF</option><option value=\"SBD87\">SBD87</option><option value=\"SBI\">SBI</option><option value=\"SBIBD86\">SBIBD86</option><option value=\"SBIPO\">SBIPO</option><option value=\"SBL\">SBL</option><option value=\"SBLD2082\">SBLD2082</option><option value=\"SBLD83\">SBLD83</option><option value=\"SBLD84\">SBLD84</option><option value=\"SBLPO\">SBLPO</option><option value=\"SBPP\">SBPP</option><option value=\"SCB\">SCB</option><option value=\"SCBPO\">SCBPO</option><option value=\"SDBD87\">SDBD87</option><option value=\"SDESI\">SDESI</option><option value=\"SDLBSL\">SDLBSL</option><option value=\"SEF\">SEF</option><option value=\"SEOS\">SEOS</option><option value=\"SFC\">SFC</option><option value=\"SFCL\">SFCL</option><option value=\"SFCLP\">SFCLP</option><option value=\"SFCPO\">SFCPO</option><option value=\"SFFIL\">SFFIL</option><option value=\"SFFILP\">SFFILP</option><option value=\"SFMF\">SFMF</option><option value=\"SGHC\">SGHC</option><option value=\"SGI\">SGI</option><option value=\"SHBL\">SHBL</option><option value=\"SHBLPO\">SHBLPO</option><option value=\"SHEL\">SHEL</option><option value=\"SHINE\">SHINE</option><option value=\"SHINEP\">SHINEP</option><option value=\"SHIVM\">SHIVM</option><option value=\"SHL\">SHL</option><option value=\"SHPC\">SHPC</option><option value=\"SIC\">SIC</option><option value=\"SICL\">SICL</option><option value=\"SICLPO\">SICLPO</option><option value=\"SICPO\">SICPO</option><option value=\"SIFC\">SIFC</option><option value=\"SIFCPO\">SIFCPO</option><option value=\"SIGS2\">SIGS2</option><option value=\"SIL\">SIL</option><option value=\"SILPO\">SILPO</option><option value=\"SINDU\">SINDU</option><option value=\"SINDUP\">SINDUP</option><option value=\"SJCL\">SJCL</option><option value=\"SKBBL\">SKBBL</option><option value=\"SKBBLP\">SKBBLP</option><option value=\"SLBBL\">SLBBL</option><option value=\"SLBBLP\">SLBBLP</option><option value=\"SLBS\">SLBS</option><option value=\"SLBSL\">SLBSL</option><option value=\"SLBSP\">SLBSP</option><option value=\"SLCF\">SLCF</option><option value=\"SLI\">SLI</option><option value=\"SLICL\">SLICL</option><option value=\"SLICLP\">SLICLP</option><option value=\"SMATA\">SMATA</option><option value=\"SMATAP\">SMATAP</option><option value=\"SMB\">SMB</option><option value=\"SMBPO\">SMBPO</option><option value=\"SMFBS\">SMFBS</option><option value=\"SMFDB\">SMFDB</option><option value=\"SMFDBP\">SMFDBP</option><option value=\"SODBLP\">SODBLP</option><option value=\"SPARS\">SPARS</option><option value=\"SPC\">SPC</option><option value=\"SPDL\">SPDL</option><option value=\"SPHL\">SPHL</option><option value=\"SRBL\">SRBL</option><option value=\"SRBLD83\">SRBLD83</option><option value=\"SRBLPO\">SRBLPO</option><option value=\"SRD80\">SRD80</option><option value=\"SRS\">SRS</option><option value=\"SSHL\">SSHL</option><option value=\"STC\">STC</option><option value=\"SWBBL\">SWBBL</option><option value=\"SWBBLP\">SWBBLP</option><option value=\"SWMF\">SWMF</option><option value=\"SWMFPO\">SWMFPO</option><option value=\"SYFL\">SYFL</option><option value=\"SYFLPO\">SYFLPO</option><option value=\"TMDBL\">TMDBL</option><option value=\"TMDBLP\">TMDBLP</option><option value=\"TPC\">TPC</option><option value=\"TRH\">TRH</option><option value=\"UFL\">UFL</option><option value=\"UFLPO\">UFLPO</option><option value=\"UHEWA\">UHEWA</option><option value=\"UIC\">UIC</option><option value=\"UICPO\">UICPO</option><option value=\"ULBSL\">ULBSL</option><option value=\"ULI\">ULI</option><option value=\"UMHL\">UMHL</option><option value=\"UMRH\">UMRH</option><option value=\"UNHPL\">UNHPL</option><option value=\"UNL\">UNL</option><option value=\"UPCL\">UPCL</option><option value=\"UPPER\">UPPER</option><option value=\"USHEC\">USHEC</option><option value=\"USLB\">USLB</option><option value=\"USLBP\">USLBP</option><option value=\"VLBS\">VLBS</option><option value=\"VLBSPO\">VLBSPO</option><option value=\"WNLB\">WNLB</option><option value=\"WNLBP\">WNLBP</option><option value=\"YHL\">YHL</option> </select> |\n",
       "                 </label>\n",
       " <label>Buyer  <input id=\"buyer\" name=\"buyer\" type=\"text\" value=\"\"/> |</label>\n",
       " <label>Seller  <input id=\"seller\" name=\"seller\" type=\"text\" value=\"\"/> |</label>\n",
       " <label>Total Rows\n",
       "                     <select name=\"_limit\">\n",
       " <option value=\"20\">20</option>\n",
       " <option value=\"50\">50</option>\n",
       " <option value=\"200\">200</option>\n",
       " <option value=\"300\">300</option>\n",
       " <option value=\"500\">500</option>\n",
       " </select> |\n",
       "                 </label>\n",
       " <input class=\"btn btn-success\" type=\"submit\" value=\"Filter\"/>\n",
       " <input class=\"btn btn-default\" name=\"filter\" type=\"submit\" value=\"Reset\"/>\n",
       " </form>\n",
       " </td>\n",
       " </tr>,\n",
       " <tr class=\"unique\">\n",
       " <td>S.N.</td>\n",
       " <td><a class=\"icon-sorter sorter\" href=\"http://www.nepalstock.com/main/floorsheet/index/1/contract-no/asc/\">Contract No</a></td>\n",
       " <td><a class=\"icon-sorter sorter\" href=\"http://www.nepalstock.com/main/floorsheet/index/1/stock-symbol/asc/\">Stock Symbol</a></td>\n",
       " <td><a class=\"icon-sorter sorter\" href=\"http://www.nepalstock.com/main/floorsheet/index/1/buyer/asc/\">Buyer Broker</a></td>\n",
       " <td><a class=\"icon-sorter sorter\" href=\"http://www.nepalstock.com/main/floorsheet/index/1/seller/asc/\">Seller Broker</a></td>\n",
       " <td>Quantity</td>\n",
       " <td>Rate</td>\n",
       " <td>Amount</td>\n",
       " </tr>,\n",
       " <tr>\n",
       " <td>1</td>\n",
       " <td>2022110701009898</td>\n",
       " <td data-placement=\"left\" data-toggle=\"tooltip\" title=\"Aviyan Laghubitta Bittiya Sanstha Limited\">AVYAN</td>\n",
       " <td>14</td>\n",
       " <td>26</td>\n",
       " <td>20</td>\n",
       " <td>774</td>\n",
       " <td>15480.00</td>\n",
       " </tr>,\n",
       " <tr>\n",
       " <td>2</td>\n",
       " <td>2022110701009897</td>\n",
       " <td data-placement=\"left\" data-toggle=\"tooltip\" title=\"People's Power Limited\">PPL</td>\n",
       " <td>7</td>\n",
       " <td>14</td>\n",
       " <td>280</td>\n",
       " <td>213</td>\n",
       " <td>59640.00</td>\n",
       " </tr>,\n",
       " <tr>\n",
       " <td>3</td>\n",
       " <td>2022110701009896</td>\n",
       " <td data-placement=\"left\" data-toggle=\"tooltip\" title=\"People's Power Limited\">PPL</td>\n",
       " <td>49</td>\n",
       " <td>14</td>\n",
       " <td>120</td>\n",
       " <td>213</td>\n",
       " <td>25560.00</td>\n",
       " </tr>,\n",
       " <tr>\n",
       " <td>4</td>\n",
       " <td>2022110701009895</td>\n",
       " <td data-placement=\"left\" data-toggle=\"tooltip\" title=\"People's Power Limited\">PPL</td>\n",
       " <td>59</td>\n",
       " <td>14</td>\n",
       " <td>100</td>\n",
       " <td>213.1</td>\n",
       " <td>21310.00</td>\n",
       " </tr>,\n",
       " <tr>\n",
       " <td>5</td>\n",
       " <td>2022110703013175</td>\n",
       " <td data-placement=\"left\" data-toggle=\"tooltip\" title=\"Forward Microfinance Laghubitta Bittiya Sanstha Limited\">FOWAD</td>\n",
       " <td>49</td>\n",
       " <td>8</td>\n",
       " <td>10</td>\n",
       " <td>2735</td>\n",
       " <td>27350.00</td>\n",
       " </tr>,\n",
       " <tr>\n",
       " <td>6</td>\n",
       " <td>2022110705002746</td>\n",
       " <td data-placement=\"left\" data-toggle=\"tooltip\" title=\"Jalpa Samudayik Laghubitta Bittiya Sanstha Limited\">JALPA</td>\n",
       " <td>41</td>\n",
       " <td>43</td>\n",
       " <td>10</td>\n",
       " <td>3645</td>\n",
       " <td>36450.00</td>\n",
       " </tr>,\n",
       " <tr>\n",
       " <td>7</td>\n",
       " <td>2022110703013174</td>\n",
       " <td data-placement=\"left\" data-toggle=\"tooltip\" title=\"Miteri Development Bank Limited\">MDB</td>\n",
       " <td>10</td>\n",
       " <td>7</td>\n",
       " <td>10</td>\n",
       " <td>385.9</td>\n",
       " <td>3859.00</td>\n",
       " </tr>,\n",
       " <tr>\n",
       " <td>8</td>\n",
       " <td>2022110703013173</td>\n",
       " <td data-placement=\"left\" data-toggle=\"tooltip\" title=\"Global IME Laghubitta Bittiya Sanstha Ltd.\">GILB</td>\n",
       " <td>58</td>\n",
       " <td>36</td>\n",
       " <td>10</td>\n",
       " <td>1207</td>\n",
       " <td>12070.00</td>\n",
       " </tr>,\n",
       " <tr>\n",
       " <td>9</td>\n",
       " <td>2022110703013172</td>\n",
       " <td data-placement=\"left\" data-toggle=\"tooltip\" title=\"Manjushree Finance Ltd.\">MFIL</td>\n",
       " <td>28</td>\n",
       " <td>50</td>\n",
       " <td>360</td>\n",
       " <td>440.8</td>\n",
       " <td>158688.00</td>\n",
       " </tr>,\n",
       " <tr>\n",
       " <td>10</td>\n",
       " <td>2022110704009293</td>\n",
       " <td data-placement=\"left\" data-toggle=\"tooltip\" title=\"Arun Kabeli Power Ltd.\">AKPL</td>\n",
       " <td>50</td>\n",
       " <td>21</td>\n",
       " <td>10</td>\n",
       " <td>374.9</td>\n",
       " <td>3749.00</td>\n",
       " </tr>,\n",
       " <tr>\n",
       " <td>11</td>\n",
       " <td>2022110703013171</td>\n",
       " <td data-placement=\"left\" data-toggle=\"tooltip\" title=\"Nepal Doorsanchar Company Limited\">NTC</td>\n",
       " <td>34</td>\n",
       " <td>59</td>\n",
       " <td>50</td>\n",
       " <td>880</td>\n",
       " <td>44000.00</td>\n",
       " </tr>,\n",
       " <tr>\n",
       " <td>12</td>\n",
       " <td>2022110703013170</td>\n",
       " <td data-placement=\"left\" data-toggle=\"tooltip\" title=\"Nepal Doorsanchar Company Limited\">NTC</td>\n",
       " <td>34</td>\n",
       " <td>25</td>\n",
       " <td>10</td>\n",
       " <td>880</td>\n",
       " <td>8800.00</td>\n",
       " </tr>,\n",
       " <tr>\n",
       " <td>13</td>\n",
       " <td>2022110703013169</td>\n",
       " <td data-placement=\"left\" data-toggle=\"tooltip\" title=\"Ganapati Laghubitta Bittiya Sanstha Limited\">GMFBS</td>\n",
       " <td>52</td>\n",
       " <td>34</td>\n",
       " <td>10</td>\n",
       " <td>825</td>\n",
       " <td>8250.00</td>\n",
       " </tr>,\n",
       " <tr>\n",
       " <td>14</td>\n",
       " <td>2022110704009292</td>\n",
       " <td data-placement=\"left\" data-toggle=\"tooltip\" title=\"United Modi Hydropower Ltd.\">UMHL</td>\n",
       " <td>7</td>\n",
       " <td>49</td>\n",
       " <td>106</td>\n",
       " <td>250</td>\n",
       " <td>26500.00</td>\n",
       " </tr>,\n",
       " <tr>\n",
       " <td>15</td>\n",
       " <td>2022110704009291</td>\n",
       " <td data-placement=\"left\" data-toggle=\"tooltip\" title=\"United Modi Hydropower Ltd.\">UMHL</td>\n",
       " <td>7</td>\n",
       " <td>21</td>\n",
       " <td>200</td>\n",
       " <td>249.9</td>\n",
       " <td>49980.00</td>\n",
       " </tr>,\n",
       " <tr>\n",
       " <td>16</td>\n",
       " <td>2022110704009290</td>\n",
       " <td data-placement=\"left\" data-toggle=\"tooltip\" title=\"United Modi Hydropower Ltd.\">UMHL</td>\n",
       " <td>7</td>\n",
       " <td>49</td>\n",
       " <td>500</td>\n",
       " <td>248</td>\n",
       " <td>124000.00</td>\n",
       " </tr>,\n",
       " <tr>\n",
       " <td>17</td>\n",
       " <td>2022110704009289</td>\n",
       " <td data-placement=\"left\" data-toggle=\"tooltip\" title=\"United Modi Hydropower Ltd.\">UMHL</td>\n",
       " <td>7</td>\n",
       " <td>59</td>\n",
       " <td>124</td>\n",
       " <td>248</td>\n",
       " <td>30752.00</td>\n",
       " </tr>,\n",
       " <tr>\n",
       " <td>18</td>\n",
       " <td>2022110703013168</td>\n",
       " <td data-placement=\"left\" data-toggle=\"tooltip\" title=\"Shree Investment Finance Co. Ltd.\">SIFC</td>\n",
       " <td>54</td>\n",
       " <td>4</td>\n",
       " <td>10</td>\n",
       " <td>329.9</td>\n",
       " <td>3299.00</td>\n",
       " </tr>,\n",
       " <tr>\n",
       " <td>19</td>\n",
       " <td>2022110704009288</td>\n",
       " <td data-placement=\"left\" data-toggle=\"tooltip\" title=\"Khanikhola Hydropower Co. Ltd.\">KKHC</td>\n",
       " <td>58</td>\n",
       " <td>52</td>\n",
       " <td>30</td>\n",
       " <td>183.5</td>\n",
       " <td>5505.00</td>\n",
       " </tr>,\n",
       " <tr>\n",
       " <td>20</td>\n",
       " <td>2022110703013167</td>\n",
       " <td data-placement=\"left\" data-toggle=\"tooltip\" title=\"Kamana Sewa Bikas Bank Limited\">KSBBL</td>\n",
       " <td>42</td>\n",
       " <td>1</td>\n",
       " <td>183</td>\n",
       " <td>315.8</td>\n",
       " <td>57791.40</td>\n",
       " </tr>,\n",
       " <tr>\n",
       " <td align=\"right\" colspan=\"7\"><div class=\"pager\"><a href=\"#\">Page 1/1756 </a><b>1</b><a href=\"http://www.nepalstock.com/main/floorsheet/index/2/\" title=\"Go to Page 2\">2</a><a href=\"http://www.nepalstock.com/main/floorsheet/index/3/\" title=\"Go to Page 3\">3</a><a href=\"http://www.nepalstock.com/main/floorsheet/index/4/\" title=\"Go to Page 4\">4</a><a href=\"http://www.nepalstock.com/main/floorsheet/index/5/\" title=\"Go to Page 5\">5</a><a href=\"http://www.nepalstock.com/main/floorsheet/index/6/\" title=\"Go to Page 6\">6</a><a href=\"http://www.nepalstock.com/main/floorsheet/index/7/\" title=\"Go to Page 7\">7</a><a href=\"http://www.nepalstock.com/main/floorsheet/index/8/\" title=\"Go to Page 8\">8</a><a href=\"http://www.nepalstock.com/main/floorsheet/index/9/\" title=\"Go to Page 9\">9</a><a href=\"http://www.nepalstock.com/main/floorsheet/index/10/\" title=\"Go to Page 10\">10</a><a href=\"http://www.nepalstock.com/main/floorsheet/index/2/\" title=\"Next Page\">Next›</a><a href=\"http://www.nepalstock.com/main/floorsheet/index/1756/\" title=\"Last Page\">Last»</a></div></td>\n",
       " </tr>,\n",
       " <tr>\n",
       " <td align=\"right\" colspan=\"2\">Total Amount Rs.</td>\n",
       " <td colspan=\"8\">2,109,163,384</td>\n",
       " </tr>,\n",
       " <tr>\n",
       " <td align=\"right\" colspan=\"2\">Total Quantity</td>\n",
       " <td colspan=\"8\">4,944,076</td>\n",
       " </tr>]"
      ]
     },
     "execution_count": 5,
     "metadata": {},
     "output_type": "execute_result"
    }
   ],
   "source": [
    "table_codes=codes.table\n",
    "tags=table_codes.find_all('tr')\n",
    "tags"
   ]
  },
  {
   "cell_type": "code",
   "execution_count": 6,
   "id": "ff821210",
   "metadata": {},
   "outputs": [
    {
     "data": {
      "text/plain": [
       "[['S.N.',\n",
       "  'Contract No',\n",
       "  'Stock Symbol',\n",
       "  'Buyer Broker',\n",
       "  'Seller Broker',\n",
       "  'Quantity',\n",
       "  'Rate',\n",
       "  'Amount',\n",
       "  ''],\n",
       " ['1', '2022110701009898', 'AVYAN', '14', '26', '20', '774', '15480.00', ''],\n",
       " ['2', '2022110701009897', 'PPL', '7', '14', '280', '213', '59640.00', ''],\n",
       " ['3', '2022110701009896', 'PPL', '49', '14', '120', '213', '25560.00', ''],\n",
       " ['4', '2022110701009895', 'PPL', '59', '14', '100', '213.1', '21310.00', ''],\n",
       " ['5', '2022110703013175', 'FOWAD', '49', '8', '10', '2735', '27350.00', ''],\n",
       " ['6', '2022110705002746', 'JALPA', '41', '43', '10', '3645', '36450.00', ''],\n",
       " ['7', '2022110703013174', 'MDB', '10', '7', '10', '385.9', '3859.00', ''],\n",
       " ['8', '2022110703013173', 'GILB', '58', '36', '10', '1207', '12070.00', ''],\n",
       " ['9',\n",
       "  '2022110703013172',\n",
       "  'MFIL',\n",
       "  '28',\n",
       "  '50',\n",
       "  '360',\n",
       "  '440.8',\n",
       "  '158688.00',\n",
       "  ''],\n",
       " ['10', '2022110704009293', 'AKPL', '50', '21', '10', '374.9', '3749.00', ''],\n",
       " ['11', '2022110703013171', 'NTC', '34', '59', '50', '880', '44000.00', ''],\n",
       " ['12', '2022110703013170', 'NTC', '34', '25', '10', '880', '8800.00', ''],\n",
       " ['13', '2022110703013169', 'GMFBS', '52', '34', '10', '825', '8250.00', ''],\n",
       " ['14', '2022110704009292', 'UMHL', '7', '49', '106', '250', '26500.00', ''],\n",
       " ['15', '2022110704009291', 'UMHL', '7', '21', '200', '249.9', '49980.00', ''],\n",
       " ['16', '2022110704009290', 'UMHL', '7', '49', '500', '248', '124000.00', ''],\n",
       " ['17', '2022110704009289', 'UMHL', '7', '59', '124', '248', '30752.00', ''],\n",
       " ['18', '2022110703013168', 'SIFC', '54', '4', '10', '329.9', '3299.00', ''],\n",
       " ['19', '2022110704009288', 'KKHC', '58', '52', '30', '183.5', '5505.00', ''],\n",
       " ['20',\n",
       "  '2022110703013167',\n",
       "  'KSBBL',\n",
       "  '42',\n",
       "  '1',\n",
       "  '183',\n",
       "  '315.8',\n",
       "  '57791.40',\n",
       "  ''],\n",
       " ['Page 1/1756\\xa012345678910Next›Last»', ''],\n",
       " ['Total Amount Rs.', '2,109,163,384', ''],\n",
       " ['Total Quantity', '4,944,076', '']]"
      ]
     },
     "execution_count": 6,
     "metadata": {},
     "output_type": "execute_result"
    }
   ],
   "source": [
    "data=[]\n",
    "for tag in tags:\n",
    "    y=tag.text.split('\\n')\n",
    "    if y[1]!='':\n",
    "        data.append(tag.text.split('\\n')[1:])\n",
    "        \n",
    "data"
   ]
  },
  {
   "cell_type": "code",
   "execution_count": 7,
   "id": "ff2bdfb2",
   "metadata": {},
   "outputs": [],
   "source": [
    "import csv\n",
    "with open('floor_sheet.csv','w') as f:\n",
    "    x=csv.writer(f)\n",
    "    x.writerows(data)\n",
    "    "
   ]
  },
  {
   "cell_type": "code",
   "execution_count": 8,
   "id": "409f7f72",
   "metadata": {},
   "outputs": [
    {
     "data": {
      "text/html": [
       "<div>\n",
       "<style scoped>\n",
       "    .dataframe tbody tr th:only-of-type {\n",
       "        vertical-align: middle;\n",
       "    }\n",
       "\n",
       "    .dataframe tbody tr th {\n",
       "        vertical-align: top;\n",
       "    }\n",
       "\n",
       "    .dataframe thead th {\n",
       "        text-align: right;\n",
       "    }\n",
       "</style>\n",
       "<table border=\"1\" class=\"dataframe\">\n",
       "  <thead>\n",
       "    <tr style=\"text-align: right;\">\n",
       "      <th></th>\n",
       "      <th>S.N.</th>\n",
       "      <th>Contract No</th>\n",
       "      <th>Stock Symbol</th>\n",
       "      <th>Buyer Broker</th>\n",
       "      <th>Seller Broker</th>\n",
       "      <th>Quantity</th>\n",
       "      <th>Rate</th>\n",
       "      <th>Amount</th>\n",
       "      <th>Unnamed: 8</th>\n",
       "    </tr>\n",
       "  </thead>\n",
       "  <tbody>\n",
       "    <tr>\n",
       "      <th>0</th>\n",
       "      <td>1</td>\n",
       "      <td>2022110701009898</td>\n",
       "      <td>AVYAN</td>\n",
       "      <td>14.0</td>\n",
       "      <td>26.0</td>\n",
       "      <td>20.0</td>\n",
       "      <td>774.0</td>\n",
       "      <td>15480.0</td>\n",
       "      <td>NaN</td>\n",
       "    </tr>\n",
       "    <tr>\n",
       "      <th>1</th>\n",
       "      <td>2</td>\n",
       "      <td>2022110701009897</td>\n",
       "      <td>PPL</td>\n",
       "      <td>7.0</td>\n",
       "      <td>14.0</td>\n",
       "      <td>280.0</td>\n",
       "      <td>213.0</td>\n",
       "      <td>59640.0</td>\n",
       "      <td>NaN</td>\n",
       "    </tr>\n",
       "    <tr>\n",
       "      <th>2</th>\n",
       "      <td>3</td>\n",
       "      <td>2022110701009896</td>\n",
       "      <td>PPL</td>\n",
       "      <td>49.0</td>\n",
       "      <td>14.0</td>\n",
       "      <td>120.0</td>\n",
       "      <td>213.0</td>\n",
       "      <td>25560.0</td>\n",
       "      <td>NaN</td>\n",
       "    </tr>\n",
       "    <tr>\n",
       "      <th>3</th>\n",
       "      <td>4</td>\n",
       "      <td>2022110701009895</td>\n",
       "      <td>PPL</td>\n",
       "      <td>59.0</td>\n",
       "      <td>14.0</td>\n",
       "      <td>100.0</td>\n",
       "      <td>213.1</td>\n",
       "      <td>21310.0</td>\n",
       "      <td>NaN</td>\n",
       "    </tr>\n",
       "    <tr>\n",
       "      <th>4</th>\n",
       "      <td>5</td>\n",
       "      <td>2022110703013175</td>\n",
       "      <td>FOWAD</td>\n",
       "      <td>49.0</td>\n",
       "      <td>8.0</td>\n",
       "      <td>10.0</td>\n",
       "      <td>2735.0</td>\n",
       "      <td>27350.0</td>\n",
       "      <td>NaN</td>\n",
       "    </tr>\n",
       "    <tr>\n",
       "      <th>5</th>\n",
       "      <td>6</td>\n",
       "      <td>2022110705002746</td>\n",
       "      <td>JALPA</td>\n",
       "      <td>41.0</td>\n",
       "      <td>43.0</td>\n",
       "      <td>10.0</td>\n",
       "      <td>3645.0</td>\n",
       "      <td>36450.0</td>\n",
       "      <td>NaN</td>\n",
       "    </tr>\n",
       "    <tr>\n",
       "      <th>6</th>\n",
       "      <td>7</td>\n",
       "      <td>2022110703013174</td>\n",
       "      <td>MDB</td>\n",
       "      <td>10.0</td>\n",
       "      <td>7.0</td>\n",
       "      <td>10.0</td>\n",
       "      <td>385.9</td>\n",
       "      <td>3859.0</td>\n",
       "      <td>NaN</td>\n",
       "    </tr>\n",
       "    <tr>\n",
       "      <th>7</th>\n",
       "      <td>8</td>\n",
       "      <td>2022110703013173</td>\n",
       "      <td>GILB</td>\n",
       "      <td>58.0</td>\n",
       "      <td>36.0</td>\n",
       "      <td>10.0</td>\n",
       "      <td>1207.0</td>\n",
       "      <td>12070.0</td>\n",
       "      <td>NaN</td>\n",
       "    </tr>\n",
       "    <tr>\n",
       "      <th>8</th>\n",
       "      <td>9</td>\n",
       "      <td>2022110703013172</td>\n",
       "      <td>MFIL</td>\n",
       "      <td>28.0</td>\n",
       "      <td>50.0</td>\n",
       "      <td>360.0</td>\n",
       "      <td>440.8</td>\n",
       "      <td>158688.0</td>\n",
       "      <td>NaN</td>\n",
       "    </tr>\n",
       "    <tr>\n",
       "      <th>9</th>\n",
       "      <td>10</td>\n",
       "      <td>2022110704009293</td>\n",
       "      <td>AKPL</td>\n",
       "      <td>50.0</td>\n",
       "      <td>21.0</td>\n",
       "      <td>10.0</td>\n",
       "      <td>374.9</td>\n",
       "      <td>3749.0</td>\n",
       "      <td>NaN</td>\n",
       "    </tr>\n",
       "    <tr>\n",
       "      <th>10</th>\n",
       "      <td>11</td>\n",
       "      <td>2022110703013171</td>\n",
       "      <td>NTC</td>\n",
       "      <td>34.0</td>\n",
       "      <td>59.0</td>\n",
       "      <td>50.0</td>\n",
       "      <td>880.0</td>\n",
       "      <td>44000.0</td>\n",
       "      <td>NaN</td>\n",
       "    </tr>\n",
       "    <tr>\n",
       "      <th>11</th>\n",
       "      <td>12</td>\n",
       "      <td>2022110703013170</td>\n",
       "      <td>NTC</td>\n",
       "      <td>34.0</td>\n",
       "      <td>25.0</td>\n",
       "      <td>10.0</td>\n",
       "      <td>880.0</td>\n",
       "      <td>8800.0</td>\n",
       "      <td>NaN</td>\n",
       "    </tr>\n",
       "    <tr>\n",
       "      <th>12</th>\n",
       "      <td>13</td>\n",
       "      <td>2022110703013169</td>\n",
       "      <td>GMFBS</td>\n",
       "      <td>52.0</td>\n",
       "      <td>34.0</td>\n",
       "      <td>10.0</td>\n",
       "      <td>825.0</td>\n",
       "      <td>8250.0</td>\n",
       "      <td>NaN</td>\n",
       "    </tr>\n",
       "    <tr>\n",
       "      <th>13</th>\n",
       "      <td>14</td>\n",
       "      <td>2022110704009292</td>\n",
       "      <td>UMHL</td>\n",
       "      <td>7.0</td>\n",
       "      <td>49.0</td>\n",
       "      <td>106.0</td>\n",
       "      <td>250.0</td>\n",
       "      <td>26500.0</td>\n",
       "      <td>NaN</td>\n",
       "    </tr>\n",
       "    <tr>\n",
       "      <th>14</th>\n",
       "      <td>15</td>\n",
       "      <td>2022110704009291</td>\n",
       "      <td>UMHL</td>\n",
       "      <td>7.0</td>\n",
       "      <td>21.0</td>\n",
       "      <td>200.0</td>\n",
       "      <td>249.9</td>\n",
       "      <td>49980.0</td>\n",
       "      <td>NaN</td>\n",
       "    </tr>\n",
       "    <tr>\n",
       "      <th>15</th>\n",
       "      <td>16</td>\n",
       "      <td>2022110704009290</td>\n",
       "      <td>UMHL</td>\n",
       "      <td>7.0</td>\n",
       "      <td>49.0</td>\n",
       "      <td>500.0</td>\n",
       "      <td>248.0</td>\n",
       "      <td>124000.0</td>\n",
       "      <td>NaN</td>\n",
       "    </tr>\n",
       "    <tr>\n",
       "      <th>16</th>\n",
       "      <td>17</td>\n",
       "      <td>2022110704009289</td>\n",
       "      <td>UMHL</td>\n",
       "      <td>7.0</td>\n",
       "      <td>59.0</td>\n",
       "      <td>124.0</td>\n",
       "      <td>248.0</td>\n",
       "      <td>30752.0</td>\n",
       "      <td>NaN</td>\n",
       "    </tr>\n",
       "    <tr>\n",
       "      <th>17</th>\n",
       "      <td>18</td>\n",
       "      <td>2022110703013168</td>\n",
       "      <td>SIFC</td>\n",
       "      <td>54.0</td>\n",
       "      <td>4.0</td>\n",
       "      <td>10.0</td>\n",
       "      <td>329.9</td>\n",
       "      <td>3299.0</td>\n",
       "      <td>NaN</td>\n",
       "    </tr>\n",
       "    <tr>\n",
       "      <th>18</th>\n",
       "      <td>19</td>\n",
       "      <td>2022110704009288</td>\n",
       "      <td>KKHC</td>\n",
       "      <td>58.0</td>\n",
       "      <td>52.0</td>\n",
       "      <td>30.0</td>\n",
       "      <td>183.5</td>\n",
       "      <td>5505.0</td>\n",
       "      <td>NaN</td>\n",
       "    </tr>\n",
       "    <tr>\n",
       "      <th>19</th>\n",
       "      <td>20</td>\n",
       "      <td>2022110703013167</td>\n",
       "      <td>KSBBL</td>\n",
       "      <td>42.0</td>\n",
       "      <td>1.0</td>\n",
       "      <td>183.0</td>\n",
       "      <td>315.8</td>\n",
       "      <td>57791.4</td>\n",
       "      <td>NaN</td>\n",
       "    </tr>\n",
       "    <tr>\n",
       "      <th>20</th>\n",
       "      <td>Page 1/1756 12345678910NextLast»</td>\n",
       "      <td>NaN</td>\n",
       "      <td>NaN</td>\n",
       "      <td>NaN</td>\n",
       "      <td>NaN</td>\n",
       "      <td>NaN</td>\n",
       "      <td>NaN</td>\n",
       "      <td>NaN</td>\n",
       "      <td>NaN</td>\n",
       "    </tr>\n",
       "    <tr>\n",
       "      <th>21</th>\n",
       "      <td>Total Amount Rs.</td>\n",
       "      <td>2,109,163,384</td>\n",
       "      <td>NaN</td>\n",
       "      <td>NaN</td>\n",
       "      <td>NaN</td>\n",
       "      <td>NaN</td>\n",
       "      <td>NaN</td>\n",
       "      <td>NaN</td>\n",
       "      <td>NaN</td>\n",
       "    </tr>\n",
       "    <tr>\n",
       "      <th>22</th>\n",
       "      <td>Total Quantity</td>\n",
       "      <td>4,944,076</td>\n",
       "      <td>NaN</td>\n",
       "      <td>NaN</td>\n",
       "      <td>NaN</td>\n",
       "      <td>NaN</td>\n",
       "      <td>NaN</td>\n",
       "      <td>NaN</td>\n",
       "      <td>NaN</td>\n",
       "    </tr>\n",
       "  </tbody>\n",
       "</table>\n",
       "</div>"
      ],
      "text/plain": [
       "                                 S.N.       Contract No Stock Symbol  \\\n",
       "0                                   1  2022110701009898        AVYAN   \n",
       "1                                   2  2022110701009897          PPL   \n",
       "2                                   3  2022110701009896          PPL   \n",
       "3                                   4  2022110701009895          PPL   \n",
       "4                                   5  2022110703013175        FOWAD   \n",
       "5                                   6  2022110705002746        JALPA   \n",
       "6                                   7  2022110703013174          MDB   \n",
       "7                                   8  2022110703013173         GILB   \n",
       "8                                   9  2022110703013172         MFIL   \n",
       "9                                  10  2022110704009293         AKPL   \n",
       "10                                 11  2022110703013171          NTC   \n",
       "11                                 12  2022110703013170          NTC   \n",
       "12                                 13  2022110703013169        GMFBS   \n",
       "13                                 14  2022110704009292         UMHL   \n",
       "14                                 15  2022110704009291         UMHL   \n",
       "15                                 16  2022110704009290         UMHL   \n",
       "16                                 17  2022110704009289         UMHL   \n",
       "17                                 18  2022110703013168         SIFC   \n",
       "18                                 19  2022110704009288         KKHC   \n",
       "19                                 20  2022110703013167        KSBBL   \n",
       "20  Page 1/1756 12345678910NextLast»               NaN          NaN   \n",
       "21                   Total Amount Rs.     2,109,163,384          NaN   \n",
       "22                     Total Quantity         4,944,076          NaN   \n",
       "\n",
       "    Buyer Broker  Seller Broker  Quantity    Rate    Amount  Unnamed: 8  \n",
       "0           14.0           26.0      20.0   774.0   15480.0         NaN  \n",
       "1            7.0           14.0     280.0   213.0   59640.0         NaN  \n",
       "2           49.0           14.0     120.0   213.0   25560.0         NaN  \n",
       "3           59.0           14.0     100.0   213.1   21310.0         NaN  \n",
       "4           49.0            8.0      10.0  2735.0   27350.0         NaN  \n",
       "5           41.0           43.0      10.0  3645.0   36450.0         NaN  \n",
       "6           10.0            7.0      10.0   385.9    3859.0         NaN  \n",
       "7           58.0           36.0      10.0  1207.0   12070.0         NaN  \n",
       "8           28.0           50.0     360.0   440.8  158688.0         NaN  \n",
       "9           50.0           21.0      10.0   374.9    3749.0         NaN  \n",
       "10          34.0           59.0      50.0   880.0   44000.0         NaN  \n",
       "11          34.0           25.0      10.0   880.0    8800.0         NaN  \n",
       "12          52.0           34.0      10.0   825.0    8250.0         NaN  \n",
       "13           7.0           49.0     106.0   250.0   26500.0         NaN  \n",
       "14           7.0           21.0     200.0   249.9   49980.0         NaN  \n",
       "15           7.0           49.0     500.0   248.0  124000.0         NaN  \n",
       "16           7.0           59.0     124.0   248.0   30752.0         NaN  \n",
       "17          54.0            4.0      10.0   329.9    3299.0         NaN  \n",
       "18          58.0           52.0      30.0   183.5    5505.0         NaN  \n",
       "19          42.0            1.0     183.0   315.8   57791.4         NaN  \n",
       "20           NaN            NaN       NaN     NaN       NaN         NaN  \n",
       "21           NaN            NaN       NaN     NaN       NaN         NaN  \n",
       "22           NaN            NaN       NaN     NaN       NaN         NaN  "
      ]
     },
     "execution_count": 8,
     "metadata": {},
     "output_type": "execute_result"
    }
   ],
   "source": [
    "import pandas as pd\n",
    "df=pd.read_csv('floor_sheet.csv', encoding='ISO-8859-1')\n",
    "df"
   ]
  },
  {
   "cell_type": "code",
   "execution_count": 12,
   "id": "17ad4a05",
   "metadata": {},
   "outputs": [
    {
     "data": {
      "application/vnd.plotly.v1+json": {
       "config": {
        "plotlyServerURL": "https://plot.ly"
       },
       "data": [
        {
         "type": "bar",
         "x": [
          "2022110701009898",
          "2022110701009897",
          "2022110701009896",
          "2022110701009895",
          "2022110703013175",
          "2022110705002746",
          "2022110703013174",
          "2022110703013173",
          "2022110703013172",
          "2022110704009293"
         ],
         "y": [
          14,
          7,
          49,
          59,
          49,
          41,
          10,
          58,
          28,
          50
         ]
        }
       ],
       "layout": {
        "template": {
         "data": {
          "bar": [
           {
            "error_x": {
             "color": "#2a3f5f"
            },
            "error_y": {
             "color": "#2a3f5f"
            },
            "marker": {
             "line": {
              "color": "#E5ECF6",
              "width": 0.5
             },
             "pattern": {
              "fillmode": "overlay",
              "size": 10,
              "solidity": 0.2
             }
            },
            "type": "bar"
           }
          ],
          "barpolar": [
           {
            "marker": {
             "line": {
              "color": "#E5ECF6",
              "width": 0.5
             },
             "pattern": {
              "fillmode": "overlay",
              "size": 10,
              "solidity": 0.2
             }
            },
            "type": "barpolar"
           }
          ],
          "carpet": [
           {
            "aaxis": {
             "endlinecolor": "#2a3f5f",
             "gridcolor": "white",
             "linecolor": "white",
             "minorgridcolor": "white",
             "startlinecolor": "#2a3f5f"
            },
            "baxis": {
             "endlinecolor": "#2a3f5f",
             "gridcolor": "white",
             "linecolor": "white",
             "minorgridcolor": "white",
             "startlinecolor": "#2a3f5f"
            },
            "type": "carpet"
           }
          ],
          "choropleth": [
           {
            "colorbar": {
             "outlinewidth": 0,
             "ticks": ""
            },
            "type": "choropleth"
           }
          ],
          "contour": [
           {
            "colorbar": {
             "outlinewidth": 0,
             "ticks": ""
            },
            "colorscale": [
             [
              0,
              "#0d0887"
             ],
             [
              0.1111111111111111,
              "#46039f"
             ],
             [
              0.2222222222222222,
              "#7201a8"
             ],
             [
              0.3333333333333333,
              "#9c179e"
             ],
             [
              0.4444444444444444,
              "#bd3786"
             ],
             [
              0.5555555555555556,
              "#d8576b"
             ],
             [
              0.6666666666666666,
              "#ed7953"
             ],
             [
              0.7777777777777778,
              "#fb9f3a"
             ],
             [
              0.8888888888888888,
              "#fdca26"
             ],
             [
              1,
              "#f0f921"
             ]
            ],
            "type": "contour"
           }
          ],
          "contourcarpet": [
           {
            "colorbar": {
             "outlinewidth": 0,
             "ticks": ""
            },
            "type": "contourcarpet"
           }
          ],
          "heatmap": [
           {
            "colorbar": {
             "outlinewidth": 0,
             "ticks": ""
            },
            "colorscale": [
             [
              0,
              "#0d0887"
             ],
             [
              0.1111111111111111,
              "#46039f"
             ],
             [
              0.2222222222222222,
              "#7201a8"
             ],
             [
              0.3333333333333333,
              "#9c179e"
             ],
             [
              0.4444444444444444,
              "#bd3786"
             ],
             [
              0.5555555555555556,
              "#d8576b"
             ],
             [
              0.6666666666666666,
              "#ed7953"
             ],
             [
              0.7777777777777778,
              "#fb9f3a"
             ],
             [
              0.8888888888888888,
              "#fdca26"
             ],
             [
              1,
              "#f0f921"
             ]
            ],
            "type": "heatmap"
           }
          ],
          "heatmapgl": [
           {
            "colorbar": {
             "outlinewidth": 0,
             "ticks": ""
            },
            "colorscale": [
             [
              0,
              "#0d0887"
             ],
             [
              0.1111111111111111,
              "#46039f"
             ],
             [
              0.2222222222222222,
              "#7201a8"
             ],
             [
              0.3333333333333333,
              "#9c179e"
             ],
             [
              0.4444444444444444,
              "#bd3786"
             ],
             [
              0.5555555555555556,
              "#d8576b"
             ],
             [
              0.6666666666666666,
              "#ed7953"
             ],
             [
              0.7777777777777778,
              "#fb9f3a"
             ],
             [
              0.8888888888888888,
              "#fdca26"
             ],
             [
              1,
              "#f0f921"
             ]
            ],
            "type": "heatmapgl"
           }
          ],
          "histogram": [
           {
            "marker": {
             "pattern": {
              "fillmode": "overlay",
              "size": 10,
              "solidity": 0.2
             }
            },
            "type": "histogram"
           }
          ],
          "histogram2d": [
           {
            "colorbar": {
             "outlinewidth": 0,
             "ticks": ""
            },
            "colorscale": [
             [
              0,
              "#0d0887"
             ],
             [
              0.1111111111111111,
              "#46039f"
             ],
             [
              0.2222222222222222,
              "#7201a8"
             ],
             [
              0.3333333333333333,
              "#9c179e"
             ],
             [
              0.4444444444444444,
              "#bd3786"
             ],
             [
              0.5555555555555556,
              "#d8576b"
             ],
             [
              0.6666666666666666,
              "#ed7953"
             ],
             [
              0.7777777777777778,
              "#fb9f3a"
             ],
             [
              0.8888888888888888,
              "#fdca26"
             ],
             [
              1,
              "#f0f921"
             ]
            ],
            "type": "histogram2d"
           }
          ],
          "histogram2dcontour": [
           {
            "colorbar": {
             "outlinewidth": 0,
             "ticks": ""
            },
            "colorscale": [
             [
              0,
              "#0d0887"
             ],
             [
              0.1111111111111111,
              "#46039f"
             ],
             [
              0.2222222222222222,
              "#7201a8"
             ],
             [
              0.3333333333333333,
              "#9c179e"
             ],
             [
              0.4444444444444444,
              "#bd3786"
             ],
             [
              0.5555555555555556,
              "#d8576b"
             ],
             [
              0.6666666666666666,
              "#ed7953"
             ],
             [
              0.7777777777777778,
              "#fb9f3a"
             ],
             [
              0.8888888888888888,
              "#fdca26"
             ],
             [
              1,
              "#f0f921"
             ]
            ],
            "type": "histogram2dcontour"
           }
          ],
          "mesh3d": [
           {
            "colorbar": {
             "outlinewidth": 0,
             "ticks": ""
            },
            "type": "mesh3d"
           }
          ],
          "parcoords": [
           {
            "line": {
             "colorbar": {
              "outlinewidth": 0,
              "ticks": ""
             }
            },
            "type": "parcoords"
           }
          ],
          "pie": [
           {
            "automargin": true,
            "type": "pie"
           }
          ],
          "scatter": [
           {
            "marker": {
             "colorbar": {
              "outlinewidth": 0,
              "ticks": ""
             }
            },
            "type": "scatter"
           }
          ],
          "scatter3d": [
           {
            "line": {
             "colorbar": {
              "outlinewidth": 0,
              "ticks": ""
             }
            },
            "marker": {
             "colorbar": {
              "outlinewidth": 0,
              "ticks": ""
             }
            },
            "type": "scatter3d"
           }
          ],
          "scattercarpet": [
           {
            "marker": {
             "colorbar": {
              "outlinewidth": 0,
              "ticks": ""
             }
            },
            "type": "scattercarpet"
           }
          ],
          "scattergeo": [
           {
            "marker": {
             "colorbar": {
              "outlinewidth": 0,
              "ticks": ""
             }
            },
            "type": "scattergeo"
           }
          ],
          "scattergl": [
           {
            "marker": {
             "colorbar": {
              "outlinewidth": 0,
              "ticks": ""
             }
            },
            "type": "scattergl"
           }
          ],
          "scattermapbox": [
           {
            "marker": {
             "colorbar": {
              "outlinewidth": 0,
              "ticks": ""
             }
            },
            "type": "scattermapbox"
           }
          ],
          "scatterpolar": [
           {
            "marker": {
             "colorbar": {
              "outlinewidth": 0,
              "ticks": ""
             }
            },
            "type": "scatterpolar"
           }
          ],
          "scatterpolargl": [
           {
            "marker": {
             "colorbar": {
              "outlinewidth": 0,
              "ticks": ""
             }
            },
            "type": "scatterpolargl"
           }
          ],
          "scatterternary": [
           {
            "marker": {
             "colorbar": {
              "outlinewidth": 0,
              "ticks": ""
             }
            },
            "type": "scatterternary"
           }
          ],
          "surface": [
           {
            "colorbar": {
             "outlinewidth": 0,
             "ticks": ""
            },
            "colorscale": [
             [
              0,
              "#0d0887"
             ],
             [
              0.1111111111111111,
              "#46039f"
             ],
             [
              0.2222222222222222,
              "#7201a8"
             ],
             [
              0.3333333333333333,
              "#9c179e"
             ],
             [
              0.4444444444444444,
              "#bd3786"
             ],
             [
              0.5555555555555556,
              "#d8576b"
             ],
             [
              0.6666666666666666,
              "#ed7953"
             ],
             [
              0.7777777777777778,
              "#fb9f3a"
             ],
             [
              0.8888888888888888,
              "#fdca26"
             ],
             [
              1,
              "#f0f921"
             ]
            ],
            "type": "surface"
           }
          ],
          "table": [
           {
            "cells": {
             "fill": {
              "color": "#EBF0F8"
             },
             "line": {
              "color": "white"
             }
            },
            "header": {
             "fill": {
              "color": "#C8D4E3"
             },
             "line": {
              "color": "white"
             }
            },
            "type": "table"
           }
          ]
         },
         "layout": {
          "annotationdefaults": {
           "arrowcolor": "#2a3f5f",
           "arrowhead": 0,
           "arrowwidth": 1
          },
          "autotypenumbers": "strict",
          "coloraxis": {
           "colorbar": {
            "outlinewidth": 0,
            "ticks": ""
           }
          },
          "colorscale": {
           "diverging": [
            [
             0,
             "#8e0152"
            ],
            [
             0.1,
             "#c51b7d"
            ],
            [
             0.2,
             "#de77ae"
            ],
            [
             0.3,
             "#f1b6da"
            ],
            [
             0.4,
             "#fde0ef"
            ],
            [
             0.5,
             "#f7f7f7"
            ],
            [
             0.6,
             "#e6f5d0"
            ],
            [
             0.7,
             "#b8e186"
            ],
            [
             0.8,
             "#7fbc41"
            ],
            [
             0.9,
             "#4d9221"
            ],
            [
             1,
             "#276419"
            ]
           ],
           "sequential": [
            [
             0,
             "#0d0887"
            ],
            [
             0.1111111111111111,
             "#46039f"
            ],
            [
             0.2222222222222222,
             "#7201a8"
            ],
            [
             0.3333333333333333,
             "#9c179e"
            ],
            [
             0.4444444444444444,
             "#bd3786"
            ],
            [
             0.5555555555555556,
             "#d8576b"
            ],
            [
             0.6666666666666666,
             "#ed7953"
            ],
            [
             0.7777777777777778,
             "#fb9f3a"
            ],
            [
             0.8888888888888888,
             "#fdca26"
            ],
            [
             1,
             "#f0f921"
            ]
           ],
           "sequentialminus": [
            [
             0,
             "#0d0887"
            ],
            [
             0.1111111111111111,
             "#46039f"
            ],
            [
             0.2222222222222222,
             "#7201a8"
            ],
            [
             0.3333333333333333,
             "#9c179e"
            ],
            [
             0.4444444444444444,
             "#bd3786"
            ],
            [
             0.5555555555555556,
             "#d8576b"
            ],
            [
             0.6666666666666666,
             "#ed7953"
            ],
            [
             0.7777777777777778,
             "#fb9f3a"
            ],
            [
             0.8888888888888888,
             "#fdca26"
            ],
            [
             1,
             "#f0f921"
            ]
           ]
          },
          "colorway": [
           "#636efa",
           "#EF553B",
           "#00cc96",
           "#ab63fa",
           "#FFA15A",
           "#19d3f3",
           "#FF6692",
           "#B6E880",
           "#FF97FF",
           "#FECB52"
          ],
          "font": {
           "color": "#2a3f5f"
          },
          "geo": {
           "bgcolor": "white",
           "lakecolor": "white",
           "landcolor": "#E5ECF6",
           "showlakes": true,
           "showland": true,
           "subunitcolor": "white"
          },
          "hoverlabel": {
           "align": "left"
          },
          "hovermode": "closest",
          "mapbox": {
           "style": "light"
          },
          "paper_bgcolor": "white",
          "plot_bgcolor": "#E5ECF6",
          "polar": {
           "angularaxis": {
            "gridcolor": "white",
            "linecolor": "white",
            "ticks": ""
           },
           "bgcolor": "#E5ECF6",
           "radialaxis": {
            "gridcolor": "white",
            "linecolor": "white",
            "ticks": ""
           }
          },
          "scene": {
           "xaxis": {
            "backgroundcolor": "#E5ECF6",
            "gridcolor": "white",
            "gridwidth": 2,
            "linecolor": "white",
            "showbackground": true,
            "ticks": "",
            "zerolinecolor": "white"
           },
           "yaxis": {
            "backgroundcolor": "#E5ECF6",
            "gridcolor": "white",
            "gridwidth": 2,
            "linecolor": "white",
            "showbackground": true,
            "ticks": "",
            "zerolinecolor": "white"
           },
           "zaxis": {
            "backgroundcolor": "#E5ECF6",
            "gridcolor": "white",
            "gridwidth": 2,
            "linecolor": "white",
            "showbackground": true,
            "ticks": "",
            "zerolinecolor": "white"
           }
          },
          "shapedefaults": {
           "line": {
            "color": "#2a3f5f"
           }
          },
          "ternary": {
           "aaxis": {
            "gridcolor": "white",
            "linecolor": "white",
            "ticks": ""
           },
           "baxis": {
            "gridcolor": "white",
            "linecolor": "white",
            "ticks": ""
           },
           "bgcolor": "#E5ECF6",
           "caxis": {
            "gridcolor": "white",
            "linecolor": "white",
            "ticks": ""
           }
          },
          "title": {
           "x": 0.05
          },
          "xaxis": {
           "automargin": true,
           "gridcolor": "white",
           "linecolor": "white",
           "ticks": "",
           "title": {
            "standoff": 15
           },
           "zerolinecolor": "white",
           "zerolinewidth": 2
          },
          "yaxis": {
           "automargin": true,
           "gridcolor": "white",
           "linecolor": "white",
           "ticks": "",
           "title": {
            "standoff": 15
           },
           "zerolinecolor": "white",
           "zerolinewidth": 2
          }
         }
        }
       }
      },
      "text/html": [
       "<div>                            <div id=\"450b4a80-8d41-424c-8ce1-ccee191ea0c1\" class=\"plotly-graph-div\" style=\"height:525px; width:100%;\"></div>            <script type=\"text/javascript\">                require([\"plotly\"], function(Plotly) {                    window.PLOTLYENV=window.PLOTLYENV || {};                                    if (document.getElementById(\"450b4a80-8d41-424c-8ce1-ccee191ea0c1\")) {                    Plotly.newPlot(                        \"450b4a80-8d41-424c-8ce1-ccee191ea0c1\",                        [{\"x\":[\"2022110701009898\",\"2022110701009897\",\"2022110701009896\",\"2022110701009895\",\"2022110703013175\",\"2022110705002746\",\"2022110703013174\",\"2022110703013173\",\"2022110703013172\",\"2022110704009293\"],\"y\":[14.0,7.0,49.0,59.0,49.0,41.0,10.0,58.0,28.0,50.0],\"type\":\"bar\"}],                        {\"template\":{\"data\":{\"bar\":[{\"error_x\":{\"color\":\"#2a3f5f\"},\"error_y\":{\"color\":\"#2a3f5f\"},\"marker\":{\"line\":{\"color\":\"#E5ECF6\",\"width\":0.5},\"pattern\":{\"fillmode\":\"overlay\",\"size\":10,\"solidity\":0.2}},\"type\":\"bar\"}],\"barpolar\":[{\"marker\":{\"line\":{\"color\":\"#E5ECF6\",\"width\":0.5},\"pattern\":{\"fillmode\":\"overlay\",\"size\":10,\"solidity\":0.2}},\"type\":\"barpolar\"}],\"carpet\":[{\"aaxis\":{\"endlinecolor\":\"#2a3f5f\",\"gridcolor\":\"white\",\"linecolor\":\"white\",\"minorgridcolor\":\"white\",\"startlinecolor\":\"#2a3f5f\"},\"baxis\":{\"endlinecolor\":\"#2a3f5f\",\"gridcolor\":\"white\",\"linecolor\":\"white\",\"minorgridcolor\":\"white\",\"startlinecolor\":\"#2a3f5f\"},\"type\":\"carpet\"}],\"choropleth\":[{\"colorbar\":{\"outlinewidth\":0,\"ticks\":\"\"},\"type\":\"choropleth\"}],\"contour\":[{\"colorbar\":{\"outlinewidth\":0,\"ticks\":\"\"},\"colorscale\":[[0.0,\"#0d0887\"],[0.1111111111111111,\"#46039f\"],[0.2222222222222222,\"#7201a8\"],[0.3333333333333333,\"#9c179e\"],[0.4444444444444444,\"#bd3786\"],[0.5555555555555556,\"#d8576b\"],[0.6666666666666666,\"#ed7953\"],[0.7777777777777778,\"#fb9f3a\"],[0.8888888888888888,\"#fdca26\"],[1.0,\"#f0f921\"]],\"type\":\"contour\"}],\"contourcarpet\":[{\"colorbar\":{\"outlinewidth\":0,\"ticks\":\"\"},\"type\":\"contourcarpet\"}],\"heatmap\":[{\"colorbar\":{\"outlinewidth\":0,\"ticks\":\"\"},\"colorscale\":[[0.0,\"#0d0887\"],[0.1111111111111111,\"#46039f\"],[0.2222222222222222,\"#7201a8\"],[0.3333333333333333,\"#9c179e\"],[0.4444444444444444,\"#bd3786\"],[0.5555555555555556,\"#d8576b\"],[0.6666666666666666,\"#ed7953\"],[0.7777777777777778,\"#fb9f3a\"],[0.8888888888888888,\"#fdca26\"],[1.0,\"#f0f921\"]],\"type\":\"heatmap\"}],\"heatmapgl\":[{\"colorbar\":{\"outlinewidth\":0,\"ticks\":\"\"},\"colorscale\":[[0.0,\"#0d0887\"],[0.1111111111111111,\"#46039f\"],[0.2222222222222222,\"#7201a8\"],[0.3333333333333333,\"#9c179e\"],[0.4444444444444444,\"#bd3786\"],[0.5555555555555556,\"#d8576b\"],[0.6666666666666666,\"#ed7953\"],[0.7777777777777778,\"#fb9f3a\"],[0.8888888888888888,\"#fdca26\"],[1.0,\"#f0f921\"]],\"type\":\"heatmapgl\"}],\"histogram\":[{\"marker\":{\"pattern\":{\"fillmode\":\"overlay\",\"size\":10,\"solidity\":0.2}},\"type\":\"histogram\"}],\"histogram2d\":[{\"colorbar\":{\"outlinewidth\":0,\"ticks\":\"\"},\"colorscale\":[[0.0,\"#0d0887\"],[0.1111111111111111,\"#46039f\"],[0.2222222222222222,\"#7201a8\"],[0.3333333333333333,\"#9c179e\"],[0.4444444444444444,\"#bd3786\"],[0.5555555555555556,\"#d8576b\"],[0.6666666666666666,\"#ed7953\"],[0.7777777777777778,\"#fb9f3a\"],[0.8888888888888888,\"#fdca26\"],[1.0,\"#f0f921\"]],\"type\":\"histogram2d\"}],\"histogram2dcontour\":[{\"colorbar\":{\"outlinewidth\":0,\"ticks\":\"\"},\"colorscale\":[[0.0,\"#0d0887\"],[0.1111111111111111,\"#46039f\"],[0.2222222222222222,\"#7201a8\"],[0.3333333333333333,\"#9c179e\"],[0.4444444444444444,\"#bd3786\"],[0.5555555555555556,\"#d8576b\"],[0.6666666666666666,\"#ed7953\"],[0.7777777777777778,\"#fb9f3a\"],[0.8888888888888888,\"#fdca26\"],[1.0,\"#f0f921\"]],\"type\":\"histogram2dcontour\"}],\"mesh3d\":[{\"colorbar\":{\"outlinewidth\":0,\"ticks\":\"\"},\"type\":\"mesh3d\"}],\"parcoords\":[{\"line\":{\"colorbar\":{\"outlinewidth\":0,\"ticks\":\"\"}},\"type\":\"parcoords\"}],\"pie\":[{\"automargin\":true,\"type\":\"pie\"}],\"scatter\":[{\"marker\":{\"colorbar\":{\"outlinewidth\":0,\"ticks\":\"\"}},\"type\":\"scatter\"}],\"scatter3d\":[{\"line\":{\"colorbar\":{\"outlinewidth\":0,\"ticks\":\"\"}},\"marker\":{\"colorbar\":{\"outlinewidth\":0,\"ticks\":\"\"}},\"type\":\"scatter3d\"}],\"scattercarpet\":[{\"marker\":{\"colorbar\":{\"outlinewidth\":0,\"ticks\":\"\"}},\"type\":\"scattercarpet\"}],\"scattergeo\":[{\"marker\":{\"colorbar\":{\"outlinewidth\":0,\"ticks\":\"\"}},\"type\":\"scattergeo\"}],\"scattergl\":[{\"marker\":{\"colorbar\":{\"outlinewidth\":0,\"ticks\":\"\"}},\"type\":\"scattergl\"}],\"scattermapbox\":[{\"marker\":{\"colorbar\":{\"outlinewidth\":0,\"ticks\":\"\"}},\"type\":\"scattermapbox\"}],\"scatterpolar\":[{\"marker\":{\"colorbar\":{\"outlinewidth\":0,\"ticks\":\"\"}},\"type\":\"scatterpolar\"}],\"scatterpolargl\":[{\"marker\":{\"colorbar\":{\"outlinewidth\":0,\"ticks\":\"\"}},\"type\":\"scatterpolargl\"}],\"scatterternary\":[{\"marker\":{\"colorbar\":{\"outlinewidth\":0,\"ticks\":\"\"}},\"type\":\"scatterternary\"}],\"surface\":[{\"colorbar\":{\"outlinewidth\":0,\"ticks\":\"\"},\"colorscale\":[[0.0,\"#0d0887\"],[0.1111111111111111,\"#46039f\"],[0.2222222222222222,\"#7201a8\"],[0.3333333333333333,\"#9c179e\"],[0.4444444444444444,\"#bd3786\"],[0.5555555555555556,\"#d8576b\"],[0.6666666666666666,\"#ed7953\"],[0.7777777777777778,\"#fb9f3a\"],[0.8888888888888888,\"#fdca26\"],[1.0,\"#f0f921\"]],\"type\":\"surface\"}],\"table\":[{\"cells\":{\"fill\":{\"color\":\"#EBF0F8\"},\"line\":{\"color\":\"white\"}},\"header\":{\"fill\":{\"color\":\"#C8D4E3\"},\"line\":{\"color\":\"white\"}},\"type\":\"table\"}]},\"layout\":{\"annotationdefaults\":{\"arrowcolor\":\"#2a3f5f\",\"arrowhead\":0,\"arrowwidth\":1},\"autotypenumbers\":\"strict\",\"coloraxis\":{\"colorbar\":{\"outlinewidth\":0,\"ticks\":\"\"}},\"colorscale\":{\"diverging\":[[0,\"#8e0152\"],[0.1,\"#c51b7d\"],[0.2,\"#de77ae\"],[0.3,\"#f1b6da\"],[0.4,\"#fde0ef\"],[0.5,\"#f7f7f7\"],[0.6,\"#e6f5d0\"],[0.7,\"#b8e186\"],[0.8,\"#7fbc41\"],[0.9,\"#4d9221\"],[1,\"#276419\"]],\"sequential\":[[0.0,\"#0d0887\"],[0.1111111111111111,\"#46039f\"],[0.2222222222222222,\"#7201a8\"],[0.3333333333333333,\"#9c179e\"],[0.4444444444444444,\"#bd3786\"],[0.5555555555555556,\"#d8576b\"],[0.6666666666666666,\"#ed7953\"],[0.7777777777777778,\"#fb9f3a\"],[0.8888888888888888,\"#fdca26\"],[1.0,\"#f0f921\"]],\"sequentialminus\":[[0.0,\"#0d0887\"],[0.1111111111111111,\"#46039f\"],[0.2222222222222222,\"#7201a8\"],[0.3333333333333333,\"#9c179e\"],[0.4444444444444444,\"#bd3786\"],[0.5555555555555556,\"#d8576b\"],[0.6666666666666666,\"#ed7953\"],[0.7777777777777778,\"#fb9f3a\"],[0.8888888888888888,\"#fdca26\"],[1.0,\"#f0f921\"]]},\"colorway\":[\"#636efa\",\"#EF553B\",\"#00cc96\",\"#ab63fa\",\"#FFA15A\",\"#19d3f3\",\"#FF6692\",\"#B6E880\",\"#FF97FF\",\"#FECB52\"],\"font\":{\"color\":\"#2a3f5f\"},\"geo\":{\"bgcolor\":\"white\",\"lakecolor\":\"white\",\"landcolor\":\"#E5ECF6\",\"showlakes\":true,\"showland\":true,\"subunitcolor\":\"white\"},\"hoverlabel\":{\"align\":\"left\"},\"hovermode\":\"closest\",\"mapbox\":{\"style\":\"light\"},\"paper_bgcolor\":\"white\",\"plot_bgcolor\":\"#E5ECF6\",\"polar\":{\"angularaxis\":{\"gridcolor\":\"white\",\"linecolor\":\"white\",\"ticks\":\"\"},\"bgcolor\":\"#E5ECF6\",\"radialaxis\":{\"gridcolor\":\"white\",\"linecolor\":\"white\",\"ticks\":\"\"}},\"scene\":{\"xaxis\":{\"backgroundcolor\":\"#E5ECF6\",\"gridcolor\":\"white\",\"gridwidth\":2,\"linecolor\":\"white\",\"showbackground\":true,\"ticks\":\"\",\"zerolinecolor\":\"white\"},\"yaxis\":{\"backgroundcolor\":\"#E5ECF6\",\"gridcolor\":\"white\",\"gridwidth\":2,\"linecolor\":\"white\",\"showbackground\":true,\"ticks\":\"\",\"zerolinecolor\":\"white\"},\"zaxis\":{\"backgroundcolor\":\"#E5ECF6\",\"gridcolor\":\"white\",\"gridwidth\":2,\"linecolor\":\"white\",\"showbackground\":true,\"ticks\":\"\",\"zerolinecolor\":\"white\"}},\"shapedefaults\":{\"line\":{\"color\":\"#2a3f5f\"}},\"ternary\":{\"aaxis\":{\"gridcolor\":\"white\",\"linecolor\":\"white\",\"ticks\":\"\"},\"baxis\":{\"gridcolor\":\"white\",\"linecolor\":\"white\",\"ticks\":\"\"},\"bgcolor\":\"#E5ECF6\",\"caxis\":{\"gridcolor\":\"white\",\"linecolor\":\"white\",\"ticks\":\"\"}},\"title\":{\"x\":0.05},\"xaxis\":{\"automargin\":true,\"gridcolor\":\"white\",\"linecolor\":\"white\",\"ticks\":\"\",\"title\":{\"standoff\":15},\"zerolinecolor\":\"white\",\"zerolinewidth\":2},\"yaxis\":{\"automargin\":true,\"gridcolor\":\"white\",\"linecolor\":\"white\",\"ticks\":\"\",\"title\":{\"standoff\":15},\"zerolinecolor\":\"white\",\"zerolinewidth\":2}}}},                        {\"responsive\": true}                    ).then(function(){\n",
       "                            \n",
       "var gd = document.getElementById('450b4a80-8d41-424c-8ce1-ccee191ea0c1');\n",
       "var x = new MutationObserver(function (mutations, observer) {{\n",
       "        var display = window.getComputedStyle(gd).display;\n",
       "        if (!display || display === 'none') {{\n",
       "            console.log([gd, 'removed!']);\n",
       "            Plotly.purge(gd);\n",
       "            observer.disconnect();\n",
       "        }}\n",
       "}});\n",
       "\n",
       "// Listen for the removal of the full notebook cells\n",
       "var notebookContainer = gd.closest('#notebook-container');\n",
       "if (notebookContainer) {{\n",
       "    x.observe(notebookContainer, {childList: true});\n",
       "}}\n",
       "\n",
       "// Listen for the clearing of the current output cell\n",
       "var outputEl = gd.closest('.output');\n",
       "if (outputEl) {{\n",
       "    x.observe(outputEl, {childList: true});\n",
       "}}\n",
       "\n",
       "                        })                };                });            </script>        </div>"
      ]
     },
     "metadata": {},
     "output_type": "display_data"
    }
   ],
   "source": [
    "contract = list(df['Contract No'][0:10])\n",
    "buyer=list(df['Buyer Broker'][0:10])\n",
    "\n",
    "import plotly.graph_objects as go\n",
    "\n",
    "fig =go.Figure([go.Bar(x=contract, y=buyer)])\n",
    "fig.show()"
   ]
  },
  {
   "cell_type": "code",
   "execution_count": 14,
   "id": "29b2bba9",
   "metadata": {},
   "outputs": [
    {
     "data": {
      "application/vnd.plotly.v1+json": {
       "config": {
        "plotlyServerURL": "https://plot.ly"
       },
       "data": [
        {
         "labels": [
          "2022110701009898",
          "2022110701009897",
          "2022110701009896",
          "2022110701009895",
          "2022110703013175",
          "2022110705002746",
          "2022110703013174",
          "2022110703013173",
          "2022110703013172",
          "2022110704009293"
         ],
         "type": "pie",
         "values": [
          14,
          7,
          49,
          59,
          49,
          41,
          10,
          58,
          28,
          50
         ]
        }
       ],
       "layout": {
        "template": {
         "data": {
          "bar": [
           {
            "error_x": {
             "color": "#2a3f5f"
            },
            "error_y": {
             "color": "#2a3f5f"
            },
            "marker": {
             "line": {
              "color": "#E5ECF6",
              "width": 0.5
             },
             "pattern": {
              "fillmode": "overlay",
              "size": 10,
              "solidity": 0.2
             }
            },
            "type": "bar"
           }
          ],
          "barpolar": [
           {
            "marker": {
             "line": {
              "color": "#E5ECF6",
              "width": 0.5
             },
             "pattern": {
              "fillmode": "overlay",
              "size": 10,
              "solidity": 0.2
             }
            },
            "type": "barpolar"
           }
          ],
          "carpet": [
           {
            "aaxis": {
             "endlinecolor": "#2a3f5f",
             "gridcolor": "white",
             "linecolor": "white",
             "minorgridcolor": "white",
             "startlinecolor": "#2a3f5f"
            },
            "baxis": {
             "endlinecolor": "#2a3f5f",
             "gridcolor": "white",
             "linecolor": "white",
             "minorgridcolor": "white",
             "startlinecolor": "#2a3f5f"
            },
            "type": "carpet"
           }
          ],
          "choropleth": [
           {
            "colorbar": {
             "outlinewidth": 0,
             "ticks": ""
            },
            "type": "choropleth"
           }
          ],
          "contour": [
           {
            "colorbar": {
             "outlinewidth": 0,
             "ticks": ""
            },
            "colorscale": [
             [
              0,
              "#0d0887"
             ],
             [
              0.1111111111111111,
              "#46039f"
             ],
             [
              0.2222222222222222,
              "#7201a8"
             ],
             [
              0.3333333333333333,
              "#9c179e"
             ],
             [
              0.4444444444444444,
              "#bd3786"
             ],
             [
              0.5555555555555556,
              "#d8576b"
             ],
             [
              0.6666666666666666,
              "#ed7953"
             ],
             [
              0.7777777777777778,
              "#fb9f3a"
             ],
             [
              0.8888888888888888,
              "#fdca26"
             ],
             [
              1,
              "#f0f921"
             ]
            ],
            "type": "contour"
           }
          ],
          "contourcarpet": [
           {
            "colorbar": {
             "outlinewidth": 0,
             "ticks": ""
            },
            "type": "contourcarpet"
           }
          ],
          "heatmap": [
           {
            "colorbar": {
             "outlinewidth": 0,
             "ticks": ""
            },
            "colorscale": [
             [
              0,
              "#0d0887"
             ],
             [
              0.1111111111111111,
              "#46039f"
             ],
             [
              0.2222222222222222,
              "#7201a8"
             ],
             [
              0.3333333333333333,
              "#9c179e"
             ],
             [
              0.4444444444444444,
              "#bd3786"
             ],
             [
              0.5555555555555556,
              "#d8576b"
             ],
             [
              0.6666666666666666,
              "#ed7953"
             ],
             [
              0.7777777777777778,
              "#fb9f3a"
             ],
             [
              0.8888888888888888,
              "#fdca26"
             ],
             [
              1,
              "#f0f921"
             ]
            ],
            "type": "heatmap"
           }
          ],
          "heatmapgl": [
           {
            "colorbar": {
             "outlinewidth": 0,
             "ticks": ""
            },
            "colorscale": [
             [
              0,
              "#0d0887"
             ],
             [
              0.1111111111111111,
              "#46039f"
             ],
             [
              0.2222222222222222,
              "#7201a8"
             ],
             [
              0.3333333333333333,
              "#9c179e"
             ],
             [
              0.4444444444444444,
              "#bd3786"
             ],
             [
              0.5555555555555556,
              "#d8576b"
             ],
             [
              0.6666666666666666,
              "#ed7953"
             ],
             [
              0.7777777777777778,
              "#fb9f3a"
             ],
             [
              0.8888888888888888,
              "#fdca26"
             ],
             [
              1,
              "#f0f921"
             ]
            ],
            "type": "heatmapgl"
           }
          ],
          "histogram": [
           {
            "marker": {
             "pattern": {
              "fillmode": "overlay",
              "size": 10,
              "solidity": 0.2
             }
            },
            "type": "histogram"
           }
          ],
          "histogram2d": [
           {
            "colorbar": {
             "outlinewidth": 0,
             "ticks": ""
            },
            "colorscale": [
             [
              0,
              "#0d0887"
             ],
             [
              0.1111111111111111,
              "#46039f"
             ],
             [
              0.2222222222222222,
              "#7201a8"
             ],
             [
              0.3333333333333333,
              "#9c179e"
             ],
             [
              0.4444444444444444,
              "#bd3786"
             ],
             [
              0.5555555555555556,
              "#d8576b"
             ],
             [
              0.6666666666666666,
              "#ed7953"
             ],
             [
              0.7777777777777778,
              "#fb9f3a"
             ],
             [
              0.8888888888888888,
              "#fdca26"
             ],
             [
              1,
              "#f0f921"
             ]
            ],
            "type": "histogram2d"
           }
          ],
          "histogram2dcontour": [
           {
            "colorbar": {
             "outlinewidth": 0,
             "ticks": ""
            },
            "colorscale": [
             [
              0,
              "#0d0887"
             ],
             [
              0.1111111111111111,
              "#46039f"
             ],
             [
              0.2222222222222222,
              "#7201a8"
             ],
             [
              0.3333333333333333,
              "#9c179e"
             ],
             [
              0.4444444444444444,
              "#bd3786"
             ],
             [
              0.5555555555555556,
              "#d8576b"
             ],
             [
              0.6666666666666666,
              "#ed7953"
             ],
             [
              0.7777777777777778,
              "#fb9f3a"
             ],
             [
              0.8888888888888888,
              "#fdca26"
             ],
             [
              1,
              "#f0f921"
             ]
            ],
            "type": "histogram2dcontour"
           }
          ],
          "mesh3d": [
           {
            "colorbar": {
             "outlinewidth": 0,
             "ticks": ""
            },
            "type": "mesh3d"
           }
          ],
          "parcoords": [
           {
            "line": {
             "colorbar": {
              "outlinewidth": 0,
              "ticks": ""
             }
            },
            "type": "parcoords"
           }
          ],
          "pie": [
           {
            "automargin": true,
            "type": "pie"
           }
          ],
          "scatter": [
           {
            "marker": {
             "colorbar": {
              "outlinewidth": 0,
              "ticks": ""
             }
            },
            "type": "scatter"
           }
          ],
          "scatter3d": [
           {
            "line": {
             "colorbar": {
              "outlinewidth": 0,
              "ticks": ""
             }
            },
            "marker": {
             "colorbar": {
              "outlinewidth": 0,
              "ticks": ""
             }
            },
            "type": "scatter3d"
           }
          ],
          "scattercarpet": [
           {
            "marker": {
             "colorbar": {
              "outlinewidth": 0,
              "ticks": ""
             }
            },
            "type": "scattercarpet"
           }
          ],
          "scattergeo": [
           {
            "marker": {
             "colorbar": {
              "outlinewidth": 0,
              "ticks": ""
             }
            },
            "type": "scattergeo"
           }
          ],
          "scattergl": [
           {
            "marker": {
             "colorbar": {
              "outlinewidth": 0,
              "ticks": ""
             }
            },
            "type": "scattergl"
           }
          ],
          "scattermapbox": [
           {
            "marker": {
             "colorbar": {
              "outlinewidth": 0,
              "ticks": ""
             }
            },
            "type": "scattermapbox"
           }
          ],
          "scatterpolar": [
           {
            "marker": {
             "colorbar": {
              "outlinewidth": 0,
              "ticks": ""
             }
            },
            "type": "scatterpolar"
           }
          ],
          "scatterpolargl": [
           {
            "marker": {
             "colorbar": {
              "outlinewidth": 0,
              "ticks": ""
             }
            },
            "type": "scatterpolargl"
           }
          ],
          "scatterternary": [
           {
            "marker": {
             "colorbar": {
              "outlinewidth": 0,
              "ticks": ""
             }
            },
            "type": "scatterternary"
           }
          ],
          "surface": [
           {
            "colorbar": {
             "outlinewidth": 0,
             "ticks": ""
            },
            "colorscale": [
             [
              0,
              "#0d0887"
             ],
             [
              0.1111111111111111,
              "#46039f"
             ],
             [
              0.2222222222222222,
              "#7201a8"
             ],
             [
              0.3333333333333333,
              "#9c179e"
             ],
             [
              0.4444444444444444,
              "#bd3786"
             ],
             [
              0.5555555555555556,
              "#d8576b"
             ],
             [
              0.6666666666666666,
              "#ed7953"
             ],
             [
              0.7777777777777778,
              "#fb9f3a"
             ],
             [
              0.8888888888888888,
              "#fdca26"
             ],
             [
              1,
              "#f0f921"
             ]
            ],
            "type": "surface"
           }
          ],
          "table": [
           {
            "cells": {
             "fill": {
              "color": "#EBF0F8"
             },
             "line": {
              "color": "white"
             }
            },
            "header": {
             "fill": {
              "color": "#C8D4E3"
             },
             "line": {
              "color": "white"
             }
            },
            "type": "table"
           }
          ]
         },
         "layout": {
          "annotationdefaults": {
           "arrowcolor": "#2a3f5f",
           "arrowhead": 0,
           "arrowwidth": 1
          },
          "autotypenumbers": "strict",
          "coloraxis": {
           "colorbar": {
            "outlinewidth": 0,
            "ticks": ""
           }
          },
          "colorscale": {
           "diverging": [
            [
             0,
             "#8e0152"
            ],
            [
             0.1,
             "#c51b7d"
            ],
            [
             0.2,
             "#de77ae"
            ],
            [
             0.3,
             "#f1b6da"
            ],
            [
             0.4,
             "#fde0ef"
            ],
            [
             0.5,
             "#f7f7f7"
            ],
            [
             0.6,
             "#e6f5d0"
            ],
            [
             0.7,
             "#b8e186"
            ],
            [
             0.8,
             "#7fbc41"
            ],
            [
             0.9,
             "#4d9221"
            ],
            [
             1,
             "#276419"
            ]
           ],
           "sequential": [
            [
             0,
             "#0d0887"
            ],
            [
             0.1111111111111111,
             "#46039f"
            ],
            [
             0.2222222222222222,
             "#7201a8"
            ],
            [
             0.3333333333333333,
             "#9c179e"
            ],
            [
             0.4444444444444444,
             "#bd3786"
            ],
            [
             0.5555555555555556,
             "#d8576b"
            ],
            [
             0.6666666666666666,
             "#ed7953"
            ],
            [
             0.7777777777777778,
             "#fb9f3a"
            ],
            [
             0.8888888888888888,
             "#fdca26"
            ],
            [
             1,
             "#f0f921"
            ]
           ],
           "sequentialminus": [
            [
             0,
             "#0d0887"
            ],
            [
             0.1111111111111111,
             "#46039f"
            ],
            [
             0.2222222222222222,
             "#7201a8"
            ],
            [
             0.3333333333333333,
             "#9c179e"
            ],
            [
             0.4444444444444444,
             "#bd3786"
            ],
            [
             0.5555555555555556,
             "#d8576b"
            ],
            [
             0.6666666666666666,
             "#ed7953"
            ],
            [
             0.7777777777777778,
             "#fb9f3a"
            ],
            [
             0.8888888888888888,
             "#fdca26"
            ],
            [
             1,
             "#f0f921"
            ]
           ]
          },
          "colorway": [
           "#636efa",
           "#EF553B",
           "#00cc96",
           "#ab63fa",
           "#FFA15A",
           "#19d3f3",
           "#FF6692",
           "#B6E880",
           "#FF97FF",
           "#FECB52"
          ],
          "font": {
           "color": "#2a3f5f"
          },
          "geo": {
           "bgcolor": "white",
           "lakecolor": "white",
           "landcolor": "#E5ECF6",
           "showlakes": true,
           "showland": true,
           "subunitcolor": "white"
          },
          "hoverlabel": {
           "align": "left"
          },
          "hovermode": "closest",
          "mapbox": {
           "style": "light"
          },
          "paper_bgcolor": "white",
          "plot_bgcolor": "#E5ECF6",
          "polar": {
           "angularaxis": {
            "gridcolor": "white",
            "linecolor": "white",
            "ticks": ""
           },
           "bgcolor": "#E5ECF6",
           "radialaxis": {
            "gridcolor": "white",
            "linecolor": "white",
            "ticks": ""
           }
          },
          "scene": {
           "xaxis": {
            "backgroundcolor": "#E5ECF6",
            "gridcolor": "white",
            "gridwidth": 2,
            "linecolor": "white",
            "showbackground": true,
            "ticks": "",
            "zerolinecolor": "white"
           },
           "yaxis": {
            "backgroundcolor": "#E5ECF6",
            "gridcolor": "white",
            "gridwidth": 2,
            "linecolor": "white",
            "showbackground": true,
            "ticks": "",
            "zerolinecolor": "white"
           },
           "zaxis": {
            "backgroundcolor": "#E5ECF6",
            "gridcolor": "white",
            "gridwidth": 2,
            "linecolor": "white",
            "showbackground": true,
            "ticks": "",
            "zerolinecolor": "white"
           }
          },
          "shapedefaults": {
           "line": {
            "color": "#2a3f5f"
           }
          },
          "ternary": {
           "aaxis": {
            "gridcolor": "white",
            "linecolor": "white",
            "ticks": ""
           },
           "baxis": {
            "gridcolor": "white",
            "linecolor": "white",
            "ticks": ""
           },
           "bgcolor": "#E5ECF6",
           "caxis": {
            "gridcolor": "white",
            "linecolor": "white",
            "ticks": ""
           }
          },
          "title": {
           "x": 0.05
          },
          "xaxis": {
           "automargin": true,
           "gridcolor": "white",
           "linecolor": "white",
           "ticks": "",
           "title": {
            "standoff": 15
           },
           "zerolinecolor": "white",
           "zerolinewidth": 2
          },
          "yaxis": {
           "automargin": true,
           "gridcolor": "white",
           "linecolor": "white",
           "ticks": "",
           "title": {
            "standoff": 15
           },
           "zerolinecolor": "white",
           "zerolinewidth": 2
          }
         }
        }
       }
      },
      "text/html": [
       "<div>                            <div id=\"ae88e1e0-6791-4fb4-9358-8ed298bfd376\" class=\"plotly-graph-div\" style=\"height:525px; width:100%;\"></div>            <script type=\"text/javascript\">                require([\"plotly\"], function(Plotly) {                    window.PLOTLYENV=window.PLOTLYENV || {};                                    if (document.getElementById(\"ae88e1e0-6791-4fb4-9358-8ed298bfd376\")) {                    Plotly.newPlot(                        \"ae88e1e0-6791-4fb4-9358-8ed298bfd376\",                        [{\"labels\":[\"2022110701009898\",\"2022110701009897\",\"2022110701009896\",\"2022110701009895\",\"2022110703013175\",\"2022110705002746\",\"2022110703013174\",\"2022110703013173\",\"2022110703013172\",\"2022110704009293\"],\"values\":[14.0,7.0,49.0,59.0,49.0,41.0,10.0,58.0,28.0,50.0],\"type\":\"pie\"}],                        {\"template\":{\"data\":{\"bar\":[{\"error_x\":{\"color\":\"#2a3f5f\"},\"error_y\":{\"color\":\"#2a3f5f\"},\"marker\":{\"line\":{\"color\":\"#E5ECF6\",\"width\":0.5},\"pattern\":{\"fillmode\":\"overlay\",\"size\":10,\"solidity\":0.2}},\"type\":\"bar\"}],\"barpolar\":[{\"marker\":{\"line\":{\"color\":\"#E5ECF6\",\"width\":0.5},\"pattern\":{\"fillmode\":\"overlay\",\"size\":10,\"solidity\":0.2}},\"type\":\"barpolar\"}],\"carpet\":[{\"aaxis\":{\"endlinecolor\":\"#2a3f5f\",\"gridcolor\":\"white\",\"linecolor\":\"white\",\"minorgridcolor\":\"white\",\"startlinecolor\":\"#2a3f5f\"},\"baxis\":{\"endlinecolor\":\"#2a3f5f\",\"gridcolor\":\"white\",\"linecolor\":\"white\",\"minorgridcolor\":\"white\",\"startlinecolor\":\"#2a3f5f\"},\"type\":\"carpet\"}],\"choropleth\":[{\"colorbar\":{\"outlinewidth\":0,\"ticks\":\"\"},\"type\":\"choropleth\"}],\"contour\":[{\"colorbar\":{\"outlinewidth\":0,\"ticks\":\"\"},\"colorscale\":[[0.0,\"#0d0887\"],[0.1111111111111111,\"#46039f\"],[0.2222222222222222,\"#7201a8\"],[0.3333333333333333,\"#9c179e\"],[0.4444444444444444,\"#bd3786\"],[0.5555555555555556,\"#d8576b\"],[0.6666666666666666,\"#ed7953\"],[0.7777777777777778,\"#fb9f3a\"],[0.8888888888888888,\"#fdca26\"],[1.0,\"#f0f921\"]],\"type\":\"contour\"}],\"contourcarpet\":[{\"colorbar\":{\"outlinewidth\":0,\"ticks\":\"\"},\"type\":\"contourcarpet\"}],\"heatmap\":[{\"colorbar\":{\"outlinewidth\":0,\"ticks\":\"\"},\"colorscale\":[[0.0,\"#0d0887\"],[0.1111111111111111,\"#46039f\"],[0.2222222222222222,\"#7201a8\"],[0.3333333333333333,\"#9c179e\"],[0.4444444444444444,\"#bd3786\"],[0.5555555555555556,\"#d8576b\"],[0.6666666666666666,\"#ed7953\"],[0.7777777777777778,\"#fb9f3a\"],[0.8888888888888888,\"#fdca26\"],[1.0,\"#f0f921\"]],\"type\":\"heatmap\"}],\"heatmapgl\":[{\"colorbar\":{\"outlinewidth\":0,\"ticks\":\"\"},\"colorscale\":[[0.0,\"#0d0887\"],[0.1111111111111111,\"#46039f\"],[0.2222222222222222,\"#7201a8\"],[0.3333333333333333,\"#9c179e\"],[0.4444444444444444,\"#bd3786\"],[0.5555555555555556,\"#d8576b\"],[0.6666666666666666,\"#ed7953\"],[0.7777777777777778,\"#fb9f3a\"],[0.8888888888888888,\"#fdca26\"],[1.0,\"#f0f921\"]],\"type\":\"heatmapgl\"}],\"histogram\":[{\"marker\":{\"pattern\":{\"fillmode\":\"overlay\",\"size\":10,\"solidity\":0.2}},\"type\":\"histogram\"}],\"histogram2d\":[{\"colorbar\":{\"outlinewidth\":0,\"ticks\":\"\"},\"colorscale\":[[0.0,\"#0d0887\"],[0.1111111111111111,\"#46039f\"],[0.2222222222222222,\"#7201a8\"],[0.3333333333333333,\"#9c179e\"],[0.4444444444444444,\"#bd3786\"],[0.5555555555555556,\"#d8576b\"],[0.6666666666666666,\"#ed7953\"],[0.7777777777777778,\"#fb9f3a\"],[0.8888888888888888,\"#fdca26\"],[1.0,\"#f0f921\"]],\"type\":\"histogram2d\"}],\"histogram2dcontour\":[{\"colorbar\":{\"outlinewidth\":0,\"ticks\":\"\"},\"colorscale\":[[0.0,\"#0d0887\"],[0.1111111111111111,\"#46039f\"],[0.2222222222222222,\"#7201a8\"],[0.3333333333333333,\"#9c179e\"],[0.4444444444444444,\"#bd3786\"],[0.5555555555555556,\"#d8576b\"],[0.6666666666666666,\"#ed7953\"],[0.7777777777777778,\"#fb9f3a\"],[0.8888888888888888,\"#fdca26\"],[1.0,\"#f0f921\"]],\"type\":\"histogram2dcontour\"}],\"mesh3d\":[{\"colorbar\":{\"outlinewidth\":0,\"ticks\":\"\"},\"type\":\"mesh3d\"}],\"parcoords\":[{\"line\":{\"colorbar\":{\"outlinewidth\":0,\"ticks\":\"\"}},\"type\":\"parcoords\"}],\"pie\":[{\"automargin\":true,\"type\":\"pie\"}],\"scatter\":[{\"marker\":{\"colorbar\":{\"outlinewidth\":0,\"ticks\":\"\"}},\"type\":\"scatter\"}],\"scatter3d\":[{\"line\":{\"colorbar\":{\"outlinewidth\":0,\"ticks\":\"\"}},\"marker\":{\"colorbar\":{\"outlinewidth\":0,\"ticks\":\"\"}},\"type\":\"scatter3d\"}],\"scattercarpet\":[{\"marker\":{\"colorbar\":{\"outlinewidth\":0,\"ticks\":\"\"}},\"type\":\"scattercarpet\"}],\"scattergeo\":[{\"marker\":{\"colorbar\":{\"outlinewidth\":0,\"ticks\":\"\"}},\"type\":\"scattergeo\"}],\"scattergl\":[{\"marker\":{\"colorbar\":{\"outlinewidth\":0,\"ticks\":\"\"}},\"type\":\"scattergl\"}],\"scattermapbox\":[{\"marker\":{\"colorbar\":{\"outlinewidth\":0,\"ticks\":\"\"}},\"type\":\"scattermapbox\"}],\"scatterpolar\":[{\"marker\":{\"colorbar\":{\"outlinewidth\":0,\"ticks\":\"\"}},\"type\":\"scatterpolar\"}],\"scatterpolargl\":[{\"marker\":{\"colorbar\":{\"outlinewidth\":0,\"ticks\":\"\"}},\"type\":\"scatterpolargl\"}],\"scatterternary\":[{\"marker\":{\"colorbar\":{\"outlinewidth\":0,\"ticks\":\"\"}},\"type\":\"scatterternary\"}],\"surface\":[{\"colorbar\":{\"outlinewidth\":0,\"ticks\":\"\"},\"colorscale\":[[0.0,\"#0d0887\"],[0.1111111111111111,\"#46039f\"],[0.2222222222222222,\"#7201a8\"],[0.3333333333333333,\"#9c179e\"],[0.4444444444444444,\"#bd3786\"],[0.5555555555555556,\"#d8576b\"],[0.6666666666666666,\"#ed7953\"],[0.7777777777777778,\"#fb9f3a\"],[0.8888888888888888,\"#fdca26\"],[1.0,\"#f0f921\"]],\"type\":\"surface\"}],\"table\":[{\"cells\":{\"fill\":{\"color\":\"#EBF0F8\"},\"line\":{\"color\":\"white\"}},\"header\":{\"fill\":{\"color\":\"#C8D4E3\"},\"line\":{\"color\":\"white\"}},\"type\":\"table\"}]},\"layout\":{\"annotationdefaults\":{\"arrowcolor\":\"#2a3f5f\",\"arrowhead\":0,\"arrowwidth\":1},\"autotypenumbers\":\"strict\",\"coloraxis\":{\"colorbar\":{\"outlinewidth\":0,\"ticks\":\"\"}},\"colorscale\":{\"diverging\":[[0,\"#8e0152\"],[0.1,\"#c51b7d\"],[0.2,\"#de77ae\"],[0.3,\"#f1b6da\"],[0.4,\"#fde0ef\"],[0.5,\"#f7f7f7\"],[0.6,\"#e6f5d0\"],[0.7,\"#b8e186\"],[0.8,\"#7fbc41\"],[0.9,\"#4d9221\"],[1,\"#276419\"]],\"sequential\":[[0.0,\"#0d0887\"],[0.1111111111111111,\"#46039f\"],[0.2222222222222222,\"#7201a8\"],[0.3333333333333333,\"#9c179e\"],[0.4444444444444444,\"#bd3786\"],[0.5555555555555556,\"#d8576b\"],[0.6666666666666666,\"#ed7953\"],[0.7777777777777778,\"#fb9f3a\"],[0.8888888888888888,\"#fdca26\"],[1.0,\"#f0f921\"]],\"sequentialminus\":[[0.0,\"#0d0887\"],[0.1111111111111111,\"#46039f\"],[0.2222222222222222,\"#7201a8\"],[0.3333333333333333,\"#9c179e\"],[0.4444444444444444,\"#bd3786\"],[0.5555555555555556,\"#d8576b\"],[0.6666666666666666,\"#ed7953\"],[0.7777777777777778,\"#fb9f3a\"],[0.8888888888888888,\"#fdca26\"],[1.0,\"#f0f921\"]]},\"colorway\":[\"#636efa\",\"#EF553B\",\"#00cc96\",\"#ab63fa\",\"#FFA15A\",\"#19d3f3\",\"#FF6692\",\"#B6E880\",\"#FF97FF\",\"#FECB52\"],\"font\":{\"color\":\"#2a3f5f\"},\"geo\":{\"bgcolor\":\"white\",\"lakecolor\":\"white\",\"landcolor\":\"#E5ECF6\",\"showlakes\":true,\"showland\":true,\"subunitcolor\":\"white\"},\"hoverlabel\":{\"align\":\"left\"},\"hovermode\":\"closest\",\"mapbox\":{\"style\":\"light\"},\"paper_bgcolor\":\"white\",\"plot_bgcolor\":\"#E5ECF6\",\"polar\":{\"angularaxis\":{\"gridcolor\":\"white\",\"linecolor\":\"white\",\"ticks\":\"\"},\"bgcolor\":\"#E5ECF6\",\"radialaxis\":{\"gridcolor\":\"white\",\"linecolor\":\"white\",\"ticks\":\"\"}},\"scene\":{\"xaxis\":{\"backgroundcolor\":\"#E5ECF6\",\"gridcolor\":\"white\",\"gridwidth\":2,\"linecolor\":\"white\",\"showbackground\":true,\"ticks\":\"\",\"zerolinecolor\":\"white\"},\"yaxis\":{\"backgroundcolor\":\"#E5ECF6\",\"gridcolor\":\"white\",\"gridwidth\":2,\"linecolor\":\"white\",\"showbackground\":true,\"ticks\":\"\",\"zerolinecolor\":\"white\"},\"zaxis\":{\"backgroundcolor\":\"#E5ECF6\",\"gridcolor\":\"white\",\"gridwidth\":2,\"linecolor\":\"white\",\"showbackground\":true,\"ticks\":\"\",\"zerolinecolor\":\"white\"}},\"shapedefaults\":{\"line\":{\"color\":\"#2a3f5f\"}},\"ternary\":{\"aaxis\":{\"gridcolor\":\"white\",\"linecolor\":\"white\",\"ticks\":\"\"},\"baxis\":{\"gridcolor\":\"white\",\"linecolor\":\"white\",\"ticks\":\"\"},\"bgcolor\":\"#E5ECF6\",\"caxis\":{\"gridcolor\":\"white\",\"linecolor\":\"white\",\"ticks\":\"\"}},\"title\":{\"x\":0.05},\"xaxis\":{\"automargin\":true,\"gridcolor\":\"white\",\"linecolor\":\"white\",\"ticks\":\"\",\"title\":{\"standoff\":15},\"zerolinecolor\":\"white\",\"zerolinewidth\":2},\"yaxis\":{\"automargin\":true,\"gridcolor\":\"white\",\"linecolor\":\"white\",\"ticks\":\"\",\"title\":{\"standoff\":15},\"zerolinecolor\":\"white\",\"zerolinewidth\":2}}}},                        {\"responsive\": true}                    ).then(function(){\n",
       "                            \n",
       "var gd = document.getElementById('ae88e1e0-6791-4fb4-9358-8ed298bfd376');\n",
       "var x = new MutationObserver(function (mutations, observer) {{\n",
       "        var display = window.getComputedStyle(gd).display;\n",
       "        if (!display || display === 'none') {{\n",
       "            console.log([gd, 'removed!']);\n",
       "            Plotly.purge(gd);\n",
       "            observer.disconnect();\n",
       "        }}\n",
       "}});\n",
       "\n",
       "// Listen for the removal of the full notebook cells\n",
       "var notebookContainer = gd.closest('#notebook-container');\n",
       "if (notebookContainer) {{\n",
       "    x.observe(notebookContainer, {childList: true});\n",
       "}}\n",
       "\n",
       "// Listen for the clearing of the current output cell\n",
       "var outputEl = gd.closest('.output');\n",
       "if (outputEl) {{\n",
       "    x.observe(outputEl, {childList: true});\n",
       "}}\n",
       "\n",
       "                        })                };                });            </script>        </div>"
      ]
     },
     "metadata": {},
     "output_type": "display_data"
    }
   ],
   "source": [
    "contract = list(df['Contract No'][0:10])\n",
    "buyer=list(df['Buyer Broker'][0:10])\n",
    "\n",
    "import plotly.graph_objects as go\n",
    "\n",
    "fig = go.Figure(data=[go.Pie(labels=contract, values=buyer)])\n",
    "fig.show()"
   ]
  },
  {
   "cell_type": "code",
   "execution_count": null,
   "id": "316be1a2",
   "metadata": {},
   "outputs": [],
   "source": []
  }
 ],
 "metadata": {
  "kernelspec": {
   "display_name": "Python 3 (ipykernel)",
   "language": "python",
   "name": "python3"
  },
  "language_info": {
   "codemirror_mode": {
    "name": "ipython",
    "version": 3
   },
   "file_extension": ".py",
   "mimetype": "text/x-python",
   "name": "python",
   "nbconvert_exporter": "python",
   "pygments_lexer": "ipython3",
   "version": "3.9.12"
  }
 },
 "nbformat": 4,
 "nbformat_minor": 5
}
