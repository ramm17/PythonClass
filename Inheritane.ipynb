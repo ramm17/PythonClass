{
 "cells": [
  {
   "cell_type": "code",
   "execution_count": null,
   "id": "12185dc5",
   "metadata": {},
   "outputs": [],
   "source": [
    "class A:      #Parent class\n",
    "    pass\n",
    "\n",
    "class B(A):   #Child class\n",
    "    pass\n",
    "\n",
    "obj=B()"
   ]
  },
  {
   "cell_type": "code",
   "execution_count": 1,
   "id": "b469c735",
   "metadata": {},
   "outputs": [
    {
     "name": "stdout",
     "output_type": "stream",
     "text": [
      "Enter name=Ram\n",
      "Enter age=24\n",
      "Hello I am Ram. I am 24.\n"
     ]
    }
   ],
   "source": [
    "class A:\n",
    "    def __init__(self):\n",
    "        self.name=input(\"Enter name=\")\n",
    "        self.age=int(input(\"Enter age=\"))\n",
    "        \n",
    "class B(A):\n",
    "    def info(self):\n",
    "        print(f\"Hello I am {self.name}. I am {self.age}.\")\n",
    "        \n",
    "obj=B()\n",
    "obj.info()\n",
    "    "
   ]
  },
  {
   "cell_type": "code",
   "execution_count": 2,
   "id": "67b453e1",
   "metadata": {},
   "outputs": [
    {
     "name": "stdout",
     "output_type": "stream",
     "text": [
      "Enter name=Ramm\n",
      "Enter age=22\n",
      "Hello I am Ramm. I am 22.\n",
      "('Ramm', 22)\n"
     ]
    }
   ],
   "source": [
    "class A:\n",
    "    def __init__(self):\n",
    "        self.name=input(\"Enter name=\")\n",
    "        self.age=int(input(\"Enter age=\"))\n",
    "        \n",
    "    def infos(self):\n",
    "        return self.name,self.age\n",
    "        \n",
    "class B(A):\n",
    "    def info(self):\n",
    "        print(f\"Hello I am {self.name}. I am {self.age}.\")\n",
    "        \n",
    "obj=B()\n",
    "obj.info()\n",
    "print(obj.infos())"
   ]
  },
  {
   "cell_type": "code",
   "execution_count": 5,
   "id": "16776fe3",
   "metadata": {},
   "outputs": [
    {
     "name": "stdout",
     "output_type": "stream",
     "text": [
      "Enter name=ram\n",
      "Enter age=22\n",
      "Enter name=rr\n",
      "Enter age=3\n",
      "Hello I am ram. I am 22.\n",
      "('ram', 22)\n"
     ]
    }
   ],
   "source": [
    "class A:\n",
    "    def __init__(self):\n",
    "        self.name=input(\"Enter name=\")\n",
    "        self.age=int(input(\"Enter age=\"))\n",
    "        \n",
    "    def infos(self):\n",
    "        return self.name,self.age\n",
    "        \n",
    "class B(A):\n",
    "    def info(self):\n",
    "        print(f\"Hello I am {self.name}. I am {self.age}.\")\n",
    "        \n",
    "obj=B()\n",
    "obj1=A()\n",
    "obj.info()\n",
    "print(obj.infos())"
   ]
  },
  {
   "cell_type": "code",
   "execution_count": 4,
   "id": "8ded9098",
   "metadata": {},
   "outputs": [
    {
     "name": "stdout",
     "output_type": "stream",
     "text": [
      "Enter name=RAMM\n",
      "Enter age=22\n",
      "Hello I am RAMM. I am 22.\n",
      "('RAMM', 22)\n"
     ]
    }
   ],
   "source": [
    "class A:\n",
    "    def __init__(self,name,age):\n",
    "        self.name=name\n",
    "        self.age=age\n",
    "        \n",
    "    def infos(self):\n",
    "        return self.name,self.age\n",
    "        \n",
    "class B(A):\n",
    "    def info(self):\n",
    "        print(f\"Hello I am {self.name}. I am {self.age}.\")\n",
    "        \n",
    "name=input(\"Enter name=\")\n",
    "age=int(input(\"Enter age=\"))\n",
    "\n",
    "obj=B(name,age)\n",
    "obj.info()\n",
    "print(obj.infos())"
   ]
  },
  {
   "cell_type": "code",
   "execution_count": null,
   "id": "4ba2e824",
   "metadata": {},
   "outputs": [],
   "source": [
    "class A:\n",
    "    def __init__(self,name,age):\n",
    "        self.name=name\n",
    "        self.age=age\n",
    "        \n",
    "    def infos(self):\n",
    "        return self.name,self.age\n",
    "        \n",
    "class B(A):\n",
    "    def __init__(self,name,age,add):\n",
    "        self.add=add\n",
    "        A.__init__(self,name,age)\n",
    "        \n",
    "    def info(self):\n",
    "        print(f\"Hello I am {self.name}. I am {self.age}.\")\n",
    "        \n",
    "name=input(\"Enter name=\")\n",
    "age=int(input(\"Enter age=\"))\n",
    "add=input(\"Enter address=\")\n",
    "\n",
    "obj=B(name,age)\n",
    "obj.info()\n",
    "print(obj.infos())"
   ]
  },
  {
   "cell_type": "code",
   "execution_count": null,
   "id": "a2bbb37b",
   "metadata": {},
   "outputs": [],
   "source": []
  },
  {
   "cell_type": "code",
   "execution_count": null,
   "id": "37c648eb",
   "metadata": {},
   "outputs": [],
   "source": [
    "class A:\n",
    "    pass\n",
    "\n",
    "class B(A):\n",
    "    pass\n",
    "\n",
    "class C(B):\n",
    "    pass\n",
    "\n",
    "obj=C()"
   ]
  },
  {
   "cell_type": "code",
   "execution_count": null,
   "id": "7a74996d",
   "metadata": {},
   "outputs": [],
   "source": [
    "class A:\n",
    "    pass\n",
    "\n",
    "class B:\n",
    "    pass\n",
    "\n",
    "class C(A,B):\n",
    "    pass\n",
    "\n",
    "obj=C()"
   ]
  },
  {
   "cell_type": "code",
   "execution_count": 8,
   "id": "b2b54f7f",
   "metadata": {},
   "outputs": [
    {
     "name": "stdout",
     "output_type": "stream",
     "text": [
      "Enter name=RAMM\n",
      "Enter age=22\n",
      "Enter address=Dhn\n",
      "Hello I am RAMM. I am 22.\n",
      "('RAMM', 22, 'Dhn')\n"
     ]
    }
   ],
   "source": [
    "\n",
    "class A:\n",
    "    def __init__(self,name):\n",
    "        self.name=name\n",
    "        \n",
    "    def infos(self):\n",
    "        return self.name,self.age,self.add\n",
    "        \n",
    "class B(A):\n",
    "    def __init__(self,name,age):\n",
    "        self.age=age\n",
    "        A.__init__(self,name)\n",
    "    \n",
    "class C(B):\n",
    "    def __init__(self,name,age,add):\n",
    "        self.add=add\n",
    "        B.__init__(self,name,age)\n",
    "        \n",
    "    def info(self):\n",
    "        print(f\"Hello I am {self.name}. I am {self.age}.\")\n",
    "        \n",
    "name=input(\"Enter name=\")\n",
    "age=int(input(\"Enter age=\"))\n",
    "add=input(\"Enter address=\")\n",
    "\n",
    "obj=C(name,age,add)\n",
    "obj.info()\n",
    "print(obj.infos())"
   ]
  },
  {
   "cell_type": "code",
   "execution_count": 5,
   "id": "46ec9394",
   "metadata": {},
   "outputs": [
    {
     "name": "stdout",
     "output_type": "stream",
     "text": [
      "Enter add=Dhn\n",
      "Enter name=Ram\n",
      "Enter age=22\n",
      "Hello I am Ram. I am 22 from Dhn\n",
      "Ram\n"
     ]
    }
   ],
   "source": [
    "# Multiple inherit\n",
    "class A:\n",
    "    def __init__(self):\n",
    "        self.name=input(\"Enter name=\")\n",
    "        \n",
    "    def infos(self):\n",
    "        return self.name\n",
    "        \n",
    "class B:\n",
    "    def __init__(self):\n",
    "        self.age=int(input(\"Enter age=\"))\n",
    "        \n",
    "    \n",
    "class C(A,B):\n",
    "    def __init__(self):\n",
    "        self.add=input(\"Enter add=\")\n",
    "        A.__init__(self)\n",
    "        B.__init__(self)\n",
    "        \n",
    "    def info(self):\n",
    "        print(f\"Hello I am {self.name}. I am {self.age} from {self.add}.\")\n",
    "\n",
    "obj=C()\n",
    "obj.info()\n",
    "print(obj.infos())"
   ]
  },
  {
   "cell_type": "code",
   "execution_count": 7,
   "id": "718f78d7",
   "metadata": {},
   "outputs": [
    {
     "name": "stdout",
     "output_type": "stream",
     "text": [
      "Enter name=Ram\n",
      "Enter age=22\n",
      "Enter address=Dhn\n",
      "Hello I am Ram. I am 22 from Dhn.\n",
      "22\n"
     ]
    }
   ],
   "source": [
    "class A:\n",
    "    def __init__(self,name):\n",
    "        self.name=name\n",
    "        \n",
    "    def infos(self):\n",
    "        return self.age\n",
    "        \n",
    "class B:\n",
    "    def __init__(self,age):\n",
    "        self.age=age\n",
    "    \n",
    "class C(A,B):\n",
    "    def __init__(self,name,age,add):\n",
    "        self.add=add\n",
    "        B.__init__(self,age)\n",
    "        A.__init__(self,name)\n",
    "        \n",
    "    def info(self):\n",
    "        print(f\"Hello I am {self.name}. I am {self.age} from {self.add}.\")\n",
    "        \n",
    "name=input(\"Enter name=\")\n",
    "age=int(input(\"Enter age=\"))\n",
    "add=input(\"Enter address=\")\n",
    "\n",
    "obj=C(name,age,add)\n",
    "obj.info()\n",
    "print(obj.infos())"
   ]
  },
  {
   "cell_type": "code",
   "execution_count": 11,
   "id": "23dd5fc9",
   "metadata": {},
   "outputs": [
    {
     "name": "stdout",
     "output_type": "stream",
     "text": [
      "Enter name=JUJGUJ\n",
      "Enter age=76\n",
      "Enter address=JBKJ\n",
      "Hello I am JUJGUJ. I am 76 from JBKJ.\n",
      "76\n"
     ]
    }
   ],
   "source": [
    "class A:\n",
    "    def __init__(self,name):\n",
    "        self.name=name\n",
    "        \n",
    "    def infos(self):\n",
    "        return self.age\n",
    "        \n",
    "class B:\n",
    "    def __init__(self,age):\n",
    "        self.age=age\n",
    "    \n",
    "class C(A,B):\n",
    "    def __init__(self,name,age,add):\n",
    "        self.add=add\n",
    "        B.__init__(self,age)\n",
    "        A.__init__(self,name)\n",
    "        \n",
    "    def info(self):\n",
    "        print(f\"Hello I am {self.name}. I am {self.age} from {self.add}.\")\n",
    "        print(super().infos())\n",
    "       # print(A.infos(self))  specific\n",
    "        \n",
    "name=input(\"Enter name=\")\n",
    "age=int(input(\"Enter age=\"))\n",
    "add=input(\"Enter address=\")\n",
    "\n",
    "obj=C(name,age,add)\n",
    "obj.info()\n"
   ]
  },
  {
   "cell_type": "code",
   "execution_count": null,
   "id": "6e3aaba5",
   "metadata": {},
   "outputs": [],
   "source": []
  },
  {
   "cell_type": "code",
   "execution_count": null,
   "id": "f9afa108",
   "metadata": {},
   "outputs": [],
   "source": []
  },
  {
   "cell_type": "code",
   "execution_count": null,
   "id": "e404c66d",
   "metadata": {},
   "outputs": [],
   "source": []
  }
 ],
 "metadata": {
  "kernelspec": {
   "display_name": "Python 3 (ipykernel)",
   "language": "python",
   "name": "python3"
  },
  "language_info": {
   "codemirror_mode": {
    "name": "ipython",
    "version": 3
   },
   "file_extension": ".py",
   "mimetype": "text/x-python",
   "name": "python",
   "nbconvert_exporter": "python",
   "pygments_lexer": "ipython3",
   "version": "3.9.12"
  }
 },
 "nbformat": 4,
 "nbformat_minor": 5
}
