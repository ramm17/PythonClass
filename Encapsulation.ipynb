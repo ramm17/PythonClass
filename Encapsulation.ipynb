{
 "cells": [
  {
   "cell_type": "code",
   "execution_count": 3,
   "id": "7dc8c6e7",
   "metadata": {},
   "outputs": [
    {
     "name": "stdout",
     "output_type": "stream",
     "text": [
      "Ram 22 Dhn\n"
     ]
    }
   ],
   "source": [
    "# Encapsulations\n",
    "\n",
    "# Pbublic Member\n",
    "\n",
    "class Info:\n",
    "    def __init__(self,name,age,add):\n",
    "        self.name=name\n",
    "        self.age=age\n",
    "        self.add=add\n",
    "        \n",
    "obj = Info(\"Ram\",22,\"Dhn\")\n",
    "print(obj.name,obj.age,obj.add)"
   ]
  },
  {
   "cell_type": "code",
   "execution_count": 4,
   "id": "795ae86f",
   "metadata": {},
   "outputs": [
    {
     "name": "stdout",
     "output_type": "stream",
     "text": [
      "Ram 22 Dhn\n"
     ]
    }
   ],
   "source": [
    "# Protected Member\n",
    "\n",
    "class Info:\n",
    "    def __init__(self,name,age,add):\n",
    "        self._name=name\n",
    "        self._age=age\n",
    "        self._add=add\n",
    "        \n",
    "obj = Info(\"Ram\",22,\"Dhn\")\n",
    "print(obj._name,obj._age,obj._add)\n"
   ]
  },
  {
   "cell_type": "code",
   "execution_count": 5,
   "id": "19fa40da",
   "metadata": {},
   "outputs": [
    {
     "name": "stdout",
     "output_type": "stream",
     "text": [
      "Ram 22 Dhn\n"
     ]
    }
   ],
   "source": [
    "# Private Member\n",
    "\n",
    "class Info:\n",
    "    def __init__(self,name,age,add):\n",
    "        self.__name=name\n",
    "        self.__age=age\n",
    "        self.__add=add\n",
    "        \n",
    "obj = Info(\"Ram\",22,\"Dhn\")\n",
    "print(obj._Info__name,obj._Info__age,obj._Info__add)\n"
   ]
  },
  {
   "cell_type": "code",
   "execution_count": 9,
   "id": "758a8ce6",
   "metadata": {},
   "outputs": [
    {
     "name": "stdout",
     "output_type": "stream",
     "text": [
      "Enter name=gdfdf\n",
      "Enter age=56\n",
      "Enter address=ghg\n",
      "Hello I am gdfdf. I am 56 fromghg.\n",
      "gdfdf 56\n",
      "None\n"
     ]
    }
   ],
   "source": [
    "class A:\n",
    "    def __init__(self,name,age):\n",
    "        self.__name=name              #private\n",
    "        self._age=age               #protected\n",
    "        \n",
    "    def infos(self):\n",
    "        print(self.__name,self._age)\n",
    "        \n",
    "class B(A):\n",
    "    def __init__(self,name,age,add):\n",
    "        self.add=add\n",
    "        A.__init__(self,name,age)\n",
    "        \n",
    "    def info(self):\n",
    "        print(f\"Hello I am {self._A__name}. I am {self._age} from{self.add}.\")\n",
    "        \n",
    "name=input(\"Enter name=\")\n",
    "age=int(input(\"Enter age=\"))\n",
    "add=input(\"Enter address=\")\n",
    "obj=B(name,age,add)\n",
    "obj.info()\n",
    "print(obj.infos())"
   ]
  },
  {
   "cell_type": "code",
   "execution_count": 10,
   "id": "a12736bb",
   "metadata": {},
   "outputs": [
    {
     "name": "stdout",
     "output_type": "stream",
     "text": [
      "Enter name=ggg\n",
      "Enter age=56\n",
      "Enter address=gfhggh\n",
      "Hello I am ggg. I am 56 from gfhggh.\n",
      "ggg\n"
     ]
    }
   ],
   "source": [
    "class A:\n",
    "    def __init__(self,name):\n",
    "        self._name=name\n",
    "        \n",
    "    def infos(self):\n",
    "        return self._name\n",
    "        \n",
    "class B:\n",
    "    def __init__(self,age):\n",
    "        self._age=age\n",
    "    \n",
    "class C(A,B):\n",
    "    def __init__(self,name,age,add):\n",
    "        self.__add=add\n",
    "        B.__init__(self,age)\n",
    "        A.__init__(self,name)\n",
    "        \n",
    "    def info(self):\n",
    "        print(f\"Hello I am {self._name}. I am {self._age} from {self.__add}.\")\n",
    "        print(super().infos())\n",
    "       # print(A.infos(self))  specific\n",
    "        \n",
    "name=input(\"Enter name=\")\n",
    "age=int(input(\"Enter age=\"))\n",
    "add=input(\"Enter address=\")\n",
    "\n",
    "obj=C(name,age,add)\n",
    "obj.info()\n"
   ]
  },
  {
   "cell_type": "code",
   "execution_count": null,
   "id": "fecf0ca9",
   "metadata": {},
   "outputs": [],
   "source": []
  }
 ],
 "metadata": {
  "kernelspec": {
   "display_name": "Python 3 (ipykernel)",
   "language": "python",
   "name": "python3"
  },
  "language_info": {
   "codemirror_mode": {
    "name": "ipython",
    "version": 3
   },
   "file_extension": ".py",
   "mimetype": "text/x-python",
   "name": "python",
   "nbconvert_exporter": "python",
   "pygments_lexer": "ipython3",
   "version": "3.9.12"
  }
 },
 "nbformat": 4,
 "nbformat_minor": 5
}
